{
 "cells": [
  {
   "cell_type": "markdown",
   "metadata": {},
   "source": [
    "# MOwNiT \n",
    "## Laboratorium\n",
    "## Wybrane zagadnienia algebry liniowej, faktoryzacja\n",
    "### Algebra liniowa w Julii\n",
    "https://docs.julialang.org/en/v1.7/stdlib/LinearAlgebra/index.html\n"
   ]
  },
  {
   "cell_type": "code",
   "execution_count": 22,
   "metadata": {},
   "outputs": [],
   "source": [
    "using(LinearAlgebra)\n",
    "using DataFrames\n",
    "using Statistics\n",
    "using Plots\n",
    "using CSV\n",
    "using DataFrames\n",
    "using Statistics\n",
    "using LinearAlgebra\n",
    "using Polynomials\n",
    "ENV[\"COLUMNS\"] = 1000;"
   ]
  },
  {
   "cell_type": "code",
   "execution_count": 2,
   "metadata": {
    "scrolled": true
   },
   "outputs": [
    {
     "data": {
      "text/html": [
       "# 11 methods for generic function <b>factorize</b>:<ul><li> factorize(A::<b>StridedMatrix{T}</b>)<i> where T</i> in LinearAlgebra at <a href=\"file://C:/buildbot/worker/package_win64/build/usr/share/julia/stdlib/v1.7/LinearAlgebra/src/dense.jl\" target=\"_blank\">C:\\Users\\kzaja\\AppData\\Local\\Programs\\Julia-1.7.2\\share\\julia\\stdlib\\v1.7\\LinearAlgebra\\src\\dense.jl:1302</a></li> <li> factorize(A::<b>Adjoint</b>) in LinearAlgebra at <a href=\"file://C:/buildbot/worker/package_win64/build/usr/share/julia/stdlib/v1.7/LinearAlgebra/src/dense.jl\" target=\"_blank\">C:\\Users\\kzaja\\AppData\\Local\\Programs\\Julia-1.7.2\\share\\julia\\stdlib\\v1.7\\LinearAlgebra\\src\\dense.jl:1376</a></li> <li> factorize(A::<b>Transpose</b>) in LinearAlgebra at <a href=\"file://C:/buildbot/worker/package_win64/build/usr/share/julia/stdlib/v1.7/LinearAlgebra/src/dense.jl\" target=\"_blank\">C:\\Users\\kzaja\\AppData\\Local\\Programs\\Julia-1.7.2\\share\\julia\\stdlib\\v1.7\\LinearAlgebra\\src\\dense.jl:1377</a></li> <li> factorize(A::<b>LinearAlgebra.AbstractTriangular</b>) in LinearAlgebra at <a href=\"file://C:/buildbot/worker/package_win64/build/usr/share/julia/stdlib/v1.7/LinearAlgebra/src/triangular.jl\" target=\"_blank\">C:\\Users\\kzaja\\AppData\\Local\\Programs\\Julia-1.7.2\\share\\julia\\stdlib\\v1.7\\LinearAlgebra\\src\\triangular.jl:2569</a></li> <li> factorize(A::<b>Tridiagonal</b>) in LinearAlgebra at <a href=\"file://C:/buildbot/worker/package_win64/build/usr/share/julia/stdlib/v1.7/LinearAlgebra/src/lu.jl\" target=\"_blank\">C:\\Users\\kzaja\\AppData\\Local\\Programs\\Julia-1.7.2\\share\\julia\\stdlib\\v1.7\\LinearAlgebra\\src\\lu.jl:567</a></li> <li> factorize(D::<b>Diagonal</b>) in LinearAlgebra at <a href=\"file://C:/buildbot/worker/package_win64/build/usr/share/julia/stdlib/v1.7/LinearAlgebra/src/diagonal.jl\" target=\"_blank\">C:\\Users\\kzaja\\AppData\\Local\\Programs\\Julia-1.7.2\\share\\julia\\stdlib\\v1.7\\LinearAlgebra\\src\\diagonal.jl:137</a></li> <li> factorize(A::<b>Bidiagonal</b>) in LinearAlgebra at <a href=\"file://C:/buildbot/worker/package_win64/build/usr/share/julia/stdlib/v1.7/LinearAlgebra/src/bidiag.jl\" target=\"_blank\">C:\\Users\\kzaja\\AppData\\Local\\Programs\\Julia-1.7.2\\share\\julia\\stdlib\\v1.7\\LinearAlgebra\\src\\bidiag.jl:845</a></li> <li> factorize(S::<b>SymTridiagonal</b>) in LinearAlgebra at <a href=\"file://C:/buildbot/worker/package_win64/build/usr/share/julia/stdlib/v1.7/LinearAlgebra/src/ldlt.jl\" target=\"_blank\">C:\\Users\\kzaja\\AppData\\Local\\Programs\\Julia-1.7.2\\share\\julia\\stdlib\\v1.7\\LinearAlgebra\\src\\ldlt.jl:170</a></li> <li> factorize(A::<b>SparseArrays.AbstractSparseMatrixCSC</b>) in SparseArrays at <a href=\"file://C:/buildbot/worker/package_win64/build/usr/share/julia/stdlib/v1.7/SparseArrays/src/linalg.jl\" target=\"_blank\">C:\\Users\\kzaja\\AppData\\Local\\Programs\\Julia-1.7.2\\share\\julia\\stdlib\\v1.7\\SparseArrays\\src\\linalg.jl:1586</a></li> <li> factorize(A::<b>Union{Hermitian{ComplexF64, var\"#s859\"}, Hermitian{Float64, var\"#s859\"}, Symmetric{Float64, var\"#s859\"}} where var\"#s859\"<:SparseArrays.AbstractSparseMatrixCSC</b>) in SparseArrays at <a href=\"file://C:/buildbot/worker/package_win64/build/usr/share/julia/stdlib/v1.7/SparseArrays/src/linalg.jl\" target=\"_blank\">C:\\Users\\kzaja\\AppData\\Local\\Programs\\Julia-1.7.2\\share\\julia\\stdlib\\v1.7\\SparseArrays\\src\\linalg.jl:1616</a></li> <li> factorize(A::<b>Union{Hermitian{T, S}, Symmetric{T, S}} where {T, S}</b>) in LinearAlgebra at <a href=\"file://C:/buildbot/worker/package_win64/build/usr/share/julia/stdlib/v1.7/LinearAlgebra/src/symmetric.jl\" target=\"_blank\">C:\\Users\\kzaja\\AppData\\Local\\Programs\\Julia-1.7.2\\share\\julia\\stdlib\\v1.7\\LinearAlgebra\\src\\symmetric.jl:641</a></li> </ul>"
      ],
      "text/plain": [
       "# 11 methods for generic function \"factorize\":\n",
       "[1] factorize(A::StridedMatrix{T}) where T in LinearAlgebra at C:\\Users\\kzaja\\AppData\\Local\\Programs\\Julia-1.7.2\\share\\julia\\stdlib\\v1.7\\LinearAlgebra\\src\\dense.jl:1302\n",
       "[2] factorize(A::Adjoint) in LinearAlgebra at C:\\Users\\kzaja\\AppData\\Local\\Programs\\Julia-1.7.2\\share\\julia\\stdlib\\v1.7\\LinearAlgebra\\src\\dense.jl:1376\n",
       "[3] factorize(A::Transpose) in LinearAlgebra at C:\\Users\\kzaja\\AppData\\Local\\Programs\\Julia-1.7.2\\share\\julia\\stdlib\\v1.7\\LinearAlgebra\\src\\dense.jl:1377\n",
       "[4] factorize(A::LinearAlgebra.AbstractTriangular) in LinearAlgebra at C:\\Users\\kzaja\\AppData\\Local\\Programs\\Julia-1.7.2\\share\\julia\\stdlib\\v1.7\\LinearAlgebra\\src\\triangular.jl:2569\n",
       "[5] factorize(A::Tridiagonal) in LinearAlgebra at C:\\Users\\kzaja\\AppData\\Local\\Programs\\Julia-1.7.2\\share\\julia\\stdlib\\v1.7\\LinearAlgebra\\src\\lu.jl:567\n",
       "[6] factorize(D::Diagonal) in LinearAlgebra at C:\\Users\\kzaja\\AppData\\Local\\Programs\\Julia-1.7.2\\share\\julia\\stdlib\\v1.7\\LinearAlgebra\\src\\diagonal.jl:137\n",
       "[7] factorize(A::Bidiagonal) in LinearAlgebra at C:\\Users\\kzaja\\AppData\\Local\\Programs\\Julia-1.7.2\\share\\julia\\stdlib\\v1.7\\LinearAlgebra\\src\\bidiag.jl:845\n",
       "[8] factorize(S::SymTridiagonal) in LinearAlgebra at C:\\Users\\kzaja\\AppData\\Local\\Programs\\Julia-1.7.2\\share\\julia\\stdlib\\v1.7\\LinearAlgebra\\src\\ldlt.jl:170\n",
       "[9] factorize(A::SparseArrays.AbstractSparseMatrixCSC) in SparseArrays at C:\\Users\\kzaja\\AppData\\Local\\Programs\\Julia-1.7.2\\share\\julia\\stdlib\\v1.7\\SparseArrays\\src\\linalg.jl:1586\n",
       "[10] factorize(A::Union{Hermitian{ComplexF64, var\"#s859\"}, Hermitian{Float64, var\"#s859\"}, Symmetric{Float64, var\"#s859\"}} where var\"#s859\"<:SparseArrays.AbstractSparseMatrixCSC) in SparseArrays at C:\\Users\\kzaja\\AppData\\Local\\Programs\\Julia-1.7.2\\share\\julia\\stdlib\\v1.7\\SparseArrays\\src\\linalg.jl:1616\n",
       "[11] factorize(A::Union{Hermitian{T, S}, Symmetric{T, S}} where {T, S}) in LinearAlgebra at C:\\Users\\kzaja\\AppData\\Local\\Programs\\Julia-1.7.2\\share\\julia\\stdlib\\v1.7\\LinearAlgebra\\src\\symmetric.jl:641"
      ]
     },
     "execution_count": 2,
     "metadata": {},
     "output_type": "execute_result"
    }
   ],
   "source": [
    "methods(factorize)"
   ]
  },
  {
   "cell_type": "code",
   "execution_count": 3,
   "metadata": {},
   "outputs": [
    {
     "data": {
      "text/plain": [
       "1×3 Matrix{Int64}:\n",
       " 1  2  2"
      ]
     },
     "execution_count": 3,
     "metadata": {},
     "output_type": "execute_result"
    }
   ],
   "source": [
    "#wiersze vs kolumny\n",
    "x1=[1 2 2]"
   ]
  },
  {
   "cell_type": "code",
   "execution_count": 4,
   "metadata": {},
   "outputs": [
    {
     "data": {
      "text/plain": [
       "3-element Vector{Int64}:\n",
       " 1\n",
       " 2\n",
       " 3"
      ]
     },
     "execution_count": 4,
     "metadata": {},
     "output_type": "execute_result"
    }
   ],
   "source": [
    "y1=[1 ;2 ;3]"
   ]
  },
  {
   "cell_type": "code",
   "execution_count": 5,
   "metadata": {},
   "outputs": [
    {
     "data": {
      "text/plain": [
       "3×1 transpose(::Matrix{Int64}) with eltype Int64:\n",
       " 1\n",
       " 2\n",
       " 2"
      ]
     },
     "execution_count": 5,
     "metadata": {},
     "output_type": "execute_result"
    }
   ],
   "source": [
    "transpose(x1)"
   ]
  },
  {
   "cell_type": "code",
   "execution_count": 6,
   "metadata": {},
   "outputs": [
    {
     "data": {
      "text/plain": [
       "11"
      ]
     },
     "execution_count": 6,
     "metadata": {},
     "output_type": "execute_result"
    }
   ],
   "source": [
    "#iloczyn skalarny\n",
    "dot(x1,y1)"
   ]
  },
  {
   "cell_type": "markdown",
   "metadata": {},
   "source": [
    " Długość wektora liczymy jako pierwiastek z jego iloczynu skalarnego \n",
    "$$ \\lVert\\mathbf{v}\\rVert = \\sqrt{\\mathbf{v}\\cdot \\mathbf{v}}=\\sqrt{\\sum_{i=1}^nv_i^2}$$\n",
    "\n"
   ]
  },
  {
   "cell_type": "markdown",
   "metadata": {},
   "source": [
    "#### Przykładowe dane"
   ]
  },
  {
   "cell_type": "code",
   "execution_count": 7,
   "metadata": {},
   "outputs": [
    {
     "data": {
      "text/plain": [
       "3×3 Matrix{Float64}:\n",
       " 0.201333  0.730256   0.874181\n",
       " 0.962293  0.61645    0.253017\n",
       " 0.591243  0.0279556  0.208219"
      ]
     },
     "execution_count": 7,
     "metadata": {},
     "output_type": "execute_result"
    }
   ],
   "source": [
    "#losujemy macierz 3x3\n",
    "A=rand(3,3)"
   ]
  },
  {
   "cell_type": "code",
   "execution_count": 8,
   "metadata": {},
   "outputs": [
    {
     "data": {
      "text/plain": [
       "3-element Vector{Float64}:\n",
       " 0.6494978713049762\n",
       " 0.46570721507453183\n",
       " 0.48760751497651733"
      ]
     },
     "execution_count": 8,
     "metadata": {},
     "output_type": "execute_result"
    }
   ],
   "source": [
    "#losujemy wektor x\n",
    "x=rand(3)"
   ]
  },
  {
   "cell_type": "code",
   "execution_count": 9,
   "metadata": {},
   "outputs": [
    {
     "data": {
      "text/plain": [
       "3-element Vector{Float64}:\n",
       " 0.897107931693224\n",
       " 1.03546539325556\n",
       " 0.49855914678814334"
      ]
     },
     "execution_count": 9,
     "metadata": {},
     "output_type": "execute_result"
    }
   ],
   "source": [
    "# wyliczamy b\n",
    "b=A*x"
   ]
  },
  {
   "cell_type": "markdown",
   "metadata": {},
   "source": [
    "### Sposoby rozwiązania Ax=b"
   ]
  },
  {
   "cell_type": "code",
   "execution_count": 10,
   "metadata": {},
   "outputs": [
    {
     "data": {
      "text/plain": [
       "3-element Vector{Float64}:\n",
       " 0.6494978713049763\n",
       " 0.4657072150745318\n",
       " 0.4876075149765174"
      ]
     },
     "execution_count": 10,
     "metadata": {},
     "output_type": "execute_result"
    }
   ],
   "source": [
    "#mozemy policzyc odwrotność macierzy i wymnożyć\n",
    "# uwaga: nieefektywne!\n",
    "inv(A) * b"
   ]
  },
  {
   "cell_type": "code",
   "execution_count": 11,
   "metadata": {},
   "outputs": [
    {
     "data": {
      "text/plain": [
       "3-element Vector{Float64}:\n",
       " 0.6494978713049762\n",
       " 0.4657072150745318\n",
       " 0.48760751497651744"
      ]
     },
     "execution_count": 11,
     "metadata": {},
     "output_type": "execute_result"
    }
   ],
   "source": [
    "#najlepiej używać zoptymalizowanego operatora \"\\\"\"\n",
    "x=A\\b"
   ]
  },
  {
   "cell_type": "markdown",
   "metadata": {},
   "source": [
    " operator \"\\\\\" wybiera odpowiednią faktoryzację:\n",
    "- https://docs.julialang.org/en/v1.2/stdlib/LinearAlgebra/#LinearAlgebra.factorize\n",
    "- https://docs.julialang.org/en/v1.2/stdlib/LinearAlgebra/#man-linalg-factorizations-1\n",
    " \n"
   ]
  },
  {
   "cell_type": "markdown",
   "metadata": {},
   "source": [
    "### Faktoryzacja LU"
   ]
  },
  {
   "cell_type": "code",
   "execution_count": 12,
   "metadata": {},
   "outputs": [
    {
     "data": {
      "text/plain": [
       "LU{Float64, Matrix{Float64}}\n",
       "L factor:\n",
       "3×3 Matrix{Float64}:\n",
       " 1.0        0.0       0.0\n",
       " 0.209222   1.0       0.0\n",
       " 0.61441   -0.583416  1.0\n",
       "U factor:\n",
       "3×3 Matrix{Float64}:\n",
       " 0.962293  0.61645   0.253017\n",
       " 0.0       0.601281  0.821245\n",
       " 0.0       0.0       0.531891"
      ]
     },
     "execution_count": 12,
     "metadata": {},
     "output_type": "execute_result"
    }
   ],
   "source": [
    "# W przypadku ogólnej macierzy kwadratowej jest to faktoryzacja LU z pivotem\n",
    "Af=factorize(A)"
   ]
  },
  {
   "cell_type": "code",
   "execution_count": 13,
   "metadata": {},
   "outputs": [
    {
     "data": {
      "text/plain": [
       "3×3 Matrix{Float64}:\n",
       " 1.0        0.0       0.0\n",
       " 0.209222   1.0       0.0\n",
       " 0.61441   -0.583416  1.0"
      ]
     },
     "execution_count": 13,
     "metadata": {},
     "output_type": "execute_result"
    }
   ],
   "source": [
    "# Macierz L\n",
    "Af.L"
   ]
  },
  {
   "cell_type": "code",
   "execution_count": 14,
   "metadata": {},
   "outputs": [
    {
     "data": {
      "text/plain": [
       "3×3 Matrix{Float64}:\n",
       " 0.962293  0.61645   0.253017\n",
       " 0.0       0.601281  0.821245\n",
       " 0.0       0.0       0.531891"
      ]
     },
     "execution_count": 14,
     "metadata": {},
     "output_type": "execute_result"
    }
   ],
   "source": [
    "#Macierz U\n",
    "Af.U"
   ]
  },
  {
   "cell_type": "code",
   "execution_count": 15,
   "metadata": {},
   "outputs": [
    {
     "data": {
      "text/plain": [
       "3-element Vector{Int64}:\n",
       " 2\n",
       " 1\n",
       " 3"
      ]
     },
     "execution_count": 15,
     "metadata": {},
     "output_type": "execute_result"
    }
   ],
   "source": [
    "# wektor permulatacji wierszy \n",
    "Af.p"
   ]
  },
  {
   "cell_type": "code",
   "execution_count": 16,
   "metadata": {},
   "outputs": [
    {
     "data": {
      "text/plain": [
       "LU{Float64, Matrix{Float64}}\n",
       "L factor:\n",
       "3×3 Matrix{Float64}:\n",
       " 1.0        0.0       0.0\n",
       " 0.209222   1.0       0.0\n",
       " 0.61441   -0.583416  1.0\n",
       "U factor:\n",
       "3×3 Matrix{Float64}:\n",
       " 0.962293  0.61645   0.253017\n",
       " 0.0       0.601281  0.821245\n",
       " 0.0       0.0       0.531891"
      ]
     },
     "execution_count": 16,
     "metadata": {},
     "output_type": "execute_result"
    }
   ],
   "source": [
    "# mozemy zamienic macierz A na postać zfaktoryzowaną\n",
    "A=factorize(A)"
   ]
  },
  {
   "cell_type": "code",
   "execution_count": 17,
   "metadata": {},
   "outputs": [
    {
     "data": {
      "text/plain": [
       "3-element Vector{Float64}:\n",
       " 0.6494978713049762\n",
       " 0.4657072150745318\n",
       " 0.48760751497651744"
      ]
     },
     "execution_count": 17,
     "metadata": {},
     "output_type": "execute_result"
    }
   ],
   "source": [
    "# i działać na niej operatorem \\\n",
    "# operator ten będzie wykorzytywał raz utworzony wynik faktoryzacji\n",
    "A\\b"
   ]
  },
  {
   "cell_type": "code",
   "execution_count": 18,
   "metadata": {},
   "outputs": [
    {
     "data": {
      "text/plain": [
       "3-element Vector{Float64}:\n",
       " 0.46028506974417727\n",
       " 0.8374221118633624\n",
       " 0.020357928999785613"
      ]
     },
     "execution_count": 18,
     "metadata": {},
     "output_type": "execute_result"
    }
   ],
   "source": [
    "# dla różnych prawych stron równania z tą samą macierzą\n",
    "c=rand(3);\n",
    "A\\c"
   ]
  },
  {
   "cell_type": "markdown",
   "metadata": {},
   "source": [
    "### Faktoryzacja QR\n"
   ]
  },
  {
   "cell_type": "code",
   "execution_count": 19,
   "metadata": {},
   "outputs": [
    {
     "data": {
      "text/plain": [
       "10×5 Matrix{Float64}:\n",
       " 0.413965   0.00524901  0.963826   0.632963  0.329576\n",
       " 0.455467   0.410653    0.138445   0.867344  0.391937\n",
       " 0.0478521  0.342658    0.592005   0.166132  0.729935\n",
       " 0.595275   0.568469    0.959588   0.846336  0.28413\n",
       " 0.254104   0.322546    0.632214   0.60233   0.340109\n",
       " 0.661588   0.314318    0.0998852  0.288977  0.85628\n",
       " 0.0989537  0.882192    0.644475   0.905718  0.894542\n",
       " 0.469139   0.264447    0.952984   0.67456   0.413944\n",
       " 0.399162   0.942584    0.103219   0.294836  0.266671\n",
       " 0.770202   0.662923    0.24402    0.311711  0.877025"
      ]
     },
     "execution_count": 19,
     "metadata": {},
     "output_type": "execute_result"
    }
   ],
   "source": [
    "B=rand(10,5)"
   ]
  },
  {
   "cell_type": "code",
   "execution_count": 20,
   "metadata": {},
   "outputs": [
    {
     "data": {
      "text/plain": [
       "QRPivoted{Float64, Matrix{Float64}}\n",
       "Q factor:\n",
       "10×10 LinearAlgebra.QRPackedQ{Float64, Matrix{Float64}}:\n",
       " -0.480545    0.212773   -0.308719   …  -0.467789    -0.290149   -0.111893\n",
       " -0.069026   -0.221479    0.128279       0.0388043    0.174901   -0.175904\n",
       " -0.295162   -0.255131   -0.222705      -0.0666513    0.380218   -0.308677\n",
       " -0.478432    0.244019    0.306051      -0.255056     0.0138046  -0.15605\n",
       " -0.31521     0.0489261   0.0368137     -0.0782618    0.645647    0.624244\n",
       " -0.0498008  -0.579262   -0.305746   …  -0.0182322    0.199475   -0.32256\n",
       " -0.321323   -0.35082     0.210526      -0.0130101   -0.400169    0.07429\n",
       " -0.47514     0.145961   -0.101646       0.837935    -0.0915234  -0.0504201\n",
       " -0.0514632  -0.146444    0.771172       0.00011523   0.11606    -0.246299\n",
       " -0.121663   -0.526568    0.0278857     -0.0375557   -0.319117    0.523885\n",
       "R factor:\n",
       "5×5 Matrix{Float64}:\n",
       " -2.00569  -1.29121  -1.05958   -1.01128   -1.68687\n",
       "  0.0      -1.36722  -0.962833  -0.680804  -0.457807\n",
       "  0.0       0.0       0.968724   0.211679   0.429871\n",
       "  0.0       0.0       0.0       -0.830153  -0.202776\n",
       "  0.0       0.0       0.0        0.0       -0.722173\n",
       "permutation:\n",
       "5-element Vector{Int64}:\n",
       " 3\n",
       " 5\n",
       " 2\n",
       " 1\n",
       " 4"
      ]
     },
     "execution_count": 20,
     "metadata": {},
     "output_type": "execute_result"
    }
   ],
   "source": [
    "# W przypadku ogólnej macierzy prostokątnej wybierana jest faktoryzacja QR z pivotem\n",
    "factorize(B)"
   ]
  },
  {
   "cell_type": "markdown",
   "metadata": {},
   "source": [
    "- $Q$ to macierz  ortogonalna mxm, co oznacza, że  $Q^T*Q=Q*Q^T=I$ czyli $Q^{-1}=Q^T$ (odwracanie takich macierzy jest szybkie i nie generuje dodatkowych błędów !)\n",
    "- $R$ to macierz postaci $\\begin{pmatrix} Rfactor \\\\ 0 \\end{pmatrix} $ , gdzie $Rfactor$ jest macierzą trójkątną górną, a 0 to macierz zer o wymierze nx(m-n)"
   ]
  },
  {
   "cell_type": "markdown",
   "metadata": {},
   "source": [
    "### Zastosowanie faktoryzacji do metody najmniejszych kwadratów\n",
    "\n",
    "Jednym z zastosowań faktoryzacji QR jest użycie jej do metody najmniejszych kwadratów.\n",
    "\n",
    "Przykład:\n",
    "\n",
    "Obliczmy dopasowanie wielomianu $$f(x)=wsp_2*x^2+wsp_1*x+wsp_0$$ do punktów (1,1) (2,2) (3,4) (4, 4) (5,3) (6,0)\n",
    "\n",
    "- Budujemy układ równań wg wzoru $$wsp_2x_i^2+wsp_1x_i+wsp_0=y_i$$:\n",
    "$$wsp_2*1^2+wsp_1*1+wsp_0=1$$\n",
    "$$wsp_2*2^2+wsp_1*2+wsp_0=2$$\n",
    "$$wsp_2*3^2+wsp_1*3+wsp_0=4$$\n",
    "$$wsp_2*4^2+wsp_1*4+wsp_0=4$$\n",
    "$$wsp_2*5^2+wsp_1*5+wsp_0=3$$\n",
    "$$wsp_2*6^2+wsp_1*6+wsp_0=0$$\n",
    "\n",
    "- Układ ten  nie ma dokładnego rozwiązania. Możemy jednak znaleźć najlepsze przybliżenie, czyli takie $wsp_i$, które minimalizują odległość:\n",
    "\n",
    "$$\\sqrt{\\sum_{i=1}^{6}{(y_i-f(x_i))^2}}=\\lVert y-A*wsp\\rVert$$\n",
    "\n",
    "\n",
    "\n"
   ]
  },
  {
   "cell_type": "markdown",
   "metadata": {},
   "source": [
    "Jak użyć do tej mimalizacji faktoryzacji QR:\n",
    "\n",
    "#### 1. Tworzymy macierz A na postawie $(x_i,y_i)$"
   ]
  },
  {
   "cell_type": "code",
   "execution_count": 21,
   "metadata": {},
   "outputs": [
    {
     "data": {
      "text/plain": [
       "6×3 Matrix{Float64}:\n",
       " 0.0  0.0  0.0\n",
       " 0.0  0.0  0.0\n",
       " 0.0  0.0  0.0\n",
       " 0.0  0.0  0.0\n",
       " 0.0  0.0  0.0\n",
       " 0.0  0.0  0.0"
      ]
     },
     "execution_count": 21,
     "metadata": {},
     "output_type": "execute_result"
    }
   ],
   "source": [
    "A=zeros(6,3) "
   ]
  },
  {
   "cell_type": "markdown",
   "metadata": {},
   "source": [
    " punkty $(x_i,y_i)$\n"
   ]
  },
  {
   "cell_type": "code",
   "execution_count": 22,
   "metadata": {},
   "outputs": [
    {
     "data": {
      "text/plain": [
       "6-element Vector{Int64}:\n",
       " 1\n",
       " 2\n",
       " 4\n",
       " 4\n",
       " 3\n",
       " 0"
      ]
     },
     "execution_count": 22,
     "metadata": {},
     "output_type": "execute_result"
    }
   ],
   "source": [
    "x=[1; 2 ;3 ;4 ;5 ;6]\n",
    "y=[1; 2; 4; 4; 3; 0]"
   ]
  },
  {
   "cell_type": "code",
   "execution_count": 23,
   "metadata": {},
   "outputs": [
    {
     "data": {
      "text/plain": [
       "6-element Vector{Int64}:\n",
       "  1\n",
       "  4\n",
       "  9\n",
       " 16\n",
       " 25\n",
       " 36"
      ]
     },
     "execution_count": 23,
     "metadata": {},
     "output_type": "execute_result"
    }
   ],
   "source": [
    "A[:,1]=x.^2"
   ]
  },
  {
   "cell_type": "code",
   "execution_count": 24,
   "metadata": {},
   "outputs": [
    {
     "data": {
      "text/plain": [
       "6-element Vector{Int64}:\n",
       " 1\n",
       " 2\n",
       " 3\n",
       " 4\n",
       " 5\n",
       " 6"
      ]
     },
     "execution_count": 24,
     "metadata": {},
     "output_type": "execute_result"
    }
   ],
   "source": [
    "A[:,2]=x"
   ]
  },
  {
   "cell_type": "code",
   "execution_count": 25,
   "metadata": {},
   "outputs": [
    {
     "data": {
      "text/plain": [
       "6-element Vector{Float64}:\n",
       " 1.0\n",
       " 1.0\n",
       " 1.0\n",
       " 1.0\n",
       " 1.0\n",
       " 1.0"
      ]
     },
     "execution_count": 25,
     "metadata": {},
     "output_type": "execute_result"
    }
   ],
   "source": [
    "A[:,3]=ones(6)"
   ]
  },
  {
   "cell_type": "code",
   "execution_count": 26,
   "metadata": {},
   "outputs": [
    {
     "data": {
      "text/plain": [
       "6×3 Matrix{Float64}:\n",
       "  1.0  1.0  1.0\n",
       "  4.0  2.0  1.0\n",
       "  9.0  3.0  1.0\n",
       " 16.0  4.0  1.0\n",
       " 25.0  5.0  1.0\n",
       " 36.0  6.0  1.0"
      ]
     },
     "execution_count": 26,
     "metadata": {},
     "output_type": "execute_result"
    }
   ],
   "source": [
    "A"
   ]
  },
  {
   "cell_type": "markdown",
   "metadata": {},
   "source": [
    "#### 2. Dokonujemy faktoryzacji QR macierzy A "
   ]
  },
  {
   "cell_type": "code",
   "execution_count": 27,
   "metadata": {},
   "outputs": [
    {
     "data": {
      "text/plain": [
       "QRPivoted{Float64, Matrix{Float64}}\n",
       "Q factor:\n",
       "6×6 LinearAlgebra.QRPackedQ{Float64, Matrix{Float64}}:\n",
       " -0.0209657  -0.343313    0.838525   0.112335    -0.0400677  -0.405397\n",
       " -0.0838628  -0.521522    0.167705  -0.00636667   0.34634     0.756879\n",
       " -0.188691   -0.534625   -0.223607  -0.612934    -0.487947   -0.121617\n",
       " -0.335451   -0.382624   -0.33541    0.753648    -0.213523   -0.122449\n",
       " -0.524142   -0.0655178  -0.167705  -0.204705     0.705864   -0.390779\n",
       " -0.754765    0.416693    0.279508  -0.0419783   -0.310667    0.283364\n",
       "R factor:\n",
       "3×3 Matrix{Float64}:\n",
       " -47.697  -9.24587  -1.90788\n",
       "   0.0    -2.34816  -1.43091\n",
       "   0.0     0.0       0.559017\n",
       "permutation:\n",
       "3-element Vector{Int64}:\n",
       " 1\n",
       " 2\n",
       " 3"
      ]
     },
     "execution_count": 27,
     "metadata": {},
     "output_type": "execute_result"
    }
   ],
   "source": [
    " AF=factorize(A)"
   ]
  },
  {
   "cell_type": "code",
   "execution_count": 28,
   "metadata": {},
   "outputs": [
    {
     "data": {
      "text/plain": [
       "6×6 Matrix{Float64}:\n",
       "  1.0           0.0           1.66533e-16  …   2.77556e-17  -2.77556e-17\n",
       "  0.0           1.0           5.55112e-17      8.32667e-17  -9.71445e-17\n",
       "  1.66533e-16   5.55112e-17   1.0             -6.93889e-17  -2.77556e-17\n",
       " -2.08167e-17  -4.85723e-17  -7.97973e-17     -6.59195e-17  -3.1225e-17\n",
       "  2.77556e-17   8.32667e-17  -6.93889e-17      1.0          -2.77556e-17\n",
       " -2.77556e-17  -9.71445e-17  -2.77556e-17  …  -2.77556e-17   1.0"
      ]
     },
     "execution_count": 28,
     "metadata": {},
     "output_type": "execute_result"
    }
   ],
   "source": [
    "# można przetestować ortogonalność:\n",
    "Transpose(AF.Q)*AF.Q"
   ]
  },
  {
   "cell_type": "markdown",
   "metadata": {},
   "source": [
    "Mamy równanie:\n",
    "$$A*wsp=y$$\n",
    "Dla $A=QR$:\n",
    "$$QR*wsp =y$$\n",
    "Możemy obydwie strony wymnożyć z lewej przez $Q^T$:\n",
    "$$R*wsp =Q^T y$$\n",
    "$$\\begin{pmatrix} Rfactor \\\\ 0 \\end{pmatrix} wsp= Q^T y$$\n",
    "\n",
    "Poszukiwanym rozwiązaniem jest rozwiązanie równania będącego górną niezerową częścią:\n",
    "$$Rfactor * wsp= Q^T y[1:n]$$\n",
    "$$wsp=Rfactor \\setminus Q^T y[1:n]$$"
   ]
  },
  {
   "cell_type": "code",
   "execution_count": 29,
   "metadata": {},
   "outputs": [
    {
     "data": {
      "text/plain": [
       "3-element Vector{Float64}:\n",
       " -0.5714285714285724\n",
       "  3.94285714285715\n",
       " -2.8000000000000145"
      ]
     },
     "execution_count": 29,
     "metadata": {},
     "output_type": "execute_result"
    }
   ],
   "source": [
    "# implementacja powyższego (uwaga: w tym przykladzie nie jest potrzebna permutacja,\n",
    "# bo wektor permutacji wynosi[1 2 3])\n",
    "AF.R\\((Transpose(AF.Q)*y)[1:3])"
   ]
  },
  {
   "cell_type": "markdown",
   "metadata": {},
   "source": [
    "Więcej informacji:\n",
    "- http://www.math.uconn.edu/~leykekhman/courses/MATH3795/Lectures/Lecture_8_Linear_least_squares_orthogonal_matrices.pdf\n",
    "- http://www.seas.ucla.edu/~vandenbe/133A/lectures/qr.pdf"
   ]
  },
  {
   "cell_type": "markdown",
   "metadata": {},
   "source": [
    "W praktyce używamy tego algorytmu poprzez operator \"\\\\\", za którym jest on \"schowany\"."
   ]
  },
  {
   "cell_type": "code",
   "execution_count": 30,
   "metadata": {},
   "outputs": [
    {
     "data": {
      "text/plain": [
       "3-element Vector{Float64}:\n",
       " -0.5714285714285723\n",
       "  3.9428571428571493\n",
       " -2.8000000000000136"
      ]
     },
     "execution_count": 30,
     "metadata": {},
     "output_type": "execute_result"
    }
   ],
   "source": [
    "A \\ y"
   ]
  },
  {
   "cell_type": "code",
   "execution_count": 31,
   "metadata": {},
   "outputs": [
    {
     "data": {
      "text/html": [
       "&#45;2.8000000000000136 &#43; 3.9428571428571493&#8729;x &#45; 0.5714285714285723&#8729;x<sup>2</sup>"
      ],
      "text/latex": [
       "$-2.8000000000000136 + 3.9428571428571493\\cdot x - 0.5714285714285723\\cdot x^{2}$"
      ],
      "text/plain": [
       "Polynomial(-2.8000000000000136 + 3.9428571428571493*x - 0.5714285714285723*x^2)"
      ]
     },
     "execution_count": 31,
     "metadata": {},
     "output_type": "execute_result"
    }
   ],
   "source": [
    "#sprawdzamy czy dostaliśmy dobre wspólczynniki\n",
    "using Polynomials\n",
    "fit(x,y, 2)"
   ]
  },
  {
   "cell_type": "code",
   "execution_count": 32,
   "metadata": {},
   "outputs": [
    {
     "data": {
      "text/plain": [
       "Polynomials"
      ]
     },
     "execution_count": 32,
     "metadata": {},
     "output_type": "execute_result"
    }
   ],
   "source": [
    "@which fit"
   ]
  },
  {
   "cell_type": "markdown",
   "metadata": {},
   "source": [
    "### Zadania"
   ]
  },
  {
   "cell_type": "markdown",
   "metadata": {},
   "source": [
    "#### Zadanie 1 (1pkt)\n",
    "Ustal losowe (referencyjne) x rozmiaru 1000 oraz losowe A rozmiaru 1000x1000, policz b=A*x.\n",
    "Nastepnie rozwiąż równanie Ax=b trzema metodami:\n",
    "- inv()\n",
    "- \\\n",
    "- factorize()\n",
    "\n",
    "Porównaj jakość wyniku (zmierzoną jako długość różnicy wektorów wyniku oraz referencyjnego x) oraz czas wykonania (@time). UWAGA: pierwsze wykonanie funkcji w Julii zawiera czas kompilacji tej funkcji, dlatego czas mierzymy  od drugiego wywołania !"
   ]
  },
  {
   "cell_type": "code",
   "execution_count": 10,
   "metadata": {},
   "outputs": [
    {
     "data": {
      "text/html": [
       "<div class=\"data-frame\"><p>10 rows × 6 columns</p><table class=\"data-frame\"><thead><tr><th></th><th>inv_quality</th><th>inv_time</th><th>div_quality</th><th>div_time</th><th>factorize_quality</th><th>factorize_time</th></tr><tr><th></th><th title=\"Float64\">Float64</th><th title=\"Float64\">Float64</th><th title=\"Float64\">Float64</th><th title=\"Float64\">Float64</th><th title=\"Float64\">Float64</th><th title=\"Float64\">Float64</th></tr></thead><tbody><tr><th>1</th><td>9.6196e-9</td><td>0.103064</td><td>5.9419e-9</td><td>0.0875061</td><td>5.9419e-9</td><td>0.0693548</td></tr><tr><th>2</th><td>9.6196e-9</td><td>0.110896</td><td>5.9419e-9</td><td>0.0473172</td><td>5.9419e-9</td><td>0.0692548</td></tr><tr><th>3</th><td>9.6196e-9</td><td>0.113589</td><td>5.9419e-9</td><td>0.0551566</td><td>5.9419e-9</td><td>0.0861406</td></tr><tr><th>4</th><td>9.6196e-9</td><td>0.0850202</td><td>5.9419e-9</td><td>0.0559311</td><td>5.9419e-9</td><td>0.0848878</td></tr><tr><th>5</th><td>9.6196e-9</td><td>0.0986615</td><td>5.9419e-9</td><td>0.0490602</td><td>5.9419e-9</td><td>0.0662063</td></tr><tr><th>6</th><td>9.6196e-9</td><td>0.0987596</td><td>5.9419e-9</td><td>0.179347</td><td>5.9419e-9</td><td>0.347028</td></tr><tr><th>7</th><td>9.6196e-9</td><td>0.277278</td><td>5.9419e-9</td><td>0.159532</td><td>5.9419e-9</td><td>0.18069</td></tr><tr><th>8</th><td>9.6196e-9</td><td>0.232619</td><td>5.9419e-9</td><td>0.0658171</td><td>5.9419e-9</td><td>0.0626112</td></tr><tr><th>9</th><td>9.6196e-9</td><td>0.200877</td><td>5.9419e-9</td><td>0.103874</td><td>5.9419e-9</td><td>0.0669947</td></tr><tr><th>10</th><td>9.6196e-9</td><td>0.0945079</td><td>5.9419e-9</td><td>0.0647396</td><td>5.9419e-9</td><td>0.0618719</td></tr></tbody></table></div>"
      ],
      "text/latex": [
       "\\begin{tabular}{r|cccccc}\n",
       "\t& inv\\_quality & inv\\_time & div\\_quality & div\\_time & factorize\\_quality & factorize\\_time\\\\\n",
       "\t\\hline\n",
       "\t& Float64 & Float64 & Float64 & Float64 & Float64 & Float64\\\\\n",
       "\t\\hline\n",
       "\t1 & 9.6196e-9 & 0.103064 & 5.9419e-9 & 0.0875061 & 5.9419e-9 & 0.0693548 \\\\\n",
       "\t2 & 9.6196e-9 & 0.110896 & 5.9419e-9 & 0.0473172 & 5.9419e-9 & 0.0692548 \\\\\n",
       "\t3 & 9.6196e-9 & 0.113589 & 5.9419e-9 & 0.0551566 & 5.9419e-9 & 0.0861406 \\\\\n",
       "\t4 & 9.6196e-9 & 0.0850202 & 5.9419e-9 & 0.0559311 & 5.9419e-9 & 0.0848878 \\\\\n",
       "\t5 & 9.6196e-9 & 0.0986615 & 5.9419e-9 & 0.0490602 & 5.9419e-9 & 0.0662063 \\\\\n",
       "\t6 & 9.6196e-9 & 0.0987596 & 5.9419e-9 & 0.179347 & 5.9419e-9 & 0.347028 \\\\\n",
       "\t7 & 9.6196e-9 & 0.277278 & 5.9419e-9 & 0.159532 & 5.9419e-9 & 0.18069 \\\\\n",
       "\t8 & 9.6196e-9 & 0.232619 & 5.9419e-9 & 0.0658171 & 5.9419e-9 & 0.0626112 \\\\\n",
       "\t9 & 9.6196e-9 & 0.200877 & 5.9419e-9 & 0.103874 & 5.9419e-9 & 0.0669947 \\\\\n",
       "\t10 & 9.6196e-9 & 0.0945079 & 5.9419e-9 & 0.0647396 & 5.9419e-9 & 0.0618719 \\\\\n",
       "\\end{tabular}\n"
      ],
      "text/plain": [
       "\u001b[1m10×6 DataFrame\u001b[0m\n",
       "\u001b[1m Row \u001b[0m│\u001b[1m inv_quality \u001b[0m\u001b[1m inv_time  \u001b[0m\u001b[1m div_quality \u001b[0m\u001b[1m div_time  \u001b[0m\u001b[1m factorize_quality \u001b[0m\u001b[1m fact\u001b[0m ⋯\n",
       "\u001b[1m     \u001b[0m│\u001b[90m Float64     \u001b[0m\u001b[90m Float64   \u001b[0m\u001b[90m Float64     \u001b[0m\u001b[90m Float64   \u001b[0m\u001b[90m Float64           \u001b[0m\u001b[90m Floa\u001b[0m ⋯\n",
       "─────┼──────────────────────────────────────────────────────────────────────────\n",
       "   1 │   9.6196e-9  0.103064     5.9419e-9  0.0875061          5.9419e-9       ⋯\n",
       "   2 │   9.6196e-9  0.110896     5.9419e-9  0.0473172          5.9419e-9\n",
       "   3 │   9.6196e-9  0.113589     5.9419e-9  0.0551566          5.9419e-9\n",
       "   4 │   9.6196e-9  0.0850202    5.9419e-9  0.0559311          5.9419e-9\n",
       "   5 │   9.6196e-9  0.0986615    5.9419e-9  0.0490602          5.9419e-9       ⋯\n",
       "   6 │   9.6196e-9  0.0987596    5.9419e-9  0.179347           5.9419e-9\n",
       "   7 │   9.6196e-9  0.277278     5.9419e-9  0.159532           5.9419e-9\n",
       "   8 │   9.6196e-9  0.232619     5.9419e-9  0.0658171          5.9419e-9\n",
       "   9 │   9.6196e-9  0.200877     5.9419e-9  0.103874           5.9419e-9       ⋯\n",
       "  10 │   9.6196e-9  0.0945079    5.9419e-9  0.0647396          5.9419e-9\n",
       "\u001b[36m                                                                1 column omitted\u001b[0m"
      ]
     },
     "execution_count": 10,
     "metadata": {},
     "output_type": "execute_result"
    }
   ],
   "source": [
    "# losujemy macierz 1000x1000\n",
    "A = rand(1000,1000)\n",
    "# Pionowy wektor\n",
    "x = rand(1000)\n",
    "\n",
    "b = A * x\n",
    "\n",
    "quality(y) = reduce((s, t) -> s + abs(t), y - x);\n",
    "\n",
    "quality_inv, quality_div, quality_factorize = [], [], []\n",
    "time_inv, time_div, time_factorize = [], [], []\n",
    "for i in 1:10\n",
    "    append!(quality_inv, quality(inv(A) * b))         \n",
    "    append!(time_inv, @elapsed (inv(A) * b))\n",
    "    append!(quality_div, quality(A \\ b))             \n",
    "    append!(time_div, @elapsed (A \\ b))\n",
    "    append!(quality_factorize, quality(factorize(A) \\ b))   \n",
    "    append!(time_factorize, @elapsed (factorize(A) \\ b))\n",
    "end\n",
    "\n",
    "data_frame = DataFrame(\n",
    "    inv_quality = Float64[],\n",
    "    inv_time = Float64[],\n",
    "    div_quality = Float64[],\n",
    "    div_time = Float64[],\n",
    "    factorize_quality = Float64[],\n",
    "    factorize_time = Float64[]\n",
    ")\n",
    "\n",
    "for i in 1:10 \n",
    "    append!(data_frame.inv_quality, quality_inv[i])\n",
    "    append!(data_frame.inv_time, time_inv[i])\n",
    "    append!(data_frame.div_quality, quality_div[i])\n",
    "    append!(data_frame.div_time, time_div[i])\n",
    "    append!(data_frame.factorize_quality, quality_factorize[i])\n",
    "    append!(data_frame.factorize_time, time_factorize[i])\n",
    "end    \n",
    "\n",
    "data_frame"
   ]
  },
  {
   "cell_type": "code",
   "execution_count": 40,
   "metadata": {},
   "outputs": [
    {
     "data": {
      "text/html": [
       "<div class=\"data-frame\"><p>1 rows × 9 columns</p><table class=\"data-frame\"><thead><tr><th></th><th>inv_quality</th><th>inv_time_mean</th><th>inv_time_std</th><th>div_quality</th><th>div_time_mean</th><th>div_time_std</th><th>factorize_quality</th><th>factorize_time_mean</th><th>factorize_time_std</th></tr><tr><th></th><th title=\"Float64\">Float64</th><th title=\"Float64\">Float64</th><th title=\"Float64\">Float64</th><th title=\"Float64\">Float64</th><th title=\"Float64\">Float64</th><th title=\"Float64\">Float64</th><th title=\"Float64\">Float64</th><th title=\"Float64\">Float64</th><th title=\"Float64\">Float64</th></tr></thead><tbody><tr><th>1</th><td>9.6196e-9</td><td>0.141527</td><td>0.0687323</td><td>5.9419e-9</td><td>0.0868282</td><td>0.0471537</td><td>5.9419e-9</td><td>0.109504</td><td>0.0906878</td></tr></tbody></table></div>"
      ],
      "text/latex": [
       "\\begin{tabular}{r|ccccccccc}\n",
       "\t& inv\\_quality & inv\\_time\\_mean & inv\\_time\\_std & div\\_quality & div\\_time\\_mean & div\\_time\\_std & factorize\\_quality & factorize\\_time\\_mean & factorize\\_time\\_std\\\\\n",
       "\t\\hline\n",
       "\t& Float64 & Float64 & Float64 & Float64 & Float64 & Float64 & Float64 & Float64 & Float64\\\\\n",
       "\t\\hline\n",
       "\t1 & 9.6196e-9 & 0.141527 & 0.0687323 & 5.9419e-9 & 0.0868282 & 0.0471537 & 5.9419e-9 & 0.109504 & 0.0906878 \\\\\n",
       "\\end{tabular}\n"
      ],
      "text/plain": [
       "\u001b[1m1×9 DataFrame\u001b[0m\n",
       "\u001b[1m Row \u001b[0m│\u001b[1m inv_quality \u001b[0m\u001b[1m inv_time_mean \u001b[0m\u001b[1m inv_time_std \u001b[0m\u001b[1m div_quality \u001b[0m\u001b[1m div_time_mean \u001b[0m\u001b[1m div_time_std \u001b[0m\u001b[1m factorize_quality \u001b[0m\u001b[1m factorize_time_mean \u001b[0m\u001b[1m factorize_time_std \u001b[0m\n",
       "\u001b[1m     \u001b[0m│\u001b[90m Float64     \u001b[0m\u001b[90m Float64       \u001b[0m\u001b[90m Float64      \u001b[0m\u001b[90m Float64     \u001b[0m\u001b[90m Float64       \u001b[0m\u001b[90m Float64      \u001b[0m\u001b[90m Float64           \u001b[0m\u001b[90m Float64             \u001b[0m\u001b[90m Float64            \u001b[0m\n",
       "─────┼────────────────────────────────────────────────────────────────────────────────────────────────────────────────────────────────────────────────\n",
       "   1 │   9.6196e-9       0.141527     0.0687323    5.9419e-9      0.0868282     0.0471537          5.9419e-9             0.109504           0.0906878"
      ]
     },
     "execution_count": 40,
     "metadata": {},
     "output_type": "execute_result"
    }
   ],
   "source": [
    "data_frame_result = combine(\n",
    "    data_frame,\n",
    "    :inv_quality => mean => :inv_quality,\n",
    "    :inv_time => mean,\n",
    "    :inv_time => std,\n",
    "    :div_quality => mean => :div_quality,\n",
    "    :div_time => mean,\n",
    "    :div_time => std,\n",
    "    :factorize_quality => mean => :factorize_quality,\n",
    "    :factorize_time => mean,\n",
    "    :factorize_time => std,\n",
    ")\n",
    "\n",
    "data_frame_result"
   ]
  },
  {
   "cell_type": "markdown",
   "metadata": {},
   "source": [
    "#### Zadanie 2 (1pkt)\n",
    "Policz współczynniki wielomianu aproksymującego dowolne dane z poprzednich laboratoriów tworząc wprost układ równań i rozwiązujac go (metoda z użyciem faktoryzacji QR zaprezentowana na tym laboratorium).\n",
    "Porównaj wyniki z tymi otrzymanymi poprzednio."
   ]
  },
  {
   "cell_type": "code",
   "execution_count": 43,
   "metadata": {},
   "outputs": [
    {
     "data": {
      "text/html": [
       "<div class=\"data-frame\"><p>30 rows × 4 columns</p><table class=\"data-frame\"><thead><tr><th></th><th>length</th><th>t</th><th>time_mean</th><th>time_std</th></tr><tr><th></th><th title=\"Int64\">Int64</th><th title=\"String1\">String1</th><th title=\"Float64\">Float64</th><th title=\"Float64\">Float64</th></tr></thead><tbody><tr><th>1</th><td>100</td><td>n</td><td>0.005</td><td>0.00527046</td></tr><tr><th>2</th><td>100</td><td>i</td><td>0.006</td><td>0.00516398</td></tr><tr><th>3</th><td>100</td><td>b</td><td>0.0</td><td>0.0</td></tr><tr><th>4</th><td>200</td><td>n</td><td>0.044</td><td>0.00516398</td></tr><tr><th>5</th><td>200</td><td>i</td><td>0.038</td><td>0.00632456</td></tr><tr><th>6</th><td>200</td><td>b</td><td>0.0</td><td>0.0</td></tr><tr><th>7</th><td>300</td><td>n</td><td>0.131</td><td>0.00737865</td></tr><tr><th>8</th><td>300</td><td>i</td><td>0.107</td><td>0.00948683</td></tr><tr><th>9</th><td>300</td><td>b</td><td>0.0</td><td>0.0</td></tr><tr><th>10</th><td>400</td><td>n</td><td>0.297</td><td>0.0105935</td></tr><tr><th>11</th><td>400</td><td>i</td><td>0.251</td><td>0.00737865</td></tr><tr><th>12</th><td>400</td><td>b</td><td>0.0</td><td>0.0</td></tr><tr><th>13</th><td>500</td><td>n</td><td>0.63</td><td>0.0609189</td></tr><tr><th>14</th><td>500</td><td>i</td><td>0.489</td><td>0.0233095</td></tr><tr><th>15</th><td>500</td><td>b</td><td>0.0</td><td>0.0</td></tr><tr><th>16</th><td>600</td><td>n</td><td>1.079</td><td>0.0467737</td></tr><tr><th>17</th><td>600</td><td>i</td><td>0.841</td><td>0.0381372</td></tr><tr><th>18</th><td>600</td><td>b</td><td>0.002</td><td>0.00421637</td></tr><tr><th>19</th><td>700</td><td>n</td><td>1.992</td><td>0.131724</td></tr><tr><th>20</th><td>700</td><td>i</td><td>1.342</td><td>0.0304777</td></tr><tr><th>21</th><td>700</td><td>b</td><td>0.003</td><td>0.00483046</td></tr><tr><th>22</th><td>800</td><td>n</td><td>3.175</td><td>0.1835</td></tr><tr><th>23</th><td>800</td><td>i</td><td>2.052</td><td>0.0402216</td></tr><tr><th>24</th><td>800</td><td>b</td><td>0.004</td><td>0.00516398</td></tr><tr><th>25</th><td>900</td><td>n</td><td>4.718</td><td>0.162604</td></tr><tr><th>26</th><td>900</td><td>i</td><td>3.021</td><td>0.143174</td></tr><tr><th>27</th><td>900</td><td>b</td><td>0.005</td><td>0.00527046</td></tr><tr><th>28</th><td>1000</td><td>n</td><td>6.506</td><td>0.334305</td></tr><tr><th>29</th><td>1000</td><td>i</td><td>4.058</td><td>0.114872</td></tr><tr><th>30</th><td>1000</td><td>b</td><td>0.008</td><td>0.00421637</td></tr></tbody></table></div>"
      ],
      "text/latex": [
       "\\begin{tabular}{r|cccc}\n",
       "\t& length & t & time\\_mean & time\\_std\\\\\n",
       "\t\\hline\n",
       "\t& Int64 & String1 & Float64 & Float64\\\\\n",
       "\t\\hline\n",
       "\t1 & 100 & n & 0.005 & 0.00527046 \\\\\n",
       "\t2 & 100 & i & 0.006 & 0.00516398 \\\\\n",
       "\t3 & 100 & b & 0.0 & 0.0 \\\\\n",
       "\t4 & 200 & n & 0.044 & 0.00516398 \\\\\n",
       "\t5 & 200 & i & 0.038 & 0.00632456 \\\\\n",
       "\t6 & 200 & b & 0.0 & 0.0 \\\\\n",
       "\t7 & 300 & n & 0.131 & 0.00737865 \\\\\n",
       "\t8 & 300 & i & 0.107 & 0.00948683 \\\\\n",
       "\t9 & 300 & b & 0.0 & 0.0 \\\\\n",
       "\t10 & 400 & n & 0.297 & 0.0105935 \\\\\n",
       "\t11 & 400 & i & 0.251 & 0.00737865 \\\\\n",
       "\t12 & 400 & b & 0.0 & 0.0 \\\\\n",
       "\t13 & 500 & n & 0.63 & 0.0609189 \\\\\n",
       "\t14 & 500 & i & 0.489 & 0.0233095 \\\\\n",
       "\t15 & 500 & b & 0.0 & 0.0 \\\\\n",
       "\t16 & 600 & n & 1.079 & 0.0467737 \\\\\n",
       "\t17 & 600 & i & 0.841 & 0.0381372 \\\\\n",
       "\t18 & 600 & b & 0.002 & 0.00421637 \\\\\n",
       "\t19 & 700 & n & 1.992 & 0.131724 \\\\\n",
       "\t20 & 700 & i & 1.342 & 0.0304777 \\\\\n",
       "\t21 & 700 & b & 0.003 & 0.00483046 \\\\\n",
       "\t22 & 800 & n & 3.175 & 0.1835 \\\\\n",
       "\t23 & 800 & i & 2.052 & 0.0402216 \\\\\n",
       "\t24 & 800 & b & 0.004 & 0.00516398 \\\\\n",
       "\t25 & 900 & n & 4.718 & 0.162604 \\\\\n",
       "\t26 & 900 & i & 3.021 & 0.143174 \\\\\n",
       "\t27 & 900 & b & 0.005 & 0.00527046 \\\\\n",
       "\t28 & 1000 & n & 6.506 & 0.334305 \\\\\n",
       "\t29 & 1000 & i & 4.058 & 0.114872 \\\\\n",
       "\t30 & 1000 & b & 0.008 & 0.00421637 \\\\\n",
       "\\end{tabular}\n"
      ],
      "text/plain": [
       "\u001b[1m30×4 DataFrame\u001b[0m\n",
       "\u001b[1m Row \u001b[0m│\u001b[1m length \u001b[0m\u001b[1m t       \u001b[0m\u001b[1m time_mean \u001b[0m\u001b[1m time_std   \u001b[0m\n",
       "\u001b[1m     \u001b[0m│\u001b[90m Int64  \u001b[0m\u001b[90m String1 \u001b[0m\u001b[90m Float64   \u001b[0m\u001b[90m Float64    \u001b[0m\n",
       "─────┼────────────────────────────────────────\n",
       "   1 │    100  n            0.005  0.00527046\n",
       "   2 │    100  i            0.006  0.00516398\n",
       "   3 │    100  b            0.0    0.0\n",
       "   4 │    200  n            0.044  0.00516398\n",
       "   5 │    200  i            0.038  0.00632456\n",
       "   6 │    200  b            0.0    0.0\n",
       "   7 │    300  n            0.131  0.00737865\n",
       "   8 │    300  i            0.107  0.00948683\n",
       "   9 │    300  b            0.0    0.0\n",
       "  10 │    400  n            0.297  0.0105935\n",
       "  11 │    400  i            0.251  0.00737865\n",
       "  ⋮  │   ⋮        ⋮         ⋮          ⋮\n",
       "  21 │    700  b            0.003  0.00483046\n",
       "  22 │    800  n            3.175  0.1835\n",
       "  23 │    800  i            2.052  0.0402216\n",
       "  24 │    800  b            0.004  0.00516398\n",
       "  25 │    900  n            4.718  0.162604\n",
       "  26 │    900  i            3.021  0.143174\n",
       "  27 │    900  b            0.005  0.00527046\n",
       "  28 │   1000  n            6.506  0.334305\n",
       "  29 │   1000  i            4.058  0.114872\n",
       "  30 │   1000  b            0.008  0.00421637\n",
       "\u001b[36m                                9 rows omitted\u001b[0m"
      ]
     },
     "execution_count": 43,
     "metadata": {},
     "output_type": "execute_result"
    }
   ],
   "source": [
    "file = \"datalab5.csv\"\n",
    "df = CSV.read(file, delim=\",\",DataFrame);\n",
    "df"
   ]
  },
  {
   "cell_type": "code",
   "execution_count": 44,
   "metadata": {},
   "outputs": [
    {
     "data": {
      "text/plain": [
       "10-element Vector{Float64}:\n",
       " 0.006\n",
       " 0.038\n",
       " 0.10700000000000001\n",
       " 0.251\n",
       " 0.489\n",
       " 0.841\n",
       " 1.3419999999999999\n",
       " 2.0519999999999996\n",
       " 3.021\n",
       " 4.058"
      ]
     },
     "execution_count": 44,
     "metadata": {},
     "output_type": "execute_result"
    }
   ],
   "source": [
    "x_julia = df[df[:,2] .== \"n\", 1]\n",
    "y_julia_i = df[df[:,2] .== \"i\", 3]"
   ]
  },
  {
   "cell_type": "code",
   "execution_count": 45,
   "metadata": {},
   "outputs": [
    {
     "data": {
      "image/svg+xml": [
       "<?xml version=\"1.0\" encoding=\"utf-8\"?>\n",
       "<svg xmlns=\"http://www.w3.org/2000/svg\" xmlns:xlink=\"http://www.w3.org/1999/xlink\" width=\"600\" height=\"400\" viewBox=\"0 0 2400 1600\">\n",
       "<defs>\n",
       "  <clipPath id=\"clip290\">\n",
       "    <rect x=\"0\" y=\"0\" width=\"2400\" height=\"1600\"/>\n",
       "  </clipPath>\n",
       "</defs>\n",
       "<path clip-path=\"url(#clip290)\" d=\"\n",
       "M0 1600 L2400 1600 L2400 0 L0 0  Z\n",
       "  \" fill=\"#ffffff\" fill-rule=\"evenodd\" fill-opacity=\"1\"/>\n",
       "<defs>\n",
       "  <clipPath id=\"clip291\">\n",
       "    <rect x=\"480\" y=\"0\" width=\"1681\" height=\"1600\"/>\n",
       "  </clipPath>\n",
       "</defs>\n",
       "<path clip-path=\"url(#clip290)\" d=\"\n",
       "M112.177 1486.45 L2352.76 1486.45 L2352.76 47.2441 L112.177 47.2441  Z\n",
       "  \" fill=\"#ffffff\" fill-rule=\"evenodd\" fill-opacity=\"1\"/>\n",
       "<defs>\n",
       "  <clipPath id=\"clip292\">\n",
       "    <rect x=\"112\" y=\"47\" width=\"2242\" height=\"1440\"/>\n",
       "  </clipPath>\n",
       "</defs>\n",
       "<polyline clip-path=\"url(#clip292)\" style=\"stroke:#000000; stroke-linecap:butt; stroke-linejoin:round; stroke-width:2; stroke-opacity:0.1; fill:none\" points=\"\n",
       "  410.451,1486.45 410.451,47.2441 \n",
       "  \"/>\n",
       "<polyline clip-path=\"url(#clip292)\" style=\"stroke:#000000; stroke-linecap:butt; stroke-linejoin:round; stroke-width:2; stroke-opacity:0.1; fill:none\" points=\"\n",
       "  880.174,1486.45 880.174,47.2441 \n",
       "  \"/>\n",
       "<polyline clip-path=\"url(#clip292)\" style=\"stroke:#000000; stroke-linecap:butt; stroke-linejoin:round; stroke-width:2; stroke-opacity:0.1; fill:none\" points=\"\n",
       "  1349.9,1486.45 1349.9,47.2441 \n",
       "  \"/>\n",
       "<polyline clip-path=\"url(#clip292)\" style=\"stroke:#000000; stroke-linecap:butt; stroke-linejoin:round; stroke-width:2; stroke-opacity:0.1; fill:none\" points=\"\n",
       "  1819.62,1486.45 1819.62,47.2441 \n",
       "  \"/>\n",
       "<polyline clip-path=\"url(#clip292)\" style=\"stroke:#000000; stroke-linecap:butt; stroke-linejoin:round; stroke-width:2; stroke-opacity:0.1; fill:none\" points=\"\n",
       "  2289.34,1486.45 2289.34,47.2441 \n",
       "  \"/>\n",
       "<polyline clip-path=\"url(#clip290)\" style=\"stroke:#000000; stroke-linecap:butt; stroke-linejoin:round; stroke-width:4; stroke-opacity:1; fill:none\" points=\"\n",
       "  112.177,1486.45 2352.76,1486.45 \n",
       "  \"/>\n",
       "<polyline clip-path=\"url(#clip290)\" style=\"stroke:#000000; stroke-linecap:butt; stroke-linejoin:round; stroke-width:4; stroke-opacity:1; fill:none\" points=\"\n",
       "  410.451,1486.45 410.451,1467.55 \n",
       "  \"/>\n",
       "<polyline clip-path=\"url(#clip290)\" style=\"stroke:#000000; stroke-linecap:butt; stroke-linejoin:round; stroke-width:4; stroke-opacity:1; fill:none\" points=\"\n",
       "  880.174,1486.45 880.174,1467.55 \n",
       "  \"/>\n",
       "<polyline clip-path=\"url(#clip290)\" style=\"stroke:#000000; stroke-linecap:butt; stroke-linejoin:round; stroke-width:4; stroke-opacity:1; fill:none\" points=\"\n",
       "  1349.9,1486.45 1349.9,1467.55 \n",
       "  \"/>\n",
       "<polyline clip-path=\"url(#clip290)\" style=\"stroke:#000000; stroke-linecap:butt; stroke-linejoin:round; stroke-width:4; stroke-opacity:1; fill:none\" points=\"\n",
       "  1819.62,1486.45 1819.62,1467.55 \n",
       "  \"/>\n",
       "<polyline clip-path=\"url(#clip290)\" style=\"stroke:#000000; stroke-linecap:butt; stroke-linejoin:round; stroke-width:4; stroke-opacity:1; fill:none\" points=\"\n",
       "  2289.34,1486.45 2289.34,1467.55 \n",
       "  \"/>\n",
       "<path clip-path=\"url(#clip290)\" d=\"M374.144 1544.91 L390.463 1544.91 L390.463 1548.85 L368.519 1548.85 L368.519 1544.91 Q371.181 1542.16 375.764 1537.53 Q380.37 1532.88 381.551 1531.53 Q383.796 1529.01 384.676 1527.27 Q385.579 1525.51 385.579 1523.82 Q385.579 1521.07 383.634 1519.33 Q381.713 1517.6 378.611 1517.6 Q376.412 1517.6 373.958 1518.36 Q371.528 1519.13 368.75 1520.68 L368.75 1515.95 Q371.574 1514.82 374.028 1514.24 Q376.482 1513.66 378.519 1513.66 Q383.889 1513.66 387.083 1516.35 Q390.278 1519.03 390.278 1523.52 Q390.278 1525.65 389.468 1527.57 Q388.681 1529.47 386.574 1532.07 Q385.995 1532.74 382.894 1535.95 Q379.792 1539.15 374.144 1544.91 Z\" fill=\"#000000\" fill-rule=\"evenodd\" fill-opacity=\"1\" /><path clip-path=\"url(#clip290)\" d=\"M410.278 1517.37 Q406.667 1517.37 404.838 1520.93 Q403.032 1524.47 403.032 1531.6 Q403.032 1538.71 404.838 1542.27 Q406.667 1545.82 410.278 1545.82 Q413.912 1545.82 415.717 1542.27 Q417.546 1538.71 417.546 1531.6 Q417.546 1524.47 415.717 1520.93 Q413.912 1517.37 410.278 1517.37 M410.278 1513.66 Q416.088 1513.66 419.143 1518.27 Q422.222 1522.85 422.222 1531.6 Q422.222 1540.33 419.143 1544.94 Q416.088 1549.52 410.278 1549.52 Q404.468 1549.52 401.389 1544.94 Q398.333 1540.33 398.333 1531.6 Q398.333 1522.85 401.389 1518.27 Q404.468 1513.66 410.278 1513.66 Z\" fill=\"#000000\" fill-rule=\"evenodd\" fill-opacity=\"1\" /><path clip-path=\"url(#clip290)\" d=\"M440.44 1517.37 Q436.828 1517.37 435 1520.93 Q433.194 1524.47 433.194 1531.6 Q433.194 1538.71 435 1542.27 Q436.828 1545.82 440.44 1545.82 Q444.074 1545.82 445.879 1542.27 Q447.708 1538.71 447.708 1531.6 Q447.708 1524.47 445.879 1520.93 Q444.074 1517.37 440.44 1517.37 M440.44 1513.66 Q446.25 1513.66 449.305 1518.27 Q452.384 1522.85 452.384 1531.6 Q452.384 1540.33 449.305 1544.94 Q446.25 1549.52 440.44 1549.52 Q434.629 1549.52 431.551 1544.94 Q428.495 1540.33 428.495 1531.6 Q428.495 1522.85 431.551 1518.27 Q434.629 1513.66 440.44 1513.66 Z\" fill=\"#000000\" fill-rule=\"evenodd\" fill-opacity=\"1\" /><path clip-path=\"url(#clip290)\" d=\"M853.265 1518.36 L841.459 1536.81 L853.265 1536.81 L853.265 1518.36 M852.038 1514.29 L857.917 1514.29 L857.917 1536.81 L862.848 1536.81 L862.848 1540.7 L857.917 1540.7 L857.917 1548.85 L853.265 1548.85 L853.265 1540.7 L837.663 1540.7 L837.663 1536.19 L852.038 1514.29 Z\" fill=\"#000000\" fill-rule=\"evenodd\" fill-opacity=\"1\" /><path clip-path=\"url(#clip290)\" d=\"M880.579 1517.37 Q876.968 1517.37 875.14 1520.93 Q873.334 1524.47 873.334 1531.6 Q873.334 1538.71 875.14 1542.27 Q876.968 1545.82 880.579 1545.82 Q884.214 1545.82 886.019 1542.27 Q887.848 1538.71 887.848 1531.6 Q887.848 1524.47 886.019 1520.93 Q884.214 1517.37 880.579 1517.37 M880.579 1513.66 Q886.39 1513.66 889.445 1518.27 Q892.524 1522.85 892.524 1531.6 Q892.524 1540.33 889.445 1544.94 Q886.39 1549.52 880.579 1549.52 Q874.769 1549.52 871.691 1544.94 Q868.635 1540.33 868.635 1531.6 Q868.635 1522.85 871.691 1518.27 Q874.769 1513.66 880.579 1513.66 Z\" fill=\"#000000\" fill-rule=\"evenodd\" fill-opacity=\"1\" /><path clip-path=\"url(#clip290)\" d=\"M910.741 1517.37 Q907.13 1517.37 905.301 1520.93 Q903.496 1524.47 903.496 1531.6 Q903.496 1538.71 905.301 1542.27 Q907.13 1545.82 910.741 1545.82 Q914.375 1545.82 916.181 1542.27 Q918.01 1538.71 918.01 1531.6 Q918.01 1524.47 916.181 1520.93 Q914.375 1517.37 910.741 1517.37 M910.741 1513.66 Q916.551 1513.66 919.607 1518.27 Q922.686 1522.85 922.686 1531.6 Q922.686 1540.33 919.607 1544.94 Q916.551 1549.52 910.741 1549.52 Q904.931 1549.52 901.852 1544.94 Q898.797 1540.33 898.797 1531.6 Q898.797 1522.85 901.852 1518.27 Q904.931 1513.66 910.741 1513.66 Z\" fill=\"#000000\" fill-rule=\"evenodd\" fill-opacity=\"1\" /><path clip-path=\"url(#clip290)\" d=\"M1320.22 1529.7 Q1317.07 1529.7 1315.22 1531.86 Q1313.39 1534.01 1313.39 1537.76 Q1313.39 1541.49 1315.22 1543.66 Q1317.07 1545.82 1320.22 1545.82 Q1323.37 1545.82 1325.2 1543.66 Q1327.05 1541.49 1327.05 1537.76 Q1327.05 1534.01 1325.2 1531.86 Q1323.37 1529.7 1320.22 1529.7 M1329.5 1515.05 L1329.5 1519.31 Q1327.74 1518.48 1325.94 1518.04 Q1324.16 1517.6 1322.4 1517.6 Q1317.77 1517.6 1315.31 1520.72 Q1312.88 1523.85 1312.54 1530.17 Q1313.9 1528.15 1315.96 1527.09 Q1318.02 1526 1320.5 1526 Q1325.71 1526 1328.72 1529.17 Q1331.75 1532.32 1331.75 1537.76 Q1331.75 1543.08 1328.6 1546.3 Q1325.45 1549.52 1320.22 1549.52 Q1314.23 1549.52 1311.05 1544.94 Q1307.88 1540.33 1307.88 1531.6 Q1307.88 1523.41 1311.77 1518.55 Q1315.66 1513.66 1322.21 1513.66 Q1323.97 1513.66 1325.75 1514.01 Q1327.56 1514.36 1329.5 1515.05 Z\" fill=\"#000000\" fill-rule=\"evenodd\" fill-opacity=\"1\" /><path clip-path=\"url(#clip290)\" d=\"M1349.8 1517.37 Q1346.19 1517.37 1344.36 1520.93 Q1342.56 1524.47 1342.56 1531.6 Q1342.56 1538.71 1344.36 1542.27 Q1346.19 1545.82 1349.8 1545.82 Q1353.44 1545.82 1355.24 1542.27 Q1357.07 1538.71 1357.07 1531.6 Q1357.07 1524.47 1355.24 1520.93 Q1353.44 1517.37 1349.8 1517.37 M1349.8 1513.66 Q1355.61 1513.66 1358.67 1518.27 Q1361.75 1522.85 1361.75 1531.6 Q1361.75 1540.33 1358.67 1544.94 Q1355.61 1549.52 1349.8 1549.52 Q1343.99 1549.52 1340.92 1544.94 Q1337.86 1540.33 1337.86 1531.6 Q1337.86 1522.85 1340.92 1518.27 Q1343.99 1513.66 1349.8 1513.66 Z\" fill=\"#000000\" fill-rule=\"evenodd\" fill-opacity=\"1\" /><path clip-path=\"url(#clip290)\" d=\"M1379.97 1517.37 Q1376.36 1517.37 1374.53 1520.93 Q1372.72 1524.47 1372.72 1531.6 Q1372.72 1538.71 1374.53 1542.27 Q1376.36 1545.82 1379.97 1545.82 Q1383.6 1545.82 1385.41 1542.27 Q1387.24 1538.71 1387.24 1531.6 Q1387.24 1524.47 1385.41 1520.93 Q1383.6 1517.37 1379.97 1517.37 M1379.97 1513.66 Q1385.78 1513.66 1388.83 1518.27 Q1391.91 1522.85 1391.91 1531.6 Q1391.91 1540.33 1388.83 1544.94 Q1385.78 1549.52 1379.97 1549.52 Q1374.16 1549.52 1371.08 1544.94 Q1368.02 1540.33 1368.02 1531.6 Q1368.02 1522.85 1371.08 1518.27 Q1374.16 1513.66 1379.97 1513.66 Z\" fill=\"#000000\" fill-rule=\"evenodd\" fill-opacity=\"1\" /><path clip-path=\"url(#clip290)\" d=\"M1789.41 1532.44 Q1786.08 1532.44 1784.16 1534.22 Q1782.26 1536 1782.26 1539.13 Q1782.26 1542.25 1784.16 1544.03 Q1786.08 1545.82 1789.41 1545.82 Q1792.75 1545.82 1794.67 1544.03 Q1796.59 1542.23 1796.59 1539.13 Q1796.59 1536 1794.67 1534.22 Q1792.77 1532.44 1789.41 1532.44 M1784.74 1530.45 Q1781.73 1529.7 1780.04 1527.64 Q1778.37 1525.58 1778.37 1522.62 Q1778.37 1518.48 1781.31 1516.07 Q1784.27 1513.66 1789.41 1513.66 Q1794.57 1513.66 1797.51 1516.07 Q1800.45 1518.48 1800.45 1522.62 Q1800.45 1525.58 1798.76 1527.64 Q1797.1 1529.7 1794.11 1530.45 Q1797.49 1531.23 1799.37 1533.52 Q1801.26 1535.82 1801.26 1539.13 Q1801.26 1544.15 1798.19 1546.83 Q1795.13 1549.52 1789.41 1549.52 Q1783.69 1549.52 1780.62 1546.83 Q1777.56 1544.15 1777.56 1539.13 Q1777.56 1535.82 1779.46 1533.52 Q1781.36 1531.23 1784.74 1530.45 M1783.02 1523.06 Q1783.02 1525.75 1784.69 1527.25 Q1786.38 1528.76 1789.41 1528.76 Q1792.42 1528.76 1794.11 1527.25 Q1795.82 1525.75 1795.82 1523.06 Q1795.82 1520.38 1794.11 1518.87 Q1792.42 1517.37 1789.41 1517.37 Q1786.38 1517.37 1784.69 1518.87 Q1783.02 1520.38 1783.02 1523.06 Z\" fill=\"#000000\" fill-rule=\"evenodd\" fill-opacity=\"1\" /><path clip-path=\"url(#clip290)\" d=\"M1819.57 1517.37 Q1815.96 1517.37 1814.13 1520.93 Q1812.33 1524.47 1812.33 1531.6 Q1812.33 1538.71 1814.13 1542.27 Q1815.96 1545.82 1819.57 1545.82 Q1823.21 1545.82 1825.01 1542.27 Q1826.84 1538.71 1826.84 1531.6 Q1826.84 1524.47 1825.01 1520.93 Q1823.21 1517.37 1819.57 1517.37 M1819.57 1513.66 Q1825.38 1513.66 1828.44 1518.27 Q1831.52 1522.85 1831.52 1531.6 Q1831.52 1540.33 1828.44 1544.94 Q1825.38 1549.52 1819.57 1549.52 Q1813.76 1549.52 1810.69 1544.94 Q1807.63 1540.33 1807.63 1531.6 Q1807.63 1522.85 1810.69 1518.27 Q1813.76 1513.66 1819.57 1513.66 Z\" fill=\"#000000\" fill-rule=\"evenodd\" fill-opacity=\"1\" /><path clip-path=\"url(#clip290)\" d=\"M1849.74 1517.37 Q1846.12 1517.37 1844.3 1520.93 Q1842.49 1524.47 1842.49 1531.6 Q1842.49 1538.71 1844.3 1542.27 Q1846.12 1545.82 1849.74 1545.82 Q1853.37 1545.82 1855.18 1542.27 Q1857 1538.71 1857 1531.6 Q1857 1524.47 1855.18 1520.93 Q1853.37 1517.37 1849.74 1517.37 M1849.74 1513.66 Q1855.55 1513.66 1858.6 1518.27 Q1861.68 1522.85 1861.68 1531.6 Q1861.68 1540.33 1858.6 1544.94 Q1855.55 1549.52 1849.74 1549.52 Q1843.93 1549.52 1840.85 1544.94 Q1837.79 1540.33 1837.79 1531.6 Q1837.79 1522.85 1840.85 1518.27 Q1843.93 1513.66 1849.74 1513.66 Z\" fill=\"#000000\" fill-rule=\"evenodd\" fill-opacity=\"1\" /><path clip-path=\"url(#clip290)\" d=\"M2233.87 1544.91 L2241.51 1544.91 L2241.51 1518.55 L2233.2 1520.21 L2233.2 1515.95 L2241.46 1514.29 L2246.14 1514.29 L2246.14 1544.91 L2253.78 1544.91 L2253.78 1548.85 L2233.87 1548.85 L2233.87 1544.91 Z\" fill=\"#000000\" fill-rule=\"evenodd\" fill-opacity=\"1\" /><path clip-path=\"url(#clip290)\" d=\"M2273.22 1517.37 Q2269.61 1517.37 2267.78 1520.93 Q2265.98 1524.47 2265.98 1531.6 Q2265.98 1538.71 2267.78 1542.27 Q2269.61 1545.82 2273.22 1545.82 Q2276.85 1545.82 2278.66 1542.27 Q2280.49 1538.71 2280.49 1531.6 Q2280.49 1524.47 2278.66 1520.93 Q2276.85 1517.37 2273.22 1517.37 M2273.22 1513.66 Q2279.03 1513.66 2282.09 1518.27 Q2285.17 1522.85 2285.17 1531.6 Q2285.17 1540.33 2282.09 1544.94 Q2279.03 1549.52 2273.22 1549.52 Q2267.41 1549.52 2264.33 1544.94 Q2261.28 1540.33 2261.28 1531.6 Q2261.28 1522.85 2264.33 1518.27 Q2267.41 1513.66 2273.22 1513.66 Z\" fill=\"#000000\" fill-rule=\"evenodd\" fill-opacity=\"1\" /><path clip-path=\"url(#clip290)\" d=\"M2303.38 1517.37 Q2299.77 1517.37 2297.94 1520.93 Q2296.14 1524.47 2296.14 1531.6 Q2296.14 1538.71 2297.94 1542.27 Q2299.77 1545.82 2303.38 1545.82 Q2307.02 1545.82 2308.82 1542.27 Q2310.65 1538.71 2310.65 1531.6 Q2310.65 1524.47 2308.82 1520.93 Q2307.02 1517.37 2303.38 1517.37 M2303.38 1513.66 Q2309.19 1513.66 2312.25 1518.27 Q2315.33 1522.85 2315.33 1531.6 Q2315.33 1540.33 2312.25 1544.94 Q2309.19 1549.52 2303.38 1549.52 Q2297.57 1549.52 2294.49 1544.94 Q2291.44 1540.33 2291.44 1531.6 Q2291.44 1522.85 2294.49 1518.27 Q2297.57 1513.66 2303.38 1513.66 Z\" fill=\"#000000\" fill-rule=\"evenodd\" fill-opacity=\"1\" /><path clip-path=\"url(#clip290)\" d=\"M2333.54 1517.37 Q2329.93 1517.37 2328.1 1520.93 Q2326.3 1524.47 2326.3 1531.6 Q2326.3 1538.71 2328.1 1542.27 Q2329.93 1545.82 2333.54 1545.82 Q2337.18 1545.82 2338.98 1542.27 Q2340.81 1538.71 2340.81 1531.6 Q2340.81 1524.47 2338.98 1520.93 Q2337.18 1517.37 2333.54 1517.37 M2333.54 1513.66 Q2339.35 1513.66 2342.41 1518.27 Q2345.49 1522.85 2345.49 1531.6 Q2345.49 1540.33 2342.41 1544.94 Q2339.35 1549.52 2333.54 1549.52 Q2327.73 1549.52 2324.66 1544.94 Q2321.6 1540.33 2321.6 1531.6 Q2321.6 1522.85 2324.66 1518.27 Q2327.73 1513.66 2333.54 1513.66 Z\" fill=\"#000000\" fill-rule=\"evenodd\" fill-opacity=\"1\" /><polyline clip-path=\"url(#clip292)\" style=\"stroke:#000000; stroke-linecap:butt; stroke-linejoin:round; stroke-width:2; stroke-opacity:0.1; fill:none\" points=\"\n",
       "  112.177,1447.73 2352.76,1447.73 \n",
       "  \"/>\n",
       "<polyline clip-path=\"url(#clip292)\" style=\"stroke:#000000; stroke-linecap:butt; stroke-linejoin:round; stroke-width:2; stroke-opacity:0.1; fill:none\" points=\"\n",
       "  112.177,1112.65 2352.76,1112.65 \n",
       "  \"/>\n",
       "<polyline clip-path=\"url(#clip292)\" style=\"stroke:#000000; stroke-linecap:butt; stroke-linejoin:round; stroke-width:2; stroke-opacity:0.1; fill:none\" points=\"\n",
       "  112.177,777.569 2352.76,777.569 \n",
       "  \"/>\n",
       "<polyline clip-path=\"url(#clip292)\" style=\"stroke:#000000; stroke-linecap:butt; stroke-linejoin:round; stroke-width:2; stroke-opacity:0.1; fill:none\" points=\"\n",
       "  112.177,442.49 2352.76,442.49 \n",
       "  \"/>\n",
       "<polyline clip-path=\"url(#clip292)\" style=\"stroke:#000000; stroke-linecap:butt; stroke-linejoin:round; stroke-width:2; stroke-opacity:0.1; fill:none\" points=\"\n",
       "  112.177,107.411 2352.76,107.411 \n",
       "  \"/>\n",
       "<polyline clip-path=\"url(#clip290)\" style=\"stroke:#000000; stroke-linecap:butt; stroke-linejoin:round; stroke-width:4; stroke-opacity:1; fill:none\" points=\"\n",
       "  112.177,1486.45 112.177,47.2441 \n",
       "  \"/>\n",
       "<polyline clip-path=\"url(#clip290)\" style=\"stroke:#000000; stroke-linecap:butt; stroke-linejoin:round; stroke-width:4; stroke-opacity:1; fill:none\" points=\"\n",
       "  112.177,1447.73 131.075,1447.73 \n",
       "  \"/>\n",
       "<polyline clip-path=\"url(#clip290)\" style=\"stroke:#000000; stroke-linecap:butt; stroke-linejoin:round; stroke-width:4; stroke-opacity:1; fill:none\" points=\"\n",
       "  112.177,1112.65 131.075,1112.65 \n",
       "  \"/>\n",
       "<polyline clip-path=\"url(#clip290)\" style=\"stroke:#000000; stroke-linecap:butt; stroke-linejoin:round; stroke-width:4; stroke-opacity:1; fill:none\" points=\"\n",
       "  112.177,777.569 131.075,777.569 \n",
       "  \"/>\n",
       "<polyline clip-path=\"url(#clip290)\" style=\"stroke:#000000; stroke-linecap:butt; stroke-linejoin:round; stroke-width:4; stroke-opacity:1; fill:none\" points=\"\n",
       "  112.177,442.49 131.075,442.49 \n",
       "  \"/>\n",
       "<polyline clip-path=\"url(#clip290)\" style=\"stroke:#000000; stroke-linecap:butt; stroke-linejoin:round; stroke-width:4; stroke-opacity:1; fill:none\" points=\"\n",
       "  112.177,107.411 131.075,107.411 \n",
       "  \"/>\n",
       "<path clip-path=\"url(#clip290)\" d=\"M64.2328 1433.52 Q60.6217 1433.52 58.793 1437.09 Q56.9875 1440.63 56.9875 1447.76 Q56.9875 1454.87 58.793 1458.43 Q60.6217 1461.97 64.2328 1461.97 Q67.867 1461.97 69.6726 1458.43 Q71.5013 1454.87 71.5013 1447.76 Q71.5013 1440.63 69.6726 1437.09 Q67.867 1433.52 64.2328 1433.52 M64.2328 1429.82 Q70.0429 1429.82 73.0985 1434.43 Q76.1772 1439.01 76.1772 1447.76 Q76.1772 1456.49 73.0985 1461.09 Q70.0429 1465.68 64.2328 1465.68 Q58.4226 1465.68 55.344 1461.09 Q52.2884 1456.49 52.2884 1447.76 Q52.2884 1439.01 55.344 1434.43 Q58.4226 1429.82 64.2328 1429.82 Z\" fill=\"#000000\" fill-rule=\"evenodd\" fill-opacity=\"1\" /><path clip-path=\"url(#clip290)\" d=\"M56.2699 1125.99 L63.9087 1125.99 L63.9087 1099.63 L55.5986 1101.29 L55.5986 1097.03 L63.8624 1095.37 L68.5383 1095.37 L68.5383 1125.99 L76.1772 1125.99 L76.1772 1129.93 L56.2699 1129.93 L56.2699 1125.99 Z\" fill=\"#000000\" fill-rule=\"evenodd\" fill-opacity=\"1\" /><path clip-path=\"url(#clip290)\" d=\"M59.8578 790.913 L76.1772 790.913 L76.1772 794.849 L54.2328 794.849 L54.2328 790.913 Q56.8949 788.159 61.4782 783.529 Q66.0846 778.876 67.2652 777.534 Q69.5105 775.011 70.3902 773.275 Q71.2929 771.515 71.2929 769.825 Q71.2929 767.071 69.3485 765.335 Q67.4272 763.599 64.3254 763.599 Q62.1263 763.599 59.6726 764.363 Q57.2421 765.126 54.4643 766.677 L54.4643 761.955 Q57.2884 760.821 59.7421 760.242 Q62.1958 759.664 64.2328 759.664 Q69.6031 759.664 72.7976 762.349 Q75.992 765.034 75.992 769.525 Q75.992 771.654 75.1818 773.575 Q74.3948 775.474 72.2883 778.066 Q71.7096 778.737 68.6078 781.955 Q65.5059 785.149 59.8578 790.913 Z\" fill=\"#000000\" fill-rule=\"evenodd\" fill-opacity=\"1\" /><path clip-path=\"url(#clip290)\" d=\"M69.0476 441.136 Q72.404 441.853 74.279 444.122 Q76.1772 446.39 76.1772 449.723 Q76.1772 454.839 72.6587 457.64 Q69.1402 460.441 62.6587 460.441 Q60.4828 460.441 58.168 460.001 Q55.8764 459.584 53.4227 458.728 L53.4227 454.214 Q55.3671 455.348 57.6819 455.927 Q59.9967 456.506 62.5198 456.506 Q66.918 456.506 69.2096 454.77 Q71.5244 453.034 71.5244 449.723 Q71.5244 446.668 69.3717 444.955 Q67.242 443.219 63.4226 443.219 L59.3949 443.219 L59.3949 439.376 L63.6078 439.376 Q67.0569 439.376 68.8855 438.011 Q70.7142 436.622 70.7142 434.029 Q70.7142 431.367 68.8161 429.955 Q66.9411 428.52 63.4226 428.52 Q61.5013 428.52 59.3023 428.937 Q57.1032 429.353 54.4643 430.233 L54.4643 426.066 Q57.1264 425.325 59.4412 424.955 Q61.7791 424.585 63.8393 424.585 Q69.1633 424.585 72.2652 427.015 Q75.367 429.423 75.367 433.543 Q75.367 436.413 73.7235 438.404 Q72.08 440.372 69.0476 441.136 Z\" fill=\"#000000\" fill-rule=\"evenodd\" fill-opacity=\"1\" /><path clip-path=\"url(#clip290)\" d=\"M66.5939 94.2049 L54.7884 112.654 L66.5939 112.654 L66.5939 94.2049 M65.367 90.1308 L71.2466 90.1308 L71.2466 112.654 L76.1772 112.654 L76.1772 116.543 L71.2466 116.543 L71.2466 124.691 L66.5939 124.691 L66.5939 116.543 L50.9921 116.543 L50.9921 112.029 L65.367 90.1308 Z\" fill=\"#000000\" fill-rule=\"evenodd\" fill-opacity=\"1\" /><circle clip-path=\"url(#clip292)\" cx=\"175.59\" cy=\"1445.72\" r=\"14\" fill=\"#009af9\" fill-rule=\"evenodd\" fill-opacity=\"1\" stroke=\"#000000\" stroke-opacity=\"1\" stroke-width=\"3.2\"/>\n",
       "<circle clip-path=\"url(#clip292)\" cx=\"410.451\" cy=\"1434.99\" r=\"14\" fill=\"#009af9\" fill-rule=\"evenodd\" fill-opacity=\"1\" stroke=\"#000000\" stroke-opacity=\"1\" stroke-width=\"3.2\"/>\n",
       "<circle clip-path=\"url(#clip292)\" cx=\"645.313\" cy=\"1411.87\" r=\"14\" fill=\"#009af9\" fill-rule=\"evenodd\" fill-opacity=\"1\" stroke=\"#000000\" stroke-opacity=\"1\" stroke-width=\"3.2\"/>\n",
       "<circle clip-path=\"url(#clip292)\" cx=\"880.174\" cy=\"1363.62\" r=\"14\" fill=\"#009af9\" fill-rule=\"evenodd\" fill-opacity=\"1\" stroke=\"#000000\" stroke-opacity=\"1\" stroke-width=\"3.2\"/>\n",
       "<circle clip-path=\"url(#clip292)\" cx=\"1115.04\" cy=\"1283.87\" r=\"14\" fill=\"#009af9\" fill-rule=\"evenodd\" fill-opacity=\"1\" stroke=\"#000000\" stroke-opacity=\"1\" stroke-width=\"3.2\"/>\n",
       "<circle clip-path=\"url(#clip292)\" cx=\"1349.9\" cy=\"1165.92\" r=\"14\" fill=\"#009af9\" fill-rule=\"evenodd\" fill-opacity=\"1\" stroke=\"#000000\" stroke-opacity=\"1\" stroke-width=\"3.2\"/>\n",
       "<circle clip-path=\"url(#clip292)\" cx=\"1584.76\" cy=\"998.05\" r=\"14\" fill=\"#009af9\" fill-rule=\"evenodd\" fill-opacity=\"1\" stroke=\"#000000\" stroke-opacity=\"1\" stroke-width=\"3.2\"/>\n",
       "<circle clip-path=\"url(#clip292)\" cx=\"1819.62\" cy=\"760.144\" r=\"14\" fill=\"#009af9\" fill-rule=\"evenodd\" fill-opacity=\"1\" stroke=\"#000000\" stroke-opacity=\"1\" stroke-width=\"3.2\"/>\n",
       "<circle clip-path=\"url(#clip292)\" cx=\"2054.48\" cy=\"435.453\" r=\"14\" fill=\"#009af9\" fill-rule=\"evenodd\" fill-opacity=\"1\" stroke=\"#000000\" stroke-opacity=\"1\" stroke-width=\"3.2\"/>\n",
       "<circle clip-path=\"url(#clip292)\" cx=\"2289.34\" cy=\"87.9763\" r=\"14\" fill=\"#009af9\" fill-rule=\"evenodd\" fill-opacity=\"1\" stroke=\"#000000\" stroke-opacity=\"1\" stroke-width=\"3.2\"/>\n",
       "</svg>\n"
      ]
     },
     "execution_count": 45,
     "metadata": {},
     "output_type": "execute_result"
    }
   ],
   "source": [
    "fit_poly_julia_i = fit(x_julia, y_julia_i, 3)\n",
    "scatter(x_julia,y_julia_i, label =\"\")"
   ]
  },
  {
   "cell_type": "code",
   "execution_count": 46,
   "metadata": {},
   "outputs": [
    {
     "data": {
      "text/plain": [
       "10×4 Matrix{Float64}:\n",
       " 0.0  0.0  0.0  0.0\n",
       " 0.0  0.0  0.0  0.0\n",
       " 0.0  0.0  0.0  0.0\n",
       " 0.0  0.0  0.0  0.0\n",
       " 0.0  0.0  0.0  0.0\n",
       " 0.0  0.0  0.0  0.0\n",
       " 0.0  0.0  0.0  0.0\n",
       " 0.0  0.0  0.0  0.0\n",
       " 0.0  0.0  0.0  0.0\n",
       " 0.0  0.0  0.0  0.0"
      ]
     },
     "execution_count": 46,
     "metadata": {},
     "output_type": "execute_result"
    }
   ],
   "source": [
    "A_aprox = zeros(10, 4)"
   ]
  },
  {
   "cell_type": "code",
   "execution_count": 49,
   "metadata": {},
   "outputs": [
    {
     "data": {
      "text/plain": [
       "10×4 Matrix{Float64}:\n",
       " 1.0e6    10000.0     100.0  1.0\n",
       " 8.0e6    40000.0     200.0  1.0\n",
       " 2.7e7    90000.0     300.0  1.0\n",
       " 6.4e7   160000.0     400.0  1.0\n",
       " 1.25e8  250000.0     500.0  1.0\n",
       " 2.16e8  360000.0     600.0  1.0\n",
       " 3.43e8  490000.0     700.0  1.0\n",
       " 5.12e8  640000.0     800.0  1.0\n",
       " 7.29e8  810000.0     900.0  1.0\n",
       " 1.0e9        1.0e6  1000.0  1.0"
      ]
     },
     "execution_count": 49,
     "metadata": {},
     "output_type": "execute_result"
    }
   ],
   "source": [
    "A_aprox[:,1]=x_julia.^3;\n",
    "A_aprox[:,2]=x_julia.^2;\n",
    "A_aprox[:,3]=x_julia.^1;\n",
    "A_aprox[:,4]=ones(10);\n",
    "A_aprox"
   ]
  },
  {
   "cell_type": "code",
   "execution_count": 52,
   "metadata": {},
   "outputs": [
    {
     "data": {
      "text/html": [
       "0.012499999999998014 &#45; 2.0099067599056556e-5&#8729;x &#45; 2.3747086247088054e-7&#8729;x<sup>2</sup> &#43; 4.33216783216784e-9&#8729;x<sup>3</sup>"
      ],
      "text/latex": [
       "$0.012499999999998014 - 2.0099067599056556e-5\\cdot x - 2.3747086247088054e-7\\cdot x^{2} + 4.33216783216784e-9\\cdot x^{3}$"
      ],
      "text/plain": [
       "Polynomial(0.012499999999998014 - 2.0099067599056556e-5*x - 2.3747086247088054e-7*x^2 + 4.33216783216784e-9*x^3)"
      ]
     },
     "execution_count": 52,
     "metadata": {},
     "output_type": "execute_result"
    }
   ],
   "source": [
    "A_aprox_F = factorize(A_aprox)\n",
    "\n",
    "aprox_res_QR = A_aprox_F \\ y_julia_i\n",
    "\n",
    "poly_aprox = Polynomial( reverse(aprox_res_QR))\n",
    "fit_aprox = fit(x_julia, y_julia_i, 3)"
   ]
  },
  {
   "cell_type": "code",
   "execution_count": 57,
   "metadata": {},
   "outputs": [
    {
     "data": {
      "image/svg+xml": [
       "<?xml version=\"1.0\" encoding=\"utf-8\"?>\n",
       "<svg xmlns=\"http://www.w3.org/2000/svg\" xmlns:xlink=\"http://www.w3.org/1999/xlink\" width=\"600\" height=\"400\" viewBox=\"0 0 2400 1600\">\n",
       "<defs>\n",
       "  <clipPath id=\"clip490\">\n",
       "    <rect x=\"0\" y=\"0\" width=\"2400\" height=\"1600\"/>\n",
       "  </clipPath>\n",
       "</defs>\n",
       "<path clip-path=\"url(#clip490)\" d=\"\n",
       "M0 1600 L2400 1600 L2400 0 L0 0  Z\n",
       "  \" fill=\"#ffffff\" fill-rule=\"evenodd\" fill-opacity=\"1\"/>\n",
       "<defs>\n",
       "  <clipPath id=\"clip491\">\n",
       "    <rect x=\"480\" y=\"0\" width=\"1681\" height=\"1600\"/>\n",
       "  </clipPath>\n",
       "</defs>\n",
       "<path clip-path=\"url(#clip490)\" d=\"\n",
       "M112.177 1486.45 L2352.76 1486.45 L2352.76 123.472 L112.177 123.472  Z\n",
       "  \" fill=\"#ffffff\" fill-rule=\"evenodd\" fill-opacity=\"1\"/>\n",
       "<defs>\n",
       "  <clipPath id=\"clip492\">\n",
       "    <rect x=\"112\" y=\"123\" width=\"2242\" height=\"1364\"/>\n",
       "  </clipPath>\n",
       "</defs>\n",
       "<polyline clip-path=\"url(#clip492)\" style=\"stroke:#000000; stroke-linecap:butt; stroke-linejoin:round; stroke-width:2; stroke-opacity:0.1; fill:none\" points=\"\n",
       "  410.451,1486.45 410.451,123.472 \n",
       "  \"/>\n",
       "<polyline clip-path=\"url(#clip492)\" style=\"stroke:#000000; stroke-linecap:butt; stroke-linejoin:round; stroke-width:2; stroke-opacity:0.1; fill:none\" points=\"\n",
       "  880.174,1486.45 880.174,123.472 \n",
       "  \"/>\n",
       "<polyline clip-path=\"url(#clip492)\" style=\"stroke:#000000; stroke-linecap:butt; stroke-linejoin:round; stroke-width:2; stroke-opacity:0.1; fill:none\" points=\"\n",
       "  1349.9,1486.45 1349.9,123.472 \n",
       "  \"/>\n",
       "<polyline clip-path=\"url(#clip492)\" style=\"stroke:#000000; stroke-linecap:butt; stroke-linejoin:round; stroke-width:2; stroke-opacity:0.1; fill:none\" points=\"\n",
       "  1819.62,1486.45 1819.62,123.472 \n",
       "  \"/>\n",
       "<polyline clip-path=\"url(#clip492)\" style=\"stroke:#000000; stroke-linecap:butt; stroke-linejoin:round; stroke-width:2; stroke-opacity:0.1; fill:none\" points=\"\n",
       "  2289.34,1486.45 2289.34,123.472 \n",
       "  \"/>\n",
       "<polyline clip-path=\"url(#clip490)\" style=\"stroke:#000000; stroke-linecap:butt; stroke-linejoin:round; stroke-width:4; stroke-opacity:1; fill:none\" points=\"\n",
       "  112.177,1486.45 2352.76,1486.45 \n",
       "  \"/>\n",
       "<polyline clip-path=\"url(#clip490)\" style=\"stroke:#000000; stroke-linecap:butt; stroke-linejoin:round; stroke-width:4; stroke-opacity:1; fill:none\" points=\"\n",
       "  410.451,1486.45 410.451,1467.55 \n",
       "  \"/>\n",
       "<polyline clip-path=\"url(#clip490)\" style=\"stroke:#000000; stroke-linecap:butt; stroke-linejoin:round; stroke-width:4; stroke-opacity:1; fill:none\" points=\"\n",
       "  880.174,1486.45 880.174,1467.55 \n",
       "  \"/>\n",
       "<polyline clip-path=\"url(#clip490)\" style=\"stroke:#000000; stroke-linecap:butt; stroke-linejoin:round; stroke-width:4; stroke-opacity:1; fill:none\" points=\"\n",
       "  1349.9,1486.45 1349.9,1467.55 \n",
       "  \"/>\n",
       "<polyline clip-path=\"url(#clip490)\" style=\"stroke:#000000; stroke-linecap:butt; stroke-linejoin:round; stroke-width:4; stroke-opacity:1; fill:none\" points=\"\n",
       "  1819.62,1486.45 1819.62,1467.55 \n",
       "  \"/>\n",
       "<polyline clip-path=\"url(#clip490)\" style=\"stroke:#000000; stroke-linecap:butt; stroke-linejoin:round; stroke-width:4; stroke-opacity:1; fill:none\" points=\"\n",
       "  2289.34,1486.45 2289.34,1467.55 \n",
       "  \"/>\n",
       "<path clip-path=\"url(#clip490)\" d=\"M374.144 1544.91 L390.463 1544.91 L390.463 1548.85 L368.519 1548.85 L368.519 1544.91 Q371.181 1542.16 375.764 1537.53 Q380.37 1532.88 381.551 1531.53 Q383.796 1529.01 384.676 1527.27 Q385.579 1525.51 385.579 1523.82 Q385.579 1521.07 383.634 1519.33 Q381.713 1517.6 378.611 1517.6 Q376.412 1517.6 373.958 1518.36 Q371.528 1519.13 368.75 1520.68 L368.75 1515.95 Q371.574 1514.82 374.028 1514.24 Q376.482 1513.66 378.519 1513.66 Q383.889 1513.66 387.083 1516.35 Q390.278 1519.03 390.278 1523.52 Q390.278 1525.65 389.468 1527.57 Q388.681 1529.47 386.574 1532.07 Q385.995 1532.74 382.894 1535.95 Q379.792 1539.15 374.144 1544.91 Z\" fill=\"#000000\" fill-rule=\"evenodd\" fill-opacity=\"1\" /><path clip-path=\"url(#clip490)\" d=\"M410.278 1517.37 Q406.667 1517.37 404.838 1520.93 Q403.032 1524.47 403.032 1531.6 Q403.032 1538.71 404.838 1542.27 Q406.667 1545.82 410.278 1545.82 Q413.912 1545.82 415.717 1542.27 Q417.546 1538.71 417.546 1531.6 Q417.546 1524.47 415.717 1520.93 Q413.912 1517.37 410.278 1517.37 M410.278 1513.66 Q416.088 1513.66 419.143 1518.27 Q422.222 1522.85 422.222 1531.6 Q422.222 1540.33 419.143 1544.94 Q416.088 1549.52 410.278 1549.52 Q404.468 1549.52 401.389 1544.94 Q398.333 1540.33 398.333 1531.6 Q398.333 1522.85 401.389 1518.27 Q404.468 1513.66 410.278 1513.66 Z\" fill=\"#000000\" fill-rule=\"evenodd\" fill-opacity=\"1\" /><path clip-path=\"url(#clip490)\" d=\"M440.44 1517.37 Q436.828 1517.37 435 1520.93 Q433.194 1524.47 433.194 1531.6 Q433.194 1538.71 435 1542.27 Q436.828 1545.82 440.44 1545.82 Q444.074 1545.82 445.879 1542.27 Q447.708 1538.71 447.708 1531.6 Q447.708 1524.47 445.879 1520.93 Q444.074 1517.37 440.44 1517.37 M440.44 1513.66 Q446.25 1513.66 449.305 1518.27 Q452.384 1522.85 452.384 1531.6 Q452.384 1540.33 449.305 1544.94 Q446.25 1549.52 440.44 1549.52 Q434.629 1549.52 431.551 1544.94 Q428.495 1540.33 428.495 1531.6 Q428.495 1522.85 431.551 1518.27 Q434.629 1513.66 440.44 1513.66 Z\" fill=\"#000000\" fill-rule=\"evenodd\" fill-opacity=\"1\" /><path clip-path=\"url(#clip490)\" d=\"M853.265 1518.36 L841.459 1536.81 L853.265 1536.81 L853.265 1518.36 M852.038 1514.29 L857.917 1514.29 L857.917 1536.81 L862.848 1536.81 L862.848 1540.7 L857.917 1540.7 L857.917 1548.85 L853.265 1548.85 L853.265 1540.7 L837.663 1540.7 L837.663 1536.19 L852.038 1514.29 Z\" fill=\"#000000\" fill-rule=\"evenodd\" fill-opacity=\"1\" /><path clip-path=\"url(#clip490)\" d=\"M880.579 1517.37 Q876.968 1517.37 875.14 1520.93 Q873.334 1524.47 873.334 1531.6 Q873.334 1538.71 875.14 1542.27 Q876.968 1545.82 880.579 1545.82 Q884.214 1545.82 886.019 1542.27 Q887.848 1538.71 887.848 1531.6 Q887.848 1524.47 886.019 1520.93 Q884.214 1517.37 880.579 1517.37 M880.579 1513.66 Q886.39 1513.66 889.445 1518.27 Q892.524 1522.85 892.524 1531.6 Q892.524 1540.33 889.445 1544.94 Q886.39 1549.52 880.579 1549.52 Q874.769 1549.52 871.691 1544.94 Q868.635 1540.33 868.635 1531.6 Q868.635 1522.85 871.691 1518.27 Q874.769 1513.66 880.579 1513.66 Z\" fill=\"#000000\" fill-rule=\"evenodd\" fill-opacity=\"1\" /><path clip-path=\"url(#clip490)\" d=\"M910.741 1517.37 Q907.13 1517.37 905.301 1520.93 Q903.496 1524.47 903.496 1531.6 Q903.496 1538.71 905.301 1542.27 Q907.13 1545.82 910.741 1545.82 Q914.375 1545.82 916.181 1542.27 Q918.01 1538.71 918.01 1531.6 Q918.01 1524.47 916.181 1520.93 Q914.375 1517.37 910.741 1517.37 M910.741 1513.66 Q916.551 1513.66 919.607 1518.27 Q922.686 1522.85 922.686 1531.6 Q922.686 1540.33 919.607 1544.94 Q916.551 1549.52 910.741 1549.52 Q904.931 1549.52 901.852 1544.94 Q898.797 1540.33 898.797 1531.6 Q898.797 1522.85 901.852 1518.27 Q904.931 1513.66 910.741 1513.66 Z\" fill=\"#000000\" fill-rule=\"evenodd\" fill-opacity=\"1\" /><path clip-path=\"url(#clip490)\" d=\"M1320.22 1529.7 Q1317.07 1529.7 1315.22 1531.86 Q1313.39 1534.01 1313.39 1537.76 Q1313.39 1541.49 1315.22 1543.66 Q1317.07 1545.82 1320.22 1545.82 Q1323.37 1545.82 1325.2 1543.66 Q1327.05 1541.49 1327.05 1537.76 Q1327.05 1534.01 1325.2 1531.86 Q1323.37 1529.7 1320.22 1529.7 M1329.5 1515.05 L1329.5 1519.31 Q1327.74 1518.48 1325.94 1518.04 Q1324.16 1517.6 1322.4 1517.6 Q1317.77 1517.6 1315.31 1520.72 Q1312.88 1523.85 1312.54 1530.17 Q1313.9 1528.15 1315.96 1527.09 Q1318.02 1526 1320.5 1526 Q1325.71 1526 1328.72 1529.17 Q1331.75 1532.32 1331.75 1537.76 Q1331.75 1543.08 1328.6 1546.3 Q1325.45 1549.52 1320.22 1549.52 Q1314.23 1549.52 1311.05 1544.94 Q1307.88 1540.33 1307.88 1531.6 Q1307.88 1523.41 1311.77 1518.55 Q1315.66 1513.66 1322.21 1513.66 Q1323.97 1513.66 1325.75 1514.01 Q1327.56 1514.36 1329.5 1515.05 Z\" fill=\"#000000\" fill-rule=\"evenodd\" fill-opacity=\"1\" /><path clip-path=\"url(#clip490)\" d=\"M1349.8 1517.37 Q1346.19 1517.37 1344.36 1520.93 Q1342.56 1524.47 1342.56 1531.6 Q1342.56 1538.71 1344.36 1542.27 Q1346.19 1545.82 1349.8 1545.82 Q1353.44 1545.82 1355.24 1542.27 Q1357.07 1538.71 1357.07 1531.6 Q1357.07 1524.47 1355.24 1520.93 Q1353.44 1517.37 1349.8 1517.37 M1349.8 1513.66 Q1355.61 1513.66 1358.67 1518.27 Q1361.75 1522.85 1361.75 1531.6 Q1361.75 1540.33 1358.67 1544.94 Q1355.61 1549.52 1349.8 1549.52 Q1343.99 1549.52 1340.92 1544.94 Q1337.86 1540.33 1337.86 1531.6 Q1337.86 1522.85 1340.92 1518.27 Q1343.99 1513.66 1349.8 1513.66 Z\" fill=\"#000000\" fill-rule=\"evenodd\" fill-opacity=\"1\" /><path clip-path=\"url(#clip490)\" d=\"M1379.97 1517.37 Q1376.36 1517.37 1374.53 1520.93 Q1372.72 1524.47 1372.72 1531.6 Q1372.72 1538.71 1374.53 1542.27 Q1376.36 1545.82 1379.97 1545.82 Q1383.6 1545.82 1385.41 1542.27 Q1387.24 1538.71 1387.24 1531.6 Q1387.24 1524.47 1385.41 1520.93 Q1383.6 1517.37 1379.97 1517.37 M1379.97 1513.66 Q1385.78 1513.66 1388.83 1518.27 Q1391.91 1522.85 1391.91 1531.6 Q1391.91 1540.33 1388.83 1544.94 Q1385.78 1549.52 1379.97 1549.52 Q1374.16 1549.52 1371.08 1544.94 Q1368.02 1540.33 1368.02 1531.6 Q1368.02 1522.85 1371.08 1518.27 Q1374.16 1513.66 1379.97 1513.66 Z\" fill=\"#000000\" fill-rule=\"evenodd\" fill-opacity=\"1\" /><path clip-path=\"url(#clip490)\" d=\"M1789.41 1532.44 Q1786.08 1532.44 1784.16 1534.22 Q1782.26 1536 1782.26 1539.13 Q1782.26 1542.25 1784.16 1544.03 Q1786.08 1545.82 1789.41 1545.82 Q1792.75 1545.82 1794.67 1544.03 Q1796.59 1542.23 1796.59 1539.13 Q1796.59 1536 1794.67 1534.22 Q1792.77 1532.44 1789.41 1532.44 M1784.74 1530.45 Q1781.73 1529.7 1780.04 1527.64 Q1778.37 1525.58 1778.37 1522.62 Q1778.37 1518.48 1781.31 1516.07 Q1784.27 1513.66 1789.41 1513.66 Q1794.57 1513.66 1797.51 1516.07 Q1800.45 1518.48 1800.45 1522.62 Q1800.45 1525.58 1798.76 1527.64 Q1797.1 1529.7 1794.11 1530.45 Q1797.49 1531.23 1799.37 1533.52 Q1801.26 1535.82 1801.26 1539.13 Q1801.26 1544.15 1798.19 1546.83 Q1795.13 1549.52 1789.41 1549.52 Q1783.69 1549.52 1780.62 1546.83 Q1777.56 1544.15 1777.56 1539.13 Q1777.56 1535.82 1779.46 1533.52 Q1781.36 1531.23 1784.74 1530.45 M1783.02 1523.06 Q1783.02 1525.75 1784.69 1527.25 Q1786.38 1528.76 1789.41 1528.76 Q1792.42 1528.76 1794.11 1527.25 Q1795.82 1525.75 1795.82 1523.06 Q1795.82 1520.38 1794.11 1518.87 Q1792.42 1517.37 1789.41 1517.37 Q1786.38 1517.37 1784.69 1518.87 Q1783.02 1520.38 1783.02 1523.06 Z\" fill=\"#000000\" fill-rule=\"evenodd\" fill-opacity=\"1\" /><path clip-path=\"url(#clip490)\" d=\"M1819.57 1517.37 Q1815.96 1517.37 1814.13 1520.93 Q1812.33 1524.47 1812.33 1531.6 Q1812.33 1538.71 1814.13 1542.27 Q1815.96 1545.82 1819.57 1545.82 Q1823.21 1545.82 1825.01 1542.27 Q1826.84 1538.71 1826.84 1531.6 Q1826.84 1524.47 1825.01 1520.93 Q1823.21 1517.37 1819.57 1517.37 M1819.57 1513.66 Q1825.38 1513.66 1828.44 1518.27 Q1831.52 1522.85 1831.52 1531.6 Q1831.52 1540.33 1828.44 1544.94 Q1825.38 1549.52 1819.57 1549.52 Q1813.76 1549.52 1810.69 1544.94 Q1807.63 1540.33 1807.63 1531.6 Q1807.63 1522.85 1810.69 1518.27 Q1813.76 1513.66 1819.57 1513.66 Z\" fill=\"#000000\" fill-rule=\"evenodd\" fill-opacity=\"1\" /><path clip-path=\"url(#clip490)\" d=\"M1849.74 1517.37 Q1846.12 1517.37 1844.3 1520.93 Q1842.49 1524.47 1842.49 1531.6 Q1842.49 1538.71 1844.3 1542.27 Q1846.12 1545.82 1849.74 1545.82 Q1853.37 1545.82 1855.18 1542.27 Q1857 1538.71 1857 1531.6 Q1857 1524.47 1855.18 1520.93 Q1853.37 1517.37 1849.74 1517.37 M1849.74 1513.66 Q1855.55 1513.66 1858.6 1518.27 Q1861.68 1522.85 1861.68 1531.6 Q1861.68 1540.33 1858.6 1544.94 Q1855.55 1549.52 1849.74 1549.52 Q1843.93 1549.52 1840.85 1544.94 Q1837.79 1540.33 1837.79 1531.6 Q1837.79 1522.85 1840.85 1518.27 Q1843.93 1513.66 1849.74 1513.66 Z\" fill=\"#000000\" fill-rule=\"evenodd\" fill-opacity=\"1\" /><path clip-path=\"url(#clip490)\" d=\"M2233.87 1544.91 L2241.51 1544.91 L2241.51 1518.55 L2233.2 1520.21 L2233.2 1515.95 L2241.46 1514.29 L2246.14 1514.29 L2246.14 1544.91 L2253.78 1544.91 L2253.78 1548.85 L2233.87 1548.85 L2233.87 1544.91 Z\" fill=\"#000000\" fill-rule=\"evenodd\" fill-opacity=\"1\" /><path clip-path=\"url(#clip490)\" d=\"M2273.22 1517.37 Q2269.61 1517.37 2267.78 1520.93 Q2265.98 1524.47 2265.98 1531.6 Q2265.98 1538.71 2267.78 1542.27 Q2269.61 1545.82 2273.22 1545.82 Q2276.85 1545.82 2278.66 1542.27 Q2280.49 1538.71 2280.49 1531.6 Q2280.49 1524.47 2278.66 1520.93 Q2276.85 1517.37 2273.22 1517.37 M2273.22 1513.66 Q2279.03 1513.66 2282.09 1518.27 Q2285.17 1522.85 2285.17 1531.6 Q2285.17 1540.33 2282.09 1544.94 Q2279.03 1549.52 2273.22 1549.52 Q2267.41 1549.52 2264.33 1544.94 Q2261.28 1540.33 2261.28 1531.6 Q2261.28 1522.85 2264.33 1518.27 Q2267.41 1513.66 2273.22 1513.66 Z\" fill=\"#000000\" fill-rule=\"evenodd\" fill-opacity=\"1\" /><path clip-path=\"url(#clip490)\" d=\"M2303.38 1517.37 Q2299.77 1517.37 2297.94 1520.93 Q2296.14 1524.47 2296.14 1531.6 Q2296.14 1538.71 2297.94 1542.27 Q2299.77 1545.82 2303.38 1545.82 Q2307.02 1545.82 2308.82 1542.27 Q2310.65 1538.71 2310.65 1531.6 Q2310.65 1524.47 2308.82 1520.93 Q2307.02 1517.37 2303.38 1517.37 M2303.38 1513.66 Q2309.19 1513.66 2312.25 1518.27 Q2315.33 1522.85 2315.33 1531.6 Q2315.33 1540.33 2312.25 1544.94 Q2309.19 1549.52 2303.38 1549.52 Q2297.57 1549.52 2294.49 1544.94 Q2291.44 1540.33 2291.44 1531.6 Q2291.44 1522.85 2294.49 1518.27 Q2297.57 1513.66 2303.38 1513.66 Z\" fill=\"#000000\" fill-rule=\"evenodd\" fill-opacity=\"1\" /><path clip-path=\"url(#clip490)\" d=\"M2333.54 1517.37 Q2329.93 1517.37 2328.1 1520.93 Q2326.3 1524.47 2326.3 1531.6 Q2326.3 1538.71 2328.1 1542.27 Q2329.93 1545.82 2333.54 1545.82 Q2337.18 1545.82 2338.98 1542.27 Q2340.81 1538.71 2340.81 1531.6 Q2340.81 1524.47 2338.98 1520.93 Q2337.18 1517.37 2333.54 1517.37 M2333.54 1513.66 Q2339.35 1513.66 2342.41 1518.27 Q2345.49 1522.85 2345.49 1531.6 Q2345.49 1540.33 2342.41 1544.94 Q2339.35 1549.52 2333.54 1549.52 Q2327.73 1549.52 2324.66 1544.94 Q2321.6 1540.33 2321.6 1531.6 Q2321.6 1522.85 2324.66 1518.27 Q2327.73 1513.66 2333.54 1513.66 Z\" fill=\"#000000\" fill-rule=\"evenodd\" fill-opacity=\"1\" /><polyline clip-path=\"url(#clip492)\" style=\"stroke:#000000; stroke-linecap:butt; stroke-linejoin:round; stroke-width:2; stroke-opacity:0.1; fill:none\" points=\"\n",
       "  112.177,1449.76 2352.76,1449.76 \n",
       "  \"/>\n",
       "<polyline clip-path=\"url(#clip492)\" style=\"stroke:#000000; stroke-linecap:butt; stroke-linejoin:round; stroke-width:2; stroke-opacity:0.1; fill:none\" points=\"\n",
       "  112.177,1134.69 2352.76,1134.69 \n",
       "  \"/>\n",
       "<polyline clip-path=\"url(#clip492)\" style=\"stroke:#000000; stroke-linecap:butt; stroke-linejoin:round; stroke-width:2; stroke-opacity:0.1; fill:none\" points=\"\n",
       "  112.177,819.626 2352.76,819.626 \n",
       "  \"/>\n",
       "<polyline clip-path=\"url(#clip492)\" style=\"stroke:#000000; stroke-linecap:butt; stroke-linejoin:round; stroke-width:2; stroke-opacity:0.1; fill:none\" points=\"\n",
       "  112.177,504.557 2352.76,504.557 \n",
       "  \"/>\n",
       "<polyline clip-path=\"url(#clip492)\" style=\"stroke:#000000; stroke-linecap:butt; stroke-linejoin:round; stroke-width:2; stroke-opacity:0.1; fill:none\" points=\"\n",
       "  112.177,189.489 2352.76,189.489 \n",
       "  \"/>\n",
       "<polyline clip-path=\"url(#clip490)\" style=\"stroke:#000000; stroke-linecap:butt; stroke-linejoin:round; stroke-width:4; stroke-opacity:1; fill:none\" points=\"\n",
       "  112.177,1486.45 112.177,123.472 \n",
       "  \"/>\n",
       "<polyline clip-path=\"url(#clip490)\" style=\"stroke:#000000; stroke-linecap:butt; stroke-linejoin:round; stroke-width:4; stroke-opacity:1; fill:none\" points=\"\n",
       "  112.177,1449.76 131.075,1449.76 \n",
       "  \"/>\n",
       "<polyline clip-path=\"url(#clip490)\" style=\"stroke:#000000; stroke-linecap:butt; stroke-linejoin:round; stroke-width:4; stroke-opacity:1; fill:none\" points=\"\n",
       "  112.177,1134.69 131.075,1134.69 \n",
       "  \"/>\n",
       "<polyline clip-path=\"url(#clip490)\" style=\"stroke:#000000; stroke-linecap:butt; stroke-linejoin:round; stroke-width:4; stroke-opacity:1; fill:none\" points=\"\n",
       "  112.177,819.626 131.075,819.626 \n",
       "  \"/>\n",
       "<polyline clip-path=\"url(#clip490)\" style=\"stroke:#000000; stroke-linecap:butt; stroke-linejoin:round; stroke-width:4; stroke-opacity:1; fill:none\" points=\"\n",
       "  112.177,504.557 131.075,504.557 \n",
       "  \"/>\n",
       "<polyline clip-path=\"url(#clip490)\" style=\"stroke:#000000; stroke-linecap:butt; stroke-linejoin:round; stroke-width:4; stroke-opacity:1; fill:none\" points=\"\n",
       "  112.177,189.489 131.075,189.489 \n",
       "  \"/>\n",
       "<path clip-path=\"url(#clip490)\" d=\"M64.2328 1435.56 Q60.6217 1435.56 58.793 1439.13 Q56.9875 1442.67 56.9875 1449.8 Q56.9875 1456.9 58.793 1460.47 Q60.6217 1464.01 64.2328 1464.01 Q67.867 1464.01 69.6726 1460.47 Q71.5013 1456.9 71.5013 1449.8 Q71.5013 1442.67 69.6726 1439.13 Q67.867 1435.56 64.2328 1435.56 M64.2328 1431.86 Q70.0429 1431.86 73.0985 1436.46 Q76.1772 1441.05 76.1772 1449.8 Q76.1772 1458.53 73.0985 1463.13 Q70.0429 1467.71 64.2328 1467.71 Q58.4226 1467.71 55.344 1463.13 Q52.2884 1458.53 52.2884 1449.8 Q52.2884 1441.05 55.344 1436.46 Q58.4226 1431.86 64.2328 1431.86 Z\" fill=\"#000000\" fill-rule=\"evenodd\" fill-opacity=\"1\" /><path clip-path=\"url(#clip490)\" d=\"M56.2699 1148.04 L63.9087 1148.04 L63.9087 1121.67 L55.5986 1123.34 L55.5986 1119.08 L63.8624 1117.41 L68.5383 1117.41 L68.5383 1148.04 L76.1772 1148.04 L76.1772 1151.97 L56.2699 1151.97 L56.2699 1148.04 Z\" fill=\"#000000\" fill-rule=\"evenodd\" fill-opacity=\"1\" /><path clip-path=\"url(#clip490)\" d=\"M59.8578 832.971 L76.1772 832.971 L76.1772 836.906 L54.2328 836.906 L54.2328 832.971 Q56.8949 830.216 61.4782 825.587 Q66.0846 820.934 67.2652 819.591 Q69.5105 817.068 70.3902 815.332 Q71.2929 813.573 71.2929 811.883 Q71.2929 809.128 69.3485 807.392 Q67.4272 805.656 64.3254 805.656 Q62.1263 805.656 59.6726 806.42 Q57.2421 807.184 54.4643 808.735 L54.4643 804.013 Q57.2884 802.879 59.7421 802.3 Q62.1958 801.721 64.2328 801.721 Q69.6031 801.721 72.7976 804.406 Q75.992 807.091 75.992 811.582 Q75.992 813.712 75.1818 815.633 Q74.3948 817.531 72.2883 820.124 Q71.7096 820.795 68.6078 824.013 Q65.5059 827.207 59.8578 832.971 Z\" fill=\"#000000\" fill-rule=\"evenodd\" fill-opacity=\"1\" /><path clip-path=\"url(#clip490)\" d=\"M69.0476 503.203 Q72.404 503.921 74.279 506.189 Q76.1772 508.458 76.1772 511.791 Q76.1772 516.907 72.6587 519.708 Q69.1402 522.509 62.6587 522.509 Q60.4828 522.509 58.168 522.069 Q55.8764 521.652 53.4227 520.796 L53.4227 516.282 Q55.3671 517.416 57.6819 517.995 Q59.9967 518.574 62.5198 518.574 Q66.918 518.574 69.2096 516.837 Q71.5244 515.101 71.5244 511.791 Q71.5244 508.736 69.3717 507.023 Q67.242 505.287 63.4226 505.287 L59.3949 505.287 L59.3949 501.444 L63.6078 501.444 Q67.0569 501.444 68.8855 500.078 Q70.7142 498.689 70.7142 496.097 Q70.7142 493.435 68.8161 492.023 Q66.9411 490.588 63.4226 490.588 Q61.5013 490.588 59.3023 491.004 Q57.1032 491.421 54.4643 492.301 L54.4643 488.134 Q57.1264 487.393 59.4412 487.023 Q61.7791 486.652 63.8393 486.652 Q69.1633 486.652 72.2652 489.083 Q75.367 491.49 75.367 495.611 Q75.367 498.481 73.7235 500.472 Q72.08 502.439 69.0476 503.203 Z\" fill=\"#000000\" fill-rule=\"evenodd\" fill-opacity=\"1\" /><path clip-path=\"url(#clip490)\" d=\"M66.5939 176.283 L54.7884 194.732 L66.5939 194.732 L66.5939 176.283 M65.367 172.209 L71.2466 172.209 L71.2466 194.732 L76.1772 194.732 L76.1772 198.621 L71.2466 198.621 L71.2466 206.769 L66.5939 206.769 L66.5939 198.621 L50.9921 198.621 L50.9921 194.107 L65.367 172.209 Z\" fill=\"#000000\" fill-rule=\"evenodd\" fill-opacity=\"1\" /><path clip-path=\"url(#clip490)\" d=\"M1038.73 16.7545 L1038.73 25.383 Q1034.6 21.5346 1029.9 19.6307 Q1025.24 17.7268 1019.98 17.7268 Q1009.61 17.7268 1004.1 24.0867 Q998.588 30.4061 998.588 42.3968 Q998.588 54.3469 1004.1 60.7069 Q1009.61 67.0263 1019.98 67.0263 Q1025.24 67.0263 1029.9 65.1223 Q1034.6 63.2184 1038.73 59.3701 L1038.73 67.9175 Q1034.44 70.8341 1029.62 72.2924 Q1024.84 73.7508 1019.49 73.7508 Q1005.76 73.7508 997.858 65.3654 Q989.959 56.9395 989.959 42.3968 Q989.959 27.8135 997.858 19.4281 Q1005.76 11.0023 1019.49 11.0023 Q1024.92 11.0023 1029.7 12.4606 Q1034.52 13.8784 1038.73 16.7545 Z\" fill=\"#000000\" fill-rule=\"evenodd\" fill-opacity=\"1\" /><path clip-path=\"url(#clip490)\" d=\"M1068.63 32.4315 Q1062.63 32.4315 1059.15 37.1306 Q1055.66 41.7891 1055.66 49.9314 Q1055.66 58.0738 1059.11 62.7728 Q1062.59 67.4314 1068.63 67.4314 Q1074.58 67.4314 1078.07 62.7323 Q1081.55 58.0333 1081.55 49.9314 Q1081.55 41.8701 1078.07 37.1711 Q1074.58 32.4315 1068.63 32.4315 M1068.63 26.1121 Q1078.35 26.1121 1083.9 32.4315 Q1089.45 38.7509 1089.45 49.9314 Q1089.45 61.0714 1083.9 67.4314 Q1078.35 73.7508 1068.63 73.7508 Q1058.87 73.7508 1053.32 67.4314 Q1047.81 61.0714 1047.81 49.9314 Q1047.81 38.7509 1053.32 32.4315 Q1058.87 26.1121 1068.63 26.1121 Z\" fill=\"#000000\" fill-rule=\"evenodd\" fill-opacity=\"1\" /><path clip-path=\"url(#clip490)\" d=\"M1137.13 35.9153 Q1139.92 30.8922 1143.81 28.5022 Q1147.7 26.1121 1152.97 26.1121 Q1160.06 26.1121 1163.9 31.0947 Q1167.75 36.0368 1167.75 45.1919 L1167.75 72.576 L1160.26 72.576 L1160.26 45.4349 Q1160.26 38.913 1157.95 35.7533 Q1155.64 32.5936 1150.9 32.5936 Q1145.11 32.5936 1141.75 36.4419 Q1138.38 40.2903 1138.38 46.9338 L1138.38 72.576 L1130.89 72.576 L1130.89 45.4349 Q1130.89 38.8725 1128.58 35.7533 Q1126.27 32.5936 1121.45 32.5936 Q1115.74 32.5936 1112.38 36.4824 Q1109.02 40.3308 1109.02 46.9338 L1109.02 72.576 L1101.52 72.576 L1101.52 27.2059 L1109.02 27.2059 L1109.02 34.2544 Q1111.57 30.082 1115.13 28.0971 Q1118.7 26.1121 1123.6 26.1121 Q1128.54 26.1121 1131.98 28.6237 Q1135.47 31.1352 1137.13 35.9153 Z\" fill=\"#000000\" fill-rule=\"evenodd\" fill-opacity=\"1\" /><path clip-path=\"url(#clip490)\" d=\"M1189.83 65.7705 L1189.83 89.8329 L1182.34 89.8329 L1182.34 27.2059 L1189.83 27.2059 L1189.83 34.0924 Q1192.18 30.0415 1195.75 28.0971 Q1199.35 26.1121 1204.33 26.1121 Q1212.6 26.1121 1217.74 32.6746 Q1222.93 39.2371 1222.93 49.9314 Q1222.93 60.6258 1217.74 67.1883 Q1212.6 73.7508 1204.33 73.7508 Q1199.35 73.7508 1195.75 71.8063 Q1192.18 69.8214 1189.83 65.7705 M1215.19 49.9314 Q1215.19 41.7081 1211.79 37.0496 Q1208.42 32.3505 1202.51 32.3505 Q1196.6 32.3505 1193.19 37.0496 Q1189.83 41.7081 1189.83 49.9314 Q1189.83 58.1548 1193.19 62.8538 Q1196.6 67.5124 1202.51 67.5124 Q1208.42 67.5124 1211.79 62.8538 Q1215.19 58.1548 1215.19 49.9314 Z\" fill=\"#000000\" fill-rule=\"evenodd\" fill-opacity=\"1\" /><path clip-path=\"url(#clip490)\" d=\"M1255.9 49.7694 Q1246.87 49.7694 1243.38 51.8354 Q1239.9 53.9013 1239.9 58.8839 Q1239.9 62.8538 1242.49 65.2034 Q1245.13 67.5124 1249.62 67.5124 Q1255.82 67.5124 1259.55 63.1374 Q1263.31 58.7219 1263.31 51.4303 L1263.31 49.7694 L1255.9 49.7694 M1270.77 46.6907 L1270.77 72.576 L1263.31 72.576 L1263.31 65.6895 Q1260.76 69.8214 1256.95 71.8063 Q1253.15 73.7508 1247.64 73.7508 Q1240.67 73.7508 1236.54 69.8619 Q1232.45 65.9325 1232.45 59.3701 Q1232.45 51.7138 1237.55 47.825 Q1242.7 43.9361 1252.86 43.9361 L1263.31 43.9361 L1263.31 43.2069 Q1263.31 38.0623 1259.91 35.2672 Q1256.55 32.4315 1250.43 32.4315 Q1246.54 32.4315 1242.86 33.3632 Q1239.17 34.295 1235.77 36.1584 L1235.77 29.2718 Q1239.86 27.692 1243.71 26.9223 Q1247.56 26.1121 1251.2 26.1121 Q1261.05 26.1121 1265.91 31.2163 Q1270.77 36.3204 1270.77 46.6907 Z\" fill=\"#000000\" fill-rule=\"evenodd\" fill-opacity=\"1\" /><path clip-path=\"url(#clip490)\" d=\"M1312.41 34.1734 Q1311.16 33.4443 1309.66 33.1202 Q1308.2 32.7556 1306.42 32.7556 Q1300.1 32.7556 1296.69 36.8875 Q1293.33 40.9789 1293.33 48.6757 L1293.33 72.576 L1285.84 72.576 L1285.84 27.2059 L1293.33 27.2059 L1293.33 34.2544 Q1295.68 30.1225 1299.45 28.1376 Q1303.22 26.1121 1308.6 26.1121 Q1309.37 26.1121 1310.3 26.2337 Q1311.24 26.3147 1312.37 26.5172 L1312.41 34.1734 Z\" fill=\"#000000\" fill-rule=\"evenodd\" fill-opacity=\"1\" /><path clip-path=\"url(#clip490)\" d=\"M1320.23 27.2059 L1327.68 27.2059 L1327.68 72.576 L1320.23 72.576 L1320.23 27.2059 M1320.23 9.54393 L1327.68 9.54393 L1327.68 18.9825 L1320.23 18.9825 L1320.23 9.54393 Z\" fill=\"#000000\" fill-rule=\"evenodd\" fill-opacity=\"1\" /><path clip-path=\"url(#clip490)\" d=\"M1372.2 28.5427 L1372.2 35.5912 Q1369.04 33.9709 1365.64 33.1607 Q1362.24 32.3505 1358.59 32.3505 Q1353.04 32.3505 1350.25 34.0519 Q1347.49 35.7533 1347.49 39.156 Q1347.49 41.7486 1349.48 43.2475 Q1351.46 44.7058 1357.46 46.0426 L1360.01 46.6097 Q1367.95 48.3111 1371.27 51.4303 Q1374.63 54.509 1374.63 60.0587 Q1374.63 66.3781 1369.61 70.0644 Q1364.63 73.7508 1355.88 73.7508 Q1352.23 73.7508 1348.26 73.0216 Q1344.33 72.3329 1339.96 70.9151 L1339.96 63.2184 Q1344.09 65.3654 1348.1 66.4591 Q1352.11 67.5124 1356.04 67.5124 Q1361.31 67.5124 1364.14 65.73 Q1366.98 63.9071 1366.98 60.6258 Q1366.98 57.5877 1364.91 55.9673 Q1362.89 54.3469 1355.96 52.8481 L1353.37 52.2405 Q1346.44 50.7821 1343.36 47.7845 Q1340.28 44.7463 1340.28 39.4801 Q1340.28 33.0797 1344.82 29.5959 Q1349.36 26.1121 1357.7 26.1121 Q1361.83 26.1121 1365.48 26.7198 Q1369.12 27.3274 1372.2 28.5427 Z\" fill=\"#000000\" fill-rule=\"evenodd\" fill-opacity=\"1\" /><path clip-path=\"url(#clip490)\" d=\"M1404.08 32.4315 Q1398.09 32.4315 1394.6 37.1306 Q1391.12 41.7891 1391.12 49.9314 Q1391.12 58.0738 1394.56 62.7728 Q1398.05 67.4314 1404.08 67.4314 Q1410.04 67.4314 1413.52 62.7323 Q1417.01 58.0333 1417.01 49.9314 Q1417.01 41.8701 1413.52 37.1711 Q1410.04 32.4315 1404.08 32.4315 M1404.08 26.1121 Q1413.81 26.1121 1419.36 32.4315 Q1424.9 38.7509 1424.9 49.9314 Q1424.9 61.0714 1419.36 67.4314 Q1413.81 73.7508 1404.08 73.7508 Q1394.32 73.7508 1388.77 67.4314 Q1383.26 61.0714 1383.26 49.9314 Q1383.26 38.7509 1388.77 32.4315 Q1394.32 26.1121 1404.08 26.1121 Z\" fill=\"#000000\" fill-rule=\"evenodd\" fill-opacity=\"1\" /><path clip-path=\"url(#clip490)\" d=\"M1474.97 45.1919 L1474.97 72.576 L1467.52 72.576 L1467.52 45.4349 Q1467.52 38.994 1465.01 35.7938 Q1462.5 32.5936 1457.47 32.5936 Q1451.44 32.5936 1447.95 36.4419 Q1444.47 40.2903 1444.47 46.9338 L1444.47 72.576 L1436.98 72.576 L1436.98 27.2059 L1444.47 27.2059 L1444.47 34.2544 Q1447.14 30.163 1450.75 28.1376 Q1454.4 26.1121 1459.13 26.1121 Q1466.95 26.1121 1470.96 30.9732 Q1474.97 35.7938 1474.97 45.1919 Z\" fill=\"#000000\" fill-rule=\"evenodd\" fill-opacity=\"1\" /><circle clip-path=\"url(#clip492)\" cx=\"175.59\" cy=\"1447.87\" r=\"14\" fill=\"#009af9\" fill-rule=\"evenodd\" fill-opacity=\"1\" stroke=\"#000000\" stroke-opacity=\"1\" stroke-width=\"3.2\"/>\n",
       "<circle clip-path=\"url(#clip492)\" cx=\"410.451\" cy=\"1437.79\" r=\"14\" fill=\"#009af9\" fill-rule=\"evenodd\" fill-opacity=\"1\" stroke=\"#000000\" stroke-opacity=\"1\" stroke-width=\"3.2\"/>\n",
       "<circle clip-path=\"url(#clip492)\" cx=\"645.313\" cy=\"1416.05\" r=\"14\" fill=\"#009af9\" fill-rule=\"evenodd\" fill-opacity=\"1\" stroke=\"#000000\" stroke-opacity=\"1\" stroke-width=\"3.2\"/>\n",
       "<circle clip-path=\"url(#clip492)\" cx=\"880.174\" cy=\"1370.68\" r=\"14\" fill=\"#009af9\" fill-rule=\"evenodd\" fill-opacity=\"1\" stroke=\"#000000\" stroke-opacity=\"1\" stroke-width=\"3.2\"/>\n",
       "<circle clip-path=\"url(#clip492)\" cx=\"1115.04\" cy=\"1295.69\" r=\"14\" fill=\"#009af9\" fill-rule=\"evenodd\" fill-opacity=\"1\" stroke=\"#000000\" stroke-opacity=\"1\" stroke-width=\"3.2\"/>\n",
       "<circle clip-path=\"url(#clip492)\" cx=\"1349.9\" cy=\"1184.79\" r=\"14\" fill=\"#009af9\" fill-rule=\"evenodd\" fill-opacity=\"1\" stroke=\"#000000\" stroke-opacity=\"1\" stroke-width=\"3.2\"/>\n",
       "<circle clip-path=\"url(#clip492)\" cx=\"1584.76\" cy=\"1026.94\" r=\"14\" fill=\"#009af9\" fill-rule=\"evenodd\" fill-opacity=\"1\" stroke=\"#000000\" stroke-opacity=\"1\" stroke-width=\"3.2\"/>\n",
       "<circle clip-path=\"url(#clip492)\" cx=\"1819.62\" cy=\"803.243\" r=\"14\" fill=\"#009af9\" fill-rule=\"evenodd\" fill-opacity=\"1\" stroke=\"#000000\" stroke-opacity=\"1\" stroke-width=\"3.2\"/>\n",
       "<circle clip-path=\"url(#clip492)\" cx=\"2054.48\" cy=\"497.941\" r=\"14\" fill=\"#009af9\" fill-rule=\"evenodd\" fill-opacity=\"1\" stroke=\"#000000\" stroke-opacity=\"1\" stroke-width=\"3.2\"/>\n",
       "<circle clip-path=\"url(#clip492)\" cx=\"2289.34\" cy=\"171.215\" r=\"14\" fill=\"#009af9\" fill-rule=\"evenodd\" fill-opacity=\"1\" stroke=\"#000000\" stroke-opacity=\"1\" stroke-width=\"3.2\"/>\n",
       "<polyline clip-path=\"url(#clip492)\" style=\"stroke:#ff0000; stroke-linecap:butt; stroke-linejoin:round; stroke-width:4; stroke-opacity:1; fill:none\" points=\"\n",
       "  175.59,1445.84 196.727,1445.64 217.865,1445.37 239.002,1445.04 260.14,1444.64 281.277,1444.16 302.415,1443.59 323.553,1442.93 344.69,1442.18 365.828,1441.33 \n",
       "  386.965,1440.37 408.103,1439.29 429.24,1438.1 450.378,1436.78 471.515,1435.32 492.653,1433.73 513.79,1432 534.928,1430.11 556.065,1428.07 577.203,1425.87 \n",
       "  598.34,1423.5 619.478,1420.96 640.616,1418.24 661.753,1415.33 682.891,1412.23 704.028,1408.93 725.166,1405.43 746.303,1401.72 767.441,1397.79 788.578,1393.65 \n",
       "  809.716,1389.27 830.853,1384.67 851.991,1379.82 873.128,1374.73 894.266,1369.38 915.404,1363.78 936.541,1357.92 957.679,1351.79 978.816,1345.38 999.954,1338.69 \n",
       "  1021.09,1331.71 1042.23,1324.44 1063.37,1316.88 1084.5,1309 1105.64,1300.82 1126.78,1292.32 1147.92,1283.49 1169.05,1274.34 1190.19,1264.85 1211.33,1255.03 \n",
       "  1232.47,1244.85 1253.6,1234.32 1274.74,1223.44 1295.88,1212.19 1317.02,1200.56 1338.15,1188.57 1359.29,1176.18 1380.43,1163.42 1401.57,1150.25 1422.7,1136.69 \n",
       "  1443.84,1122.72 1464.98,1108.33 1486.12,1093.53 1507.25,1078.3 1528.39,1062.65 1549.53,1046.56 1570.67,1030.02 1591.8,1013.04 1612.94,995.6 1634.08,977.702 \n",
       "  1655.22,959.338 1676.35,940.502 1697.49,921.188 1718.63,901.39 1739.77,881.102 1760.9,860.318 1782.04,839.031 1803.18,817.237 1824.32,794.929 1845.46,772.101 \n",
       "  1866.59,748.748 1887.73,724.862 1908.87,700.439 1930.01,675.471 1951.14,649.954 1972.28,623.882 1993.42,597.247 2014.56,570.045 2035.69,542.27 2056.83,513.915 \n",
       "  2077.97,484.974 2099.11,455.442 2120.24,425.312 2141.38,394.579 2162.52,363.236 2183.66,331.278 2204.79,298.698 2225.93,265.491 2247.07,231.651 2268.21,197.172 \n",
       "  2289.34,162.047 \n",
       "  \"/>\n",
       "<polyline clip-path=\"url(#clip492)\" style=\"stroke:#008000; stroke-linecap:butt; stroke-linejoin:round; stroke-width:4; stroke-opacity:1; fill:none\" points=\"\n",
       "  175.59,1445.84 196.727,1445.64 217.865,1445.37 239.002,1445.04 260.14,1444.64 281.277,1444.16 302.415,1443.59 323.553,1442.93 344.69,1442.18 365.828,1441.33 \n",
       "  386.965,1440.37 408.103,1439.29 429.24,1438.1 450.378,1436.78 471.515,1435.32 492.653,1433.73 513.79,1432 534.928,1430.11 556.065,1428.07 577.203,1425.87 \n",
       "  598.34,1423.5 619.478,1420.96 640.616,1418.24 661.753,1415.33 682.891,1412.23 704.028,1408.93 725.166,1405.43 746.303,1401.72 767.441,1397.79 788.578,1393.65 \n",
       "  809.716,1389.27 830.853,1384.67 851.991,1379.82 873.128,1374.73 894.266,1369.38 915.404,1363.78 936.541,1357.92 957.679,1351.79 978.816,1345.38 999.954,1338.69 \n",
       "  1021.09,1331.71 1042.23,1324.44 1063.37,1316.88 1084.5,1309 1105.64,1300.82 1126.78,1292.32 1147.92,1283.49 1169.05,1274.34 1190.19,1264.85 1211.33,1255.03 \n",
       "  1232.47,1244.85 1253.6,1234.32 1274.74,1223.44 1295.88,1212.19 1317.02,1200.56 1338.15,1188.57 1359.29,1176.18 1380.43,1163.42 1401.57,1150.25 1422.7,1136.69 \n",
       "  1443.84,1122.72 1464.98,1108.33 1486.12,1093.53 1507.25,1078.3 1528.39,1062.65 1549.53,1046.56 1570.67,1030.02 1591.8,1013.04 1612.94,995.6 1634.08,977.702 \n",
       "  1655.22,959.338 1676.35,940.502 1697.49,921.188 1718.63,901.39 1739.77,881.102 1760.9,860.318 1782.04,839.031 1803.18,817.237 1824.32,794.929 1845.46,772.101 \n",
       "  1866.59,748.748 1887.73,724.862 1908.87,700.439 1930.01,675.471 1951.14,649.954 1972.28,623.882 1993.42,597.247 2014.56,570.045 2035.69,542.27 2056.83,513.915 \n",
       "  2077.97,484.974 2099.11,455.442 2120.24,425.312 2141.38,394.579 2162.52,363.236 2183.66,331.278 2204.79,298.698 2225.93,265.491 2247.07,231.651 2268.21,197.172 \n",
       "  2289.34,162.047 \n",
       "  \"/>\n",
       "<path clip-path=\"url(#clip490)\" d=\"\n",
       "M1821.13 324.425 L2278.07 324.425 L2278.07 168.905 L1821.13 168.905  Z\n",
       "  \" fill=\"#ffffff\" fill-rule=\"evenodd\" fill-opacity=\"1\"/>\n",
       "<polyline clip-path=\"url(#clip490)\" style=\"stroke:#000000; stroke-linecap:butt; stroke-linejoin:round; stroke-width:4; stroke-opacity:1; fill:none\" points=\"\n",
       "  1821.13,324.425 2278.07,324.425 2278.07,168.905 1821.13,168.905 1821.13,324.425 \n",
       "  \"/>\n",
       "<polyline clip-path=\"url(#clip490)\" style=\"stroke:#ff0000; stroke-linecap:butt; stroke-linejoin:round; stroke-width:4; stroke-opacity:1; fill:none\" points=\"\n",
       "  1846.03,220.745 1995.4,220.745 \n",
       "  \"/>\n",
       "<path clip-path=\"url(#clip490)\" d=\"M2020.29 227.793 L2020.29 212.099 L2024.55 212.099 L2024.55 227.631 Q2024.55 231.312 2025.99 233.164 Q2027.42 234.992 2030.29 234.992 Q2033.74 234.992 2035.73 232.793 Q2037.75 230.594 2037.75 226.798 L2037.75 212.099 L2042.01 212.099 L2042.01 238.025 L2037.75 238.025 L2037.75 234.043 Q2036.2 236.404 2034.14 237.562 Q2032.1 238.696 2029.39 238.696 Q2024.92 238.696 2022.61 235.918 Q2020.29 233.14 2020.29 227.793 M2031.01 211.474 L2031.01 211.474 Z\" fill=\"#000000\" fill-rule=\"evenodd\" fill-opacity=\"1\" /><path clip-path=\"url(#clip490)\" d=\"M2067.31 212.863 L2067.31 216.891 Q2065.5 215.965 2063.56 215.502 Q2061.61 215.039 2059.53 215.039 Q2056.36 215.039 2054.76 216.011 Q2053.19 216.983 2053.19 218.928 Q2053.19 220.409 2054.32 221.265 Q2055.46 222.099 2058.88 222.863 L2060.34 223.187 Q2064.88 224.159 2066.78 225.941 Q2068.7 227.701 2068.7 230.872 Q2068.7 234.483 2065.83 236.589 Q2062.98 238.696 2057.98 238.696 Q2055.9 238.696 2053.63 238.279 Q2051.38 237.886 2048.88 237.076 L2048.88 232.677 Q2051.24 233.904 2053.53 234.529 Q2055.83 235.131 2058.07 235.131 Q2061.08 235.131 2062.7 234.113 Q2064.32 233.071 2064.32 231.196 Q2064.32 229.46 2063.14 228.534 Q2061.98 227.608 2058.03 226.752 L2056.54 226.404 Q2052.59 225.571 2050.83 223.858 Q2049.07 222.122 2049.07 219.113 Q2049.07 215.455 2051.66 213.465 Q2054.25 211.474 2059.02 211.474 Q2061.38 211.474 2063.47 211.821 Q2065.55 212.168 2067.31 212.863 Z\" fill=\"#000000\" fill-rule=\"evenodd\" fill-opacity=\"1\" /><path clip-path=\"url(#clip490)\" d=\"M2075.48 212.099 L2079.74 212.099 L2079.74 238.025 L2075.48 238.025 L2075.48 212.099 M2075.48 202.006 L2079.74 202.006 L2079.74 207.4 L2075.48 207.4 L2075.48 202.006 Z\" fill=\"#000000\" fill-rule=\"evenodd\" fill-opacity=\"1\" /><path clip-path=\"url(#clip490)\" d=\"M2110.2 222.377 L2110.2 238.025 L2105.94 238.025 L2105.94 222.515 Q2105.94 218.835 2104.51 217.006 Q2103.07 215.178 2100.2 215.178 Q2096.75 215.178 2094.76 217.377 Q2092.77 219.576 2092.77 223.372 L2092.77 238.025 L2088.49 238.025 L2088.49 212.099 L2092.77 212.099 L2092.77 216.127 Q2094.3 213.789 2096.36 212.631 Q2098.44 211.474 2101.15 211.474 Q2105.62 211.474 2107.91 214.252 Q2110.2 217.006 2110.2 222.377 Z\" fill=\"#000000\" fill-rule=\"evenodd\" fill-opacity=\"1\" /><path clip-path=\"url(#clip490)\" d=\"M2135.76 224.761 Q2135.76 220.131 2133.84 217.585 Q2131.94 215.039 2128.49 215.039 Q2125.06 215.039 2123.14 217.585 Q2121.24 220.131 2121.24 224.761 Q2121.24 229.367 2123.14 231.914 Q2125.06 234.46 2128.49 234.46 Q2131.94 234.46 2133.84 231.914 Q2135.76 229.367 2135.76 224.761 M2140.02 234.807 Q2140.02 241.427 2137.08 244.645 Q2134.14 247.886 2128.07 247.886 Q2125.83 247.886 2123.84 247.538 Q2121.84 247.214 2119.97 246.52 L2119.97 242.376 Q2121.84 243.395 2123.67 243.881 Q2125.5 244.367 2127.4 244.367 Q2131.59 244.367 2133.67 242.168 Q2135.76 239.992 2135.76 235.571 L2135.76 233.464 Q2134.44 235.756 2132.38 236.89 Q2130.32 238.025 2127.45 238.025 Q2122.68 238.025 2119.76 234.39 Q2116.84 230.756 2116.84 224.761 Q2116.84 218.742 2119.76 215.108 Q2122.68 211.474 2127.45 211.474 Q2130.32 211.474 2132.38 212.608 Q2134.44 213.742 2135.76 216.034 L2135.76 212.099 L2140.02 212.099 L2140.02 234.807 Z\" fill=\"#000000\" fill-rule=\"evenodd\" fill-opacity=\"1\" /><path clip-path=\"url(#clip490)\" d=\"M2178.07 206.636 Q2172.98 206.636 2169.97 210.432 Q2166.98 214.228 2166.98 220.779 Q2166.98 227.307 2169.97 231.103 Q2172.98 234.9 2178.07 234.9 Q2183.16 234.9 2186.13 231.103 Q2189.11 227.307 2189.11 220.779 Q2189.11 214.228 2186.13 210.432 Q2183.16 206.636 2178.07 206.636 M2184.62 237.4 L2190.78 244.136 L2185.13 244.136 L2180.02 238.603 Q2179.25 238.65 2178.84 238.673 Q2178.44 238.696 2178.07 238.696 Q2170.78 238.696 2166.4 233.835 Q2162.05 228.951 2162.05 220.779 Q2162.05 212.585 2166.4 207.724 Q2170.78 202.84 2178.07 202.84 Q2185.34 202.84 2189.69 207.724 Q2194.04 212.585 2194.04 220.779 Q2194.04 226.798 2191.61 231.08 Q2189.21 235.363 2184.62 237.4 Z\" fill=\"#000000\" fill-rule=\"evenodd\" fill-opacity=\"1\" /><path clip-path=\"url(#clip490)\" d=\"M2217.75 221.821 Q2219.25 222.33 2220.66 223.997 Q2222.1 225.664 2223.53 228.58 L2228.28 238.025 L2223.26 238.025 L2218.83 229.159 Q2217.12 225.687 2215.5 224.553 Q2213.9 223.418 2211.13 223.418 L2206.03 223.418 L2206.03 238.025 L2201.36 238.025 L2201.36 203.465 L2211.91 203.465 Q2217.84 203.465 2220.76 205.941 Q2223.67 208.418 2223.67 213.418 Q2223.67 216.682 2222.15 218.835 Q2220.64 220.988 2217.75 221.821 M2206.03 207.307 L2206.03 219.576 L2211.91 219.576 Q2215.29 219.576 2217.01 218.025 Q2218.74 216.451 2218.74 213.418 Q2218.74 210.386 2217.01 208.858 Q2215.29 207.307 2211.91 207.307 L2206.03 207.307 Z\" fill=\"#000000\" fill-rule=\"evenodd\" fill-opacity=\"1\" /><polyline clip-path=\"url(#clip490)\" style=\"stroke:#008000; stroke-linecap:butt; stroke-linejoin:round; stroke-width:4; stroke-opacity:1; fill:none\" points=\"\n",
       "  1846.03,272.585 1995.4,272.585 \n",
       "  \"/>\n",
       "<path clip-path=\"url(#clip490)\" d=\"M2020.29 279.633 L2020.29 263.939 L2024.55 263.939 L2024.55 279.471 Q2024.55 283.152 2025.99 285.004 Q2027.42 286.832 2030.29 286.832 Q2033.74 286.832 2035.73 284.633 Q2037.75 282.434 2037.75 278.638 L2037.75 263.939 L2042.01 263.939 L2042.01 289.865 L2037.75 289.865 L2037.75 285.883 Q2036.2 288.244 2034.14 289.402 Q2032.1 290.536 2029.39 290.536 Q2024.92 290.536 2022.61 287.758 Q2020.29 284.98 2020.29 279.633 M2031.01 263.314 L2031.01 263.314 Z\" fill=\"#000000\" fill-rule=\"evenodd\" fill-opacity=\"1\" /><path clip-path=\"url(#clip490)\" d=\"M2067.31 264.703 L2067.31 268.731 Q2065.5 267.805 2063.56 267.342 Q2061.61 266.879 2059.53 266.879 Q2056.36 266.879 2054.76 267.851 Q2053.19 268.823 2053.19 270.768 Q2053.19 272.249 2054.32 273.105 Q2055.46 273.939 2058.88 274.703 L2060.34 275.027 Q2064.88 275.999 2066.78 277.781 Q2068.7 279.541 2068.7 282.712 Q2068.7 286.323 2065.83 288.429 Q2062.98 290.536 2057.98 290.536 Q2055.9 290.536 2053.63 290.119 Q2051.38 289.726 2048.88 288.916 L2048.88 284.517 Q2051.24 285.744 2053.53 286.369 Q2055.83 286.971 2058.07 286.971 Q2061.08 286.971 2062.7 285.953 Q2064.32 284.911 2064.32 283.036 Q2064.32 281.3 2063.14 280.374 Q2061.98 279.448 2058.03 278.592 L2056.54 278.244 Q2052.59 277.411 2050.83 275.698 Q2049.07 273.962 2049.07 270.953 Q2049.07 267.295 2051.66 265.305 Q2054.25 263.314 2059.02 263.314 Q2061.38 263.314 2063.47 263.661 Q2065.55 264.008 2067.31 264.703 Z\" fill=\"#000000\" fill-rule=\"evenodd\" fill-opacity=\"1\" /><path clip-path=\"url(#clip490)\" d=\"M2075.48 263.939 L2079.74 263.939 L2079.74 289.865 L2075.48 289.865 L2075.48 263.939 M2075.48 253.846 L2079.74 253.846 L2079.74 259.24 L2075.48 259.24 L2075.48 253.846 Z\" fill=\"#000000\" fill-rule=\"evenodd\" fill-opacity=\"1\" /><path clip-path=\"url(#clip490)\" d=\"M2110.2 274.217 L2110.2 289.865 L2105.94 289.865 L2105.94 274.355 Q2105.94 270.675 2104.51 268.846 Q2103.07 267.018 2100.2 267.018 Q2096.75 267.018 2094.76 269.217 Q2092.77 271.416 2092.77 275.212 L2092.77 289.865 L2088.49 289.865 L2088.49 263.939 L2092.77 263.939 L2092.77 267.967 Q2094.3 265.629 2096.36 264.471 Q2098.44 263.314 2101.15 263.314 Q2105.62 263.314 2107.91 266.092 Q2110.2 268.846 2110.2 274.217 Z\" fill=\"#000000\" fill-rule=\"evenodd\" fill-opacity=\"1\" /><path clip-path=\"url(#clip490)\" d=\"M2135.76 276.601 Q2135.76 271.971 2133.84 269.425 Q2131.94 266.879 2128.49 266.879 Q2125.06 266.879 2123.14 269.425 Q2121.24 271.971 2121.24 276.601 Q2121.24 281.207 2123.14 283.754 Q2125.06 286.3 2128.49 286.3 Q2131.94 286.3 2133.84 283.754 Q2135.76 281.207 2135.76 276.601 M2140.02 286.647 Q2140.02 293.267 2137.08 296.485 Q2134.14 299.726 2128.07 299.726 Q2125.83 299.726 2123.84 299.378 Q2121.84 299.054 2119.97 298.36 L2119.97 294.216 Q2121.84 295.235 2123.67 295.721 Q2125.5 296.207 2127.4 296.207 Q2131.59 296.207 2133.67 294.008 Q2135.76 291.832 2135.76 287.411 L2135.76 285.304 Q2134.44 287.596 2132.38 288.73 Q2130.32 289.865 2127.45 289.865 Q2122.68 289.865 2119.76 286.23 Q2116.84 282.596 2116.84 276.601 Q2116.84 270.582 2119.76 266.948 Q2122.68 263.314 2127.45 263.314 Q2130.32 263.314 2132.38 264.448 Q2134.44 265.582 2135.76 267.874 L2135.76 263.939 L2140.02 263.939 L2140.02 286.647 Z\" fill=\"#000000\" fill-rule=\"evenodd\" fill-opacity=\"1\" /><path clip-path=\"url(#clip490)\" d=\"M2176.98 253.846 L2176.98 257.388 L2172.91 257.388 Q2170.62 257.388 2169.71 258.314 Q2168.84 259.24 2168.84 261.647 L2168.84 263.939 L2175.85 263.939 L2175.85 267.249 L2168.84 267.249 L2168.84 289.865 L2164.55 289.865 L2164.55 267.249 L2160.48 267.249 L2160.48 263.939 L2164.55 263.939 L2164.55 262.133 Q2164.55 257.805 2166.57 255.837 Q2168.58 253.846 2172.96 253.846 L2176.98 253.846 Z\" fill=\"#000000\" fill-rule=\"evenodd\" fill-opacity=\"1\" /><path clip-path=\"url(#clip490)\" d=\"M2180.55 263.939 L2184.81 263.939 L2184.81 289.865 L2180.55 289.865 L2180.55 263.939 M2180.55 253.846 L2184.81 253.846 L2184.81 259.24 L2180.55 259.24 L2180.55 253.846 Z\" fill=\"#000000\" fill-rule=\"evenodd\" fill-opacity=\"1\" /><path clip-path=\"url(#clip490)\" d=\"M2197.93 256.578 L2197.93 263.939 L2206.71 263.939 L2206.71 267.249 L2197.93 267.249 L2197.93 281.323 Q2197.93 284.494 2198.79 285.397 Q2199.67 286.3 2202.33 286.3 L2206.71 286.3 L2206.71 289.865 L2202.33 289.865 Q2197.4 289.865 2195.52 288.036 Q2193.65 286.184 2193.65 281.323 L2193.65 267.249 L2190.52 267.249 L2190.52 263.939 L2193.65 263.939 L2193.65 256.578 L2197.93 256.578 Z\" fill=\"#000000\" fill-rule=\"evenodd\" fill-opacity=\"1\" /></svg>\n"
      ]
     },
     "execution_count": 57,
     "metadata": {},
     "output_type": "execute_result"
    }
   ],
   "source": [
    "scatter(x_julia, y_julia_i, label =\"\")\n",
    "plot!(poly_aprox,  \n",
    "    extrema(x_julia)..., \n",
    "    label = \"using QR\",\n",
    "    color = :red,\n",
    "    title = \"Comparison\"\n",
    ")\n",
    "plot!(fit_aprox,  \n",
    "    extrema(x_julia)..., \n",
    "    label = \"using fit\",\n",
    "    color = :green\n",
    ")"
   ]
  },
  {
   "cell_type": "markdown",
   "metadata": {},
   "source": [
    "#### Zadanie 3 (2 pkt)\n",
    "\n",
    "Znajdź i zaprezentuj działanie innego zastosowania wybranej faktoryzacji. Przykładowe (ale nie jedyne!) tematy:\n",
    "\n",
    "-    tworzenie pseudoinversji macierzy (http://buzzard.ups.edu/courses/2014spring/420projects/math420-UPS-spring-2014-macausland-pseudo-inverse-present.pdf).\n",
    "\n",
    "-   uzycie faktoryzacji QR do znajdowania wartości własnych (https://en.wikipedia.org/wiki/QR_algorithm)\n",
    "\n",
    "-  zastosowanie faktoryzacji SVD - np. zastosowania w uczeniu maszynowym "
   ]
  },
  {
   "cell_type": "markdown",
   "metadata": {},
   "source": [
    "#### Użycie faktoryzacji QR do znajdowania wartości własnych\n",
    "Wyznaczanie wartości własnych macierzy za pomocą faktoryzacji $QR$ polega na wykonywaniu następujących kroków:\n",
    "- Wyznaczamy faktoryzację $QR$ macierzy $A$ jako $A = QR$\n",
    "- Podstawiamy $A = RQ$"
   ]
  },
  {
   "cell_type": "markdown",
   "metadata": {},
   "source": [
    "Powyższe kroki wykonujemy do momentu otrzymania macierzy trójkątnej górnej.\\\n",
    "Wartościami własnymi będą wartości na przekątnej głównej macierzy $A$."
   ]
  },
  {
   "cell_type": "code",
   "execution_count": 58,
   "metadata": {},
   "outputs": [
    {
     "data": {
      "text/plain": [
       "3-element Vector{Float64}:\n",
       " -2.0000000000000027\n",
       "  0.725082782364625\n",
       "  8.274917217635384"
      ]
     },
     "execution_count": 58,
     "metadata": {},
     "output_type": "execute_result"
    }
   ],
   "source": [
    "B = [1 2 3; 6 5 1; 3 2 1]\n",
    "\n",
    "BF = qr(B)\n",
    "\n",
    "function isuptriangular(A)\n",
    "    sz = size(A)[1]\n",
    "    for i in 2:sz\n",
    "        for j in 1:(i-1)\n",
    "            if A[i, j] != 0\n",
    "                return false\n",
    "            end\n",
    "        end\n",
    "    end\n",
    "    return true\n",
    "end\n",
    "\n",
    "function eigen(B)\n",
    "    while !isuptriangular(B)\n",
    "        BF = qr(B)\n",
    "        B = BF.R * BF.Q\n",
    "    end\n",
    "    diag(B)\n",
    "end\n",
    "\n",
    "eigen(B)\n",
    "\n",
    "eigvals(B)"
   ]
  }
 ],
 "metadata": {
  "kernelspec": {
   "display_name": "Julia 1.7.2",
   "language": "julia",
   "name": "julia-1.7"
  },
  "language_info": {
   "file_extension": ".jl",
   "mimetype": "application/julia",
   "name": "julia",
   "version": "1.7.2"
  }
 },
 "nbformat": 4,
 "nbformat_minor": 2
}
