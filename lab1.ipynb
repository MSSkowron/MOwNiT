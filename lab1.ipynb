{
 "cells": [
  {
   "cell_type": "markdown",
   "id": "39961a60",
   "metadata": {},
   "source": [
    "# ex.1"
   ]
  },
  {
   "cell_type": "code",
   "execution_count": 3,
   "id": "dbd29763",
   "metadata": {},
   "outputs": [
    {
     "name": "stdout",
     "output_type": "stream",
     "text": [
      "0011010101010101\n",
      "00111110101010101010101010101011\n",
      "0011111111010101010101010101010101010101010101010101010101010101\n",
      "0011111111010101010101000000000000000000000000000000000000000000\n"
     ]
    }
   ],
   "source": [
    "x = Float16(1/3)\n",
    "y = Float32(1/3)\n",
    "z = Float64(1/3)\n",
    "\n",
    "println(bitstring(x))\n",
    "println(bitstring(y))\n",
    "println(bitstring(z))\n",
    "\n",
    "a = Float16(1/3)\n",
    "a = convert(Float64,a)\n",
    "\n",
    "println(bitstring(a))"
   ]
  },
  {
   "cell_type": "markdown",
   "id": "b214f3eb",
   "metadata": {},
   "source": [
    "# ex.2"
   ]
  },
  {
   "cell_type": "code",
   "execution_count": 3,
   "id": "9d52b35b",
   "metadata": {
    "scrolled": true
   },
   "outputs": [
    {
     "data": {
      "image/svg+xml": [
       "<?xml version=\"1.0\" encoding=\"utf-8\"?>\n",
       "<svg xmlns=\"http://www.w3.org/2000/svg\" xmlns:xlink=\"http://www.w3.org/1999/xlink\" width=\"600\" height=\"400\" viewBox=\"0 0 2400 1600\">\n",
       "<defs>\n",
       "  <clipPath id=\"clip120\">\n",
       "    <rect x=\"0\" y=\"0\" width=\"2400\" height=\"1600\"/>\n",
       "  </clipPath>\n",
       "</defs>\n",
       "<path clip-path=\"url(#clip120)\" d=\"\n",
       "M0 1600 L2400 1600 L2400 0 L0 0  Z\n",
       "  \" fill=\"#ffffff\" fill-rule=\"evenodd\" fill-opacity=\"1\"/>\n",
       "<defs>\n",
       "  <clipPath id=\"clip121\">\n",
       "    <rect x=\"480\" y=\"0\" width=\"1681\" height=\"1600\"/>\n",
       "  </clipPath>\n",
       "</defs>\n",
       "<path clip-path=\"url(#clip120)\" d=\"\n",
       "M307.241 1486.45 L2352.76 1486.45 L2352.76 47.2441 L307.241 47.2441  Z\n",
       "  \" fill=\"#ffffff\" fill-rule=\"evenodd\" fill-opacity=\"1\"/>\n",
       "<defs>\n",
       "  <clipPath id=\"clip122\">\n",
       "    <rect x=\"307\" y=\"47\" width=\"2047\" height=\"1440\"/>\n",
       "  </clipPath>\n",
       "</defs>\n",
       "<polyline clip-path=\"url(#clip122)\" style=\"stroke:#000000; stroke-linecap:butt; stroke-linejoin:round; stroke-width:2; stroke-opacity:0.1; fill:none\" points=\"\n",
       "  345.641,1486.45 345.641,47.2441 \n",
       "  \"/>\n",
       "<polyline clip-path=\"url(#clip122)\" style=\"stroke:#000000; stroke-linecap:butt; stroke-linejoin:round; stroke-width:2; stroke-opacity:0.1; fill:none\" points=\"\n",
       "  832.947,1486.45 832.947,47.2441 \n",
       "  \"/>\n",
       "<polyline clip-path=\"url(#clip122)\" style=\"stroke:#000000; stroke-linecap:butt; stroke-linejoin:round; stroke-width:2; stroke-opacity:0.1; fill:none\" points=\"\n",
       "  1320.25,1486.45 1320.25,47.2441 \n",
       "  \"/>\n",
       "<polyline clip-path=\"url(#clip122)\" style=\"stroke:#000000; stroke-linecap:butt; stroke-linejoin:round; stroke-width:2; stroke-opacity:0.1; fill:none\" points=\"\n",
       "  1807.56,1486.45 1807.56,47.2441 \n",
       "  \"/>\n",
       "<polyline clip-path=\"url(#clip122)\" style=\"stroke:#000000; stroke-linecap:butt; stroke-linejoin:round; stroke-width:2; stroke-opacity:0.1; fill:none\" points=\"\n",
       "  2294.86,1486.45 2294.86,47.2441 \n",
       "  \"/>\n",
       "<polyline clip-path=\"url(#clip120)\" style=\"stroke:#000000; stroke-linecap:butt; stroke-linejoin:round; stroke-width:4; stroke-opacity:1; fill:none\" points=\"\n",
       "  307.241,1486.45 2352.76,1486.45 \n",
       "  \"/>\n",
       "<polyline clip-path=\"url(#clip120)\" style=\"stroke:#000000; stroke-linecap:butt; stroke-linejoin:round; stroke-width:4; stroke-opacity:1; fill:none\" points=\"\n",
       "  345.641,1486.45 345.641,1467.55 \n",
       "  \"/>\n",
       "<polyline clip-path=\"url(#clip120)\" style=\"stroke:#000000; stroke-linecap:butt; stroke-linejoin:round; stroke-width:4; stroke-opacity:1; fill:none\" points=\"\n",
       "  832.947,1486.45 832.947,1467.55 \n",
       "  \"/>\n",
       "<polyline clip-path=\"url(#clip120)\" style=\"stroke:#000000; stroke-linecap:butt; stroke-linejoin:round; stroke-width:4; stroke-opacity:1; fill:none\" points=\"\n",
       "  1320.25,1486.45 1320.25,1467.55 \n",
       "  \"/>\n",
       "<polyline clip-path=\"url(#clip120)\" style=\"stroke:#000000; stroke-linecap:butt; stroke-linejoin:round; stroke-width:4; stroke-opacity:1; fill:none\" points=\"\n",
       "  1807.56,1486.45 1807.56,1467.55 \n",
       "  \"/>\n",
       "<polyline clip-path=\"url(#clip120)\" style=\"stroke:#000000; stroke-linecap:butt; stroke-linejoin:round; stroke-width:4; stroke-opacity:1; fill:none\" points=\"\n",
       "  2294.86,1486.45 2294.86,1467.55 \n",
       "  \"/>\n",
       "<path clip-path=\"url(#clip120)\" d=\"M345.641 1517.37 Q342.03 1517.37 340.201 1520.93 Q338.396 1524.47 338.396 1531.6 Q338.396 1538.71 340.201 1542.27 Q342.03 1545.82 345.641 1545.82 Q349.275 1545.82 351.081 1542.27 Q352.909 1538.71 352.909 1531.6 Q352.909 1524.47 351.081 1520.93 Q349.275 1517.37 345.641 1517.37 M345.641 1513.66 Q351.451 1513.66 354.507 1518.27 Q357.585 1522.85 357.585 1531.6 Q357.585 1540.33 354.507 1544.94 Q351.451 1549.52 345.641 1549.52 Q339.831 1549.52 336.752 1544.94 Q333.697 1540.33 333.697 1531.6 Q333.697 1522.85 336.752 1518.27 Q339.831 1513.66 345.641 1513.66 Z\" fill=\"#000000\" fill-rule=\"evenodd\" fill-opacity=\"1\" /><path clip-path=\"url(#clip120)\" d=\"M812.218 1544.91 L828.537 1544.91 L828.537 1548.85 L806.593 1548.85 L806.593 1544.91 Q809.255 1542.16 813.838 1537.53 Q818.444 1532.88 819.625 1531.53 Q821.87 1529.01 822.75 1527.27 Q823.653 1525.51 823.653 1523.82 Q823.653 1521.07 821.708 1519.33 Q819.787 1517.6 816.685 1517.6 Q814.486 1517.6 812.032 1518.36 Q809.602 1519.13 806.824 1520.68 L806.824 1515.95 Q809.648 1514.82 812.102 1514.24 Q814.556 1513.66 816.593 1513.66 Q821.963 1513.66 825.157 1516.35 Q828.352 1519.03 828.352 1523.52 Q828.352 1525.65 827.542 1527.57 Q826.755 1529.47 824.648 1532.07 Q824.069 1532.74 820.968 1535.95 Q817.866 1539.15 812.218 1544.91 Z\" fill=\"#000000\" fill-rule=\"evenodd\" fill-opacity=\"1\" /><path clip-path=\"url(#clip120)\" d=\"M838.398 1514.29 L856.754 1514.29 L856.754 1518.22 L842.68 1518.22 L842.68 1526.7 Q843.699 1526.35 844.717 1526.19 Q845.736 1526 846.754 1526 Q852.541 1526 855.921 1529.17 Q859.301 1532.34 859.301 1537.76 Q859.301 1543.34 855.829 1546.44 Q852.356 1549.52 846.037 1549.52 Q843.861 1549.52 841.592 1549.15 Q839.347 1548.78 836.94 1548.04 L836.94 1543.34 Q839.023 1544.47 841.245 1545.03 Q843.467 1545.58 845.944 1545.58 Q849.949 1545.58 852.287 1543.48 Q854.625 1541.37 854.625 1537.76 Q854.625 1534.15 852.287 1532.04 Q849.949 1529.94 845.944 1529.94 Q844.069 1529.94 842.194 1530.35 Q840.342 1530.77 838.398 1531.65 L838.398 1514.29 Z\" fill=\"#000000\" fill-rule=\"evenodd\" fill-opacity=\"1\" /><path clip-path=\"url(#clip120)\" d=\"M1294.95 1514.29 L1313.31 1514.29 L1313.31 1518.22 L1299.23 1518.22 L1299.23 1526.7 Q1300.25 1526.35 1301.27 1526.19 Q1302.29 1526 1303.31 1526 Q1309.1 1526 1312.47 1529.17 Q1315.85 1532.34 1315.85 1537.76 Q1315.85 1543.34 1312.38 1546.44 Q1308.91 1549.52 1302.59 1549.52 Q1300.41 1549.52 1298.15 1549.15 Q1295.9 1548.78 1293.49 1548.04 L1293.49 1543.34 Q1295.58 1544.47 1297.8 1545.03 Q1300.02 1545.58 1302.5 1545.58 Q1306.5 1545.58 1308.84 1543.48 Q1311.18 1541.37 1311.18 1537.76 Q1311.18 1534.15 1308.84 1532.04 Q1306.5 1529.94 1302.5 1529.94 Q1300.62 1529.94 1298.75 1530.35 Q1296.9 1530.77 1294.95 1531.65 L1294.95 1514.29 Z\" fill=\"#000000\" fill-rule=\"evenodd\" fill-opacity=\"1\" /><path clip-path=\"url(#clip120)\" d=\"M1335.07 1517.37 Q1331.46 1517.37 1329.63 1520.93 Q1327.82 1524.47 1327.82 1531.6 Q1327.82 1538.71 1329.63 1542.27 Q1331.46 1545.82 1335.07 1545.82 Q1338.7 1545.82 1340.51 1542.27 Q1342.34 1538.71 1342.34 1531.6 Q1342.34 1524.47 1340.51 1520.93 Q1338.7 1517.37 1335.07 1517.37 M1335.07 1513.66 Q1340.88 1513.66 1343.93 1518.27 Q1347.01 1522.85 1347.01 1531.6 Q1347.01 1540.33 1343.93 1544.94 Q1340.88 1549.52 1335.07 1549.52 Q1329.26 1549.52 1326.18 1544.94 Q1323.12 1540.33 1323.12 1531.6 Q1323.12 1522.85 1326.18 1518.27 Q1329.26 1513.66 1335.07 1513.66 Z\" fill=\"#000000\" fill-rule=\"evenodd\" fill-opacity=\"1\" /><path clip-path=\"url(#clip120)\" d=\"M1781.41 1514.29 L1803.63 1514.29 L1803.63 1516.28 L1791.09 1548.85 L1786.2 1548.85 L1798.01 1518.22 L1781.41 1518.22 L1781.41 1514.29 Z\" fill=\"#000000\" fill-rule=\"evenodd\" fill-opacity=\"1\" /><path clip-path=\"url(#clip120)\" d=\"M1812.8 1514.29 L1831.16 1514.29 L1831.16 1518.22 L1817.08 1518.22 L1817.08 1526.7 Q1818.1 1526.35 1819.12 1526.19 Q1820.14 1526 1821.16 1526 Q1826.94 1526 1830.32 1529.17 Q1833.7 1532.34 1833.7 1537.76 Q1833.7 1543.34 1830.23 1546.44 Q1826.76 1549.52 1820.44 1549.52 Q1818.26 1549.52 1816 1549.15 Q1813.75 1548.78 1811.34 1548.04 L1811.34 1543.34 Q1813.43 1544.47 1815.65 1545.03 Q1817.87 1545.58 1820.35 1545.58 Q1824.35 1545.58 1826.69 1543.48 Q1829.03 1541.37 1829.03 1537.76 Q1829.03 1534.15 1826.69 1532.04 Q1824.35 1529.94 1820.35 1529.94 Q1818.47 1529.94 1816.6 1530.35 Q1814.75 1530.77 1812.8 1531.65 L1812.8 1514.29 Z\" fill=\"#000000\" fill-rule=\"evenodd\" fill-opacity=\"1\" /><path clip-path=\"url(#clip120)\" d=\"M2254.47 1544.91 L2262.11 1544.91 L2262.11 1518.55 L2253.8 1520.21 L2253.8 1515.95 L2262.06 1514.29 L2266.74 1514.29 L2266.74 1544.91 L2274.38 1544.91 L2274.38 1548.85 L2254.47 1548.85 L2254.47 1544.91 Z\" fill=\"#000000\" fill-rule=\"evenodd\" fill-opacity=\"1\" /><path clip-path=\"url(#clip120)\" d=\"M2293.82 1517.37 Q2290.21 1517.37 2288.38 1520.93 Q2286.58 1524.47 2286.58 1531.6 Q2286.58 1538.71 2288.38 1542.27 Q2290.21 1545.82 2293.82 1545.82 Q2297.46 1545.82 2299.26 1542.27 Q2301.09 1538.71 2301.09 1531.6 Q2301.09 1524.47 2299.26 1520.93 Q2297.46 1517.37 2293.82 1517.37 M2293.82 1513.66 Q2299.63 1513.66 2302.69 1518.27 Q2305.77 1522.85 2305.77 1531.6 Q2305.77 1540.33 2302.69 1544.94 Q2299.63 1549.52 2293.82 1549.52 Q2288.01 1549.52 2284.93 1544.94 Q2281.88 1540.33 2281.88 1531.6 Q2281.88 1522.85 2284.93 1518.27 Q2288.01 1513.66 2293.82 1513.66 Z\" fill=\"#000000\" fill-rule=\"evenodd\" fill-opacity=\"1\" /><path clip-path=\"url(#clip120)\" d=\"M2323.98 1517.37 Q2320.37 1517.37 2318.54 1520.93 Q2316.74 1524.47 2316.74 1531.6 Q2316.74 1538.71 2318.54 1542.27 Q2320.37 1545.82 2323.98 1545.82 Q2327.62 1545.82 2329.42 1542.27 Q2331.25 1538.71 2331.25 1531.6 Q2331.25 1524.47 2329.42 1520.93 Q2327.62 1517.37 2323.98 1517.37 M2323.98 1513.66 Q2329.79 1513.66 2332.85 1518.27 Q2335.93 1522.85 2335.93 1531.6 Q2335.93 1540.33 2332.85 1544.94 Q2329.79 1549.52 2323.98 1549.52 Q2318.17 1549.52 2315.1 1544.94 Q2312.04 1540.33 2312.04 1531.6 Q2312.04 1522.85 2315.1 1518.27 Q2318.17 1513.66 2323.98 1513.66 Z\" fill=\"#000000\" fill-rule=\"evenodd\" fill-opacity=\"1\" /><polyline clip-path=\"url(#clip122)\" style=\"stroke:#000000; stroke-linecap:butt; stroke-linejoin:round; stroke-width:2; stroke-opacity:0.1; fill:none\" points=\"\n",
       "  307.241,1467.27 2352.76,1467.27 \n",
       "  \"/>\n",
       "<polyline clip-path=\"url(#clip122)\" style=\"stroke:#000000; stroke-linecap:butt; stroke-linejoin:round; stroke-width:2; stroke-opacity:0.1; fill:none\" points=\"\n",
       "  307.241,1105.69 2352.76,1105.69 \n",
       "  \"/>\n",
       "<polyline clip-path=\"url(#clip122)\" style=\"stroke:#000000; stroke-linecap:butt; stroke-linejoin:round; stroke-width:2; stroke-opacity:0.1; fill:none\" points=\"\n",
       "  307.241,744.121 2352.76,744.121 \n",
       "  \"/>\n",
       "<polyline clip-path=\"url(#clip122)\" style=\"stroke:#000000; stroke-linecap:butt; stroke-linejoin:round; stroke-width:2; stroke-opacity:0.1; fill:none\" points=\"\n",
       "  307.241,382.549 2352.76,382.549 \n",
       "  \"/>\n",
       "<polyline clip-path=\"url(#clip120)\" style=\"stroke:#000000; stroke-linecap:butt; stroke-linejoin:round; stroke-width:4; stroke-opacity:1; fill:none\" points=\"\n",
       "  307.241,1486.45 307.241,47.2441 \n",
       "  \"/>\n",
       "<polyline clip-path=\"url(#clip120)\" style=\"stroke:#000000; stroke-linecap:butt; stroke-linejoin:round; stroke-width:4; stroke-opacity:1; fill:none\" points=\"\n",
       "  307.241,1467.27 326.139,1467.27 \n",
       "  \"/>\n",
       "<polyline clip-path=\"url(#clip120)\" style=\"stroke:#000000; stroke-linecap:butt; stroke-linejoin:round; stroke-width:4; stroke-opacity:1; fill:none\" points=\"\n",
       "  307.241,1105.69 326.139,1105.69 \n",
       "  \"/>\n",
       "<polyline clip-path=\"url(#clip120)\" style=\"stroke:#000000; stroke-linecap:butt; stroke-linejoin:round; stroke-width:4; stroke-opacity:1; fill:none\" points=\"\n",
       "  307.241,744.121 326.139,744.121 \n",
       "  \"/>\n",
       "<polyline clip-path=\"url(#clip120)\" style=\"stroke:#000000; stroke-linecap:butt; stroke-linejoin:round; stroke-width:4; stroke-opacity:1; fill:none\" points=\"\n",
       "  307.241,382.549 326.139,382.549 \n",
       "  \"/>\n",
       "<path clip-path=\"url(#clip120)\" d=\"M259.297 1453.07 Q255.686 1453.07 253.857 1456.63 Q252.052 1460.17 252.052 1467.3 Q252.052 1474.41 253.857 1477.97 Q255.686 1481.51 259.297 1481.51 Q262.931 1481.51 264.737 1477.97 Q266.565 1474.41 266.565 1467.3 Q266.565 1460.17 264.737 1456.63 Q262.931 1453.07 259.297 1453.07 M259.297 1449.36 Q265.107 1449.36 268.163 1453.97 Q271.241 1458.55 271.241 1467.3 Q271.241 1476.03 268.163 1480.64 Q265.107 1485.22 259.297 1485.22 Q253.487 1485.22 250.408 1480.64 Q247.352 1476.03 247.352 1467.3 Q247.352 1458.55 250.408 1453.97 Q253.487 1449.36 259.297 1449.36 Z\" fill=\"#000000\" fill-rule=\"evenodd\" fill-opacity=\"1\" /><path clip-path=\"url(#clip120)\" d=\"M57.7745 1125.49 L74.0939 1125.49 L74.0939 1129.42 L52.1495 1129.42 L52.1495 1125.49 Q54.8115 1122.73 59.3949 1118.1 Q64.0013 1113.45 65.1819 1112.11 Q67.4272 1109.58 68.3068 1107.85 Q69.2096 1106.09 69.2096 1104.4 Q69.2096 1101.64 67.2652 1099.91 Q65.3439 1098.17 62.2421 1098.17 Q60.043 1098.17 57.5893 1098.94 Q55.1588 1099.7 52.381 1101.25 L52.381 1096.53 Q55.2051 1095.39 57.6588 1094.82 Q60.1124 1094.24 62.1495 1094.24 Q67.5198 1094.24 70.7142 1096.92 Q73.9087 1099.61 73.9087 1104.1 Q73.9087 1106.23 73.0985 1108.15 Q72.3115 1110.05 70.205 1112.64 Q69.6263 1113.31 66.5245 1116.53 Q63.4226 1119.72 57.7745 1125.49 Z\" fill=\"#000000\" fill-rule=\"evenodd\" fill-opacity=\"1\" /><path clip-path=\"url(#clip120)\" d=\"M83.9086 1123.54 L88.7928 1123.54 L88.7928 1129.42 L83.9086 1129.42 L83.9086 1123.54 Z\" fill=\"#000000\" fill-rule=\"evenodd\" fill-opacity=\"1\" /><path clip-path=\"url(#clip120)\" d=\"M108.978 1097.94 Q105.367 1097.94 103.538 1101.51 Q101.733 1105.05 101.733 1112.18 Q101.733 1119.28 103.538 1122.85 Q105.367 1126.39 108.978 1126.39 Q112.612 1126.39 114.418 1122.85 Q116.246 1119.28 116.246 1112.18 Q116.246 1105.05 114.418 1101.51 Q112.612 1097.94 108.978 1097.94 M108.978 1094.24 Q114.788 1094.24 117.844 1098.84 Q120.922 1103.43 120.922 1112.18 Q120.922 1120.9 117.844 1125.51 Q114.788 1130.09 108.978 1130.09 Q103.168 1130.09 100.089 1125.51 Q97.0335 1120.9 97.0335 1112.18 Q97.0335 1103.43 100.089 1098.84 Q103.168 1094.24 108.978 1094.24 Z\" fill=\"#000000\" fill-rule=\"evenodd\" fill-opacity=\"1\" /><path clip-path=\"url(#clip120)\" d=\"M157.311 1103.96 L146.732 1114.58 L157.311 1125.16 L154.556 1127.96 L143.931 1117.34 L133.306 1127.96 L130.575 1125.16 L141.131 1114.58 L130.575 1103.96 L133.306 1101.16 L143.931 1111.78 L154.556 1101.16 L157.311 1103.96 Z\" fill=\"#000000\" fill-rule=\"evenodd\" fill-opacity=\"1\" /><path clip-path=\"url(#clip120)\" d=\"M169.672 1125.49 L177.311 1125.49 L177.311 1099.12 L169.001 1100.79 L169.001 1096.53 L177.265 1094.86 L181.94 1094.86 L181.94 1125.49 L189.579 1125.49 L189.579 1129.42 L169.672 1129.42 L169.672 1125.49 Z\" fill=\"#000000\" fill-rule=\"evenodd\" fill-opacity=\"1\" /><path clip-path=\"url(#clip120)\" d=\"M209.024 1097.94 Q205.413 1097.94 203.584 1101.51 Q201.778 1105.05 201.778 1112.18 Q201.778 1119.28 203.584 1122.85 Q205.413 1126.39 209.024 1126.39 Q212.658 1126.39 214.463 1122.85 Q216.292 1119.28 216.292 1112.18 Q216.292 1105.05 214.463 1101.51 Q212.658 1097.94 209.024 1097.94 M209.024 1094.24 Q214.834 1094.24 217.889 1098.84 Q220.968 1103.43 220.968 1112.18 Q220.968 1120.9 217.889 1125.51 Q214.834 1130.09 209.024 1130.09 Q203.214 1130.09 200.135 1125.51 Q197.079 1120.9 197.079 1112.18 Q197.079 1103.43 200.135 1098.84 Q203.214 1094.24 209.024 1094.24 Z\" fill=\"#000000\" fill-rule=\"evenodd\" fill-opacity=\"1\" /><path clip-path=\"url(#clip120)\" d=\"M220.968 1088.34 L245.08 1088.34 L245.08 1091.54 L220.968 1091.54 L220.968 1088.34 Z\" fill=\"#000000\" fill-rule=\"evenodd\" fill-opacity=\"1\" /><path clip-path=\"url(#clip120)\" d=\"M261.875 1086.46 Q259.317 1086.46 257.812 1088.21 Q256.327 1089.96 256.327 1093 Q256.327 1096.03 257.812 1097.8 Q259.317 1099.55 261.875 1099.55 Q264.433 1099.55 265.919 1097.8 Q267.423 1096.03 267.423 1093 Q267.423 1089.96 265.919 1088.21 Q264.433 1086.46 261.875 1086.46 M269.417 1074.55 L269.417 1078.01 Q267.987 1077.34 266.52 1076.98 Q265.072 1076.62 263.643 1076.62 Q259.881 1076.62 257.888 1079.16 Q255.913 1081.7 255.631 1086.83 Q256.74 1085.2 258.414 1084.33 Q260.088 1083.45 262.101 1083.45 Q266.332 1083.45 268.777 1086.02 Q271.241 1088.58 271.241 1093 Q271.241 1097.33 268.683 1099.94 Q266.126 1102.56 261.875 1102.56 Q257.004 1102.56 254.427 1098.83 Q251.85 1095.09 251.85 1088 Q251.85 1081.34 255.01 1077.39 Q258.17 1073.42 263.492 1073.42 Q264.922 1073.42 266.37 1073.71 Q267.837 1073.99 269.417 1074.55 Z\" fill=\"#000000\" fill-rule=\"evenodd\" fill-opacity=\"1\" /><path clip-path=\"url(#clip120)\" d=\"M66.5939 737.363 L54.7884 755.812 L66.5939 755.812 L66.5939 737.363 M65.367 733.289 L71.2466 733.289 L71.2466 755.812 L76.1772 755.812 L76.1772 759.701 L71.2466 759.701 L71.2466 767.849 L66.5939 767.849 L66.5939 759.701 L50.9921 759.701 L50.9921 755.187 L65.367 733.289 Z\" fill=\"#000000\" fill-rule=\"evenodd\" fill-opacity=\"1\" /><path clip-path=\"url(#clip120)\" d=\"M83.9086 761.969 L88.7928 761.969 L88.7928 767.849 L83.9086 767.849 L83.9086 761.969 Z\" fill=\"#000000\" fill-rule=\"evenodd\" fill-opacity=\"1\" /><path clip-path=\"url(#clip120)\" d=\"M108.978 736.368 Q105.367 736.368 103.538 739.933 Q101.733 743.474 101.733 750.604 Q101.733 757.71 103.538 761.275 Q105.367 764.817 108.978 764.817 Q112.612 764.817 114.418 761.275 Q116.246 757.71 116.246 750.604 Q116.246 743.474 114.418 739.933 Q112.612 736.368 108.978 736.368 M108.978 732.664 Q114.788 732.664 117.844 737.271 Q120.922 741.854 120.922 750.604 Q120.922 759.331 117.844 763.937 Q114.788 768.52 108.978 768.52 Q103.168 768.52 100.089 763.937 Q97.0335 759.331 97.0335 750.604 Q97.0335 741.854 100.089 737.271 Q103.168 732.664 108.978 732.664 Z\" fill=\"#000000\" fill-rule=\"evenodd\" fill-opacity=\"1\" /><path clip-path=\"url(#clip120)\" d=\"M157.311 742.386 L146.732 753.011 L157.311 763.59 L154.556 766.391 L143.931 755.766 L133.306 766.391 L130.575 763.59 L141.131 753.011 L130.575 742.386 L133.306 739.585 L143.931 750.21 L154.556 739.585 L157.311 742.386 Z\" fill=\"#000000\" fill-rule=\"evenodd\" fill-opacity=\"1\" /><path clip-path=\"url(#clip120)\" d=\"M169.672 763.914 L177.311 763.914 L177.311 737.548 L169.001 739.215 L169.001 734.956 L177.265 733.289 L181.94 733.289 L181.94 763.914 L189.579 763.914 L189.579 767.849 L169.672 767.849 L169.672 763.914 Z\" fill=\"#000000\" fill-rule=\"evenodd\" fill-opacity=\"1\" /><path clip-path=\"url(#clip120)\" d=\"M209.024 736.368 Q205.413 736.368 203.584 739.933 Q201.778 743.474 201.778 750.604 Q201.778 757.71 203.584 761.275 Q205.413 764.817 209.024 764.817 Q212.658 764.817 214.463 761.275 Q216.292 757.71 216.292 750.604 Q216.292 743.474 214.463 739.933 Q212.658 736.368 209.024 736.368 M209.024 732.664 Q214.834 732.664 217.889 737.271 Q220.968 741.854 220.968 750.604 Q220.968 759.331 217.889 763.937 Q214.834 768.52 209.024 768.52 Q203.214 768.52 200.135 763.937 Q197.079 759.331 197.079 750.604 Q197.079 741.854 200.135 737.271 Q203.214 732.664 209.024 732.664 Z\" fill=\"#000000\" fill-rule=\"evenodd\" fill-opacity=\"1\" /><path clip-path=\"url(#clip120)\" d=\"M220.968 726.765 L245.08 726.765 L245.08 729.963 L220.968 729.963 L220.968 726.765 Z\" fill=\"#000000\" fill-rule=\"evenodd\" fill-opacity=\"1\" /><path clip-path=\"url(#clip120)\" d=\"M261.875 724.885 Q259.317 724.885 257.812 726.634 Q256.327 728.383 256.327 731.43 Q256.327 734.458 257.812 736.226 Q259.317 737.975 261.875 737.975 Q264.433 737.975 265.919 736.226 Q267.423 734.458 267.423 731.43 Q267.423 728.383 265.919 726.634 Q264.433 724.885 261.875 724.885 M269.417 712.979 L269.417 716.44 Q267.987 715.763 266.52 715.406 Q265.072 715.048 263.643 715.048 Q259.881 715.048 257.888 717.587 Q255.913 720.126 255.631 725.261 Q256.74 723.625 258.414 722.759 Q260.088 721.875 262.101 721.875 Q266.332 721.875 268.777 724.452 Q271.241 727.01 271.241 731.43 Q271.241 735.756 268.683 738.37 Q266.126 740.984 261.875 740.984 Q257.004 740.984 254.427 737.26 Q251.85 733.517 251.85 726.427 Q251.85 719.769 255.01 715.819 Q258.17 711.851 263.492 711.851 Q264.922 711.851 266.37 712.133 Q267.837 712.415 269.417 712.979 Z\" fill=\"#000000\" fill-rule=\"evenodd\" fill-opacity=\"1\" /><path clip-path=\"url(#clip120)\" d=\"M64.3254 387.133 Q61.1773 387.133 59.3254 389.286 Q57.4967 391.438 57.4967 395.188 Q57.4967 398.915 59.3254 401.091 Q61.1773 403.244 64.3254 403.244 Q67.4735 403.244 69.3022 401.091 Q71.1541 398.915 71.1541 395.188 Q71.1541 391.438 69.3022 389.286 Q67.4735 387.133 64.3254 387.133 M73.6077 372.48 L73.6077 376.739 Q71.8485 375.906 70.0429 375.466 Q68.2606 375.026 66.5013 375.026 Q61.8717 375.026 59.418 378.151 Q56.9875 381.276 56.6402 387.596 Q58.006 385.582 60.0662 384.517 Q62.1263 383.429 64.6032 383.429 Q69.8115 383.429 72.8207 386.6 Q75.8531 389.749 75.8531 395.188 Q75.8531 400.512 72.705 403.73 Q69.5568 406.948 64.3254 406.948 Q58.33 406.948 55.1588 402.364 Q51.9875 397.758 51.9875 389.031 Q51.9875 380.837 55.8764 375.975 Q59.7652 371.091 66.3161 371.091 Q68.0754 371.091 69.8578 371.438 Q71.6633 371.786 73.6077 372.48 Z\" fill=\"#000000\" fill-rule=\"evenodd\" fill-opacity=\"1\" /><path clip-path=\"url(#clip120)\" d=\"M83.9086 400.397 L88.7928 400.397 L88.7928 406.276 L83.9086 406.276 L83.9086 400.397 Z\" fill=\"#000000\" fill-rule=\"evenodd\" fill-opacity=\"1\" /><path clip-path=\"url(#clip120)\" d=\"M108.978 374.795 Q105.367 374.795 103.538 378.36 Q101.733 381.901 101.733 389.031 Q101.733 396.137 103.538 399.702 Q105.367 403.244 108.978 403.244 Q112.612 403.244 114.418 399.702 Q116.246 396.137 116.246 389.031 Q116.246 381.901 114.418 378.36 Q112.612 374.795 108.978 374.795 M108.978 371.091 Q114.788 371.091 117.844 375.698 Q120.922 380.281 120.922 389.031 Q120.922 397.758 117.844 402.364 Q114.788 406.948 108.978 406.948 Q103.168 406.948 100.089 402.364 Q97.0335 397.758 97.0335 389.031 Q97.0335 380.281 100.089 375.698 Q103.168 371.091 108.978 371.091 Z\" fill=\"#000000\" fill-rule=\"evenodd\" fill-opacity=\"1\" /><path clip-path=\"url(#clip120)\" d=\"M157.311 380.813 L146.732 391.438 L157.311 402.017 L154.556 404.818 L143.931 394.193 L133.306 404.818 L130.575 402.017 L141.131 391.438 L130.575 380.813 L133.306 378.013 L143.931 388.637 L154.556 378.013 L157.311 380.813 Z\" fill=\"#000000\" fill-rule=\"evenodd\" fill-opacity=\"1\" /><path clip-path=\"url(#clip120)\" d=\"M169.672 402.341 L177.311 402.341 L177.311 375.975 L169.001 377.642 L169.001 373.383 L177.265 371.716 L181.94 371.716 L181.94 402.341 L189.579 402.341 L189.579 406.276 L169.672 406.276 L169.672 402.341 Z\" fill=\"#000000\" fill-rule=\"evenodd\" fill-opacity=\"1\" /><path clip-path=\"url(#clip120)\" d=\"M209.024 374.795 Q205.413 374.795 203.584 378.36 Q201.778 381.901 201.778 389.031 Q201.778 396.137 203.584 399.702 Q205.413 403.244 209.024 403.244 Q212.658 403.244 214.463 399.702 Q216.292 396.137 216.292 389.031 Q216.292 381.901 214.463 378.36 Q212.658 374.795 209.024 374.795 M209.024 371.091 Q214.834 371.091 217.889 375.698 Q220.968 380.281 220.968 389.031 Q220.968 397.758 217.889 402.364 Q214.834 406.948 209.024 406.948 Q203.214 406.948 200.135 402.364 Q197.079 397.758 197.079 389.031 Q197.079 380.281 200.135 375.698 Q203.214 371.091 209.024 371.091 Z\" fill=\"#000000\" fill-rule=\"evenodd\" fill-opacity=\"1\" /><path clip-path=\"url(#clip120)\" d=\"M220.968 365.193 L245.08 365.193 L245.08 368.39 L220.968 368.39 L220.968 365.193 Z\" fill=\"#000000\" fill-rule=\"evenodd\" fill-opacity=\"1\" /><path clip-path=\"url(#clip120)\" d=\"M261.875 363.312 Q259.317 363.312 257.812 365.061 Q256.327 366.81 256.327 369.857 Q256.327 372.885 257.812 374.653 Q259.317 376.402 261.875 376.402 Q264.433 376.402 265.919 374.653 Q267.423 372.885 267.423 369.857 Q267.423 366.81 265.919 365.061 Q264.433 363.312 261.875 363.312 M269.417 351.407 L269.417 354.867 Q267.987 354.19 266.52 353.833 Q265.072 353.475 263.643 353.475 Q259.881 353.475 257.888 356.014 Q255.913 358.553 255.631 363.688 Q256.74 362.052 258.414 361.187 Q260.088 360.303 262.101 360.303 Q266.332 360.303 268.777 362.879 Q271.241 365.437 271.241 369.857 Q271.241 374.183 268.683 376.797 Q266.126 379.411 261.875 379.411 Q257.004 379.411 254.427 375.687 Q251.85 371.945 251.85 364.854 Q251.85 358.196 255.01 354.246 Q258.17 350.278 263.492 350.278 Q264.922 350.278 266.37 350.56 Q267.837 350.842 269.417 351.407 Z\" fill=\"#000000\" fill-rule=\"evenodd\" fill-opacity=\"1\" /><circle clip-path=\"url(#clip122)\" cx=\"365.133\" cy=\"1445.72\" r=\"14\" fill=\"#009af9\" fill-rule=\"evenodd\" fill-opacity=\"1\" stroke=\"#000000\" stroke-opacity=\"1\" stroke-width=\"3.2\"/>\n",
       "<circle clip-path=\"url(#clip122)\" cx=\"384.625\" cy=\"1424.16\" r=\"14\" fill=\"#009af9\" fill-rule=\"evenodd\" fill-opacity=\"1\" stroke=\"#000000\" stroke-opacity=\"1\" stroke-width=\"3.2\"/>\n",
       "<circle clip-path=\"url(#clip122)\" cx=\"404.118\" cy=\"1424.16\" r=\"14\" fill=\"#009af9\" fill-rule=\"evenodd\" fill-opacity=\"1\" stroke=\"#000000\" stroke-opacity=\"1\" stroke-width=\"3.2\"/>\n",
       "<circle clip-path=\"url(#clip122)\" cx=\"423.61\" cy=\"1381.06\" r=\"14\" fill=\"#009af9\" fill-rule=\"evenodd\" fill-opacity=\"1\" stroke=\"#000000\" stroke-opacity=\"1\" stroke-width=\"3.2\"/>\n",
       "<circle clip-path=\"url(#clip122)\" cx=\"443.102\" cy=\"1381.06\" r=\"14\" fill=\"#009af9\" fill-rule=\"evenodd\" fill-opacity=\"1\" stroke=\"#000000\" stroke-opacity=\"1\" stroke-width=\"3.2\"/>\n",
       "<circle clip-path=\"url(#clip122)\" cx=\"462.594\" cy=\"1381.06\" r=\"14\" fill=\"#009af9\" fill-rule=\"evenodd\" fill-opacity=\"1\" stroke=\"#000000\" stroke-opacity=\"1\" stroke-width=\"3.2\"/>\n",
       "<circle clip-path=\"url(#clip122)\" cx=\"482.087\" cy=\"1381.06\" r=\"14\" fill=\"#009af9\" fill-rule=\"evenodd\" fill-opacity=\"1\" stroke=\"#000000\" stroke-opacity=\"1\" stroke-width=\"3.2\"/>\n",
       "<circle clip-path=\"url(#clip122)\" cx=\"501.579\" cy=\"1294.86\" r=\"14\" fill=\"#009af9\" fill-rule=\"evenodd\" fill-opacity=\"1\" stroke=\"#000000\" stroke-opacity=\"1\" stroke-width=\"3.2\"/>\n",
       "<circle clip-path=\"url(#clip122)\" cx=\"521.071\" cy=\"1294.86\" r=\"14\" fill=\"#009af9\" fill-rule=\"evenodd\" fill-opacity=\"1\" stroke=\"#000000\" stroke-opacity=\"1\" stroke-width=\"3.2\"/>\n",
       "<circle clip-path=\"url(#clip122)\" cx=\"540.563\" cy=\"1294.86\" r=\"14\" fill=\"#009af9\" fill-rule=\"evenodd\" fill-opacity=\"1\" stroke=\"#000000\" stroke-opacity=\"1\" stroke-width=\"3.2\"/>\n",
       "<circle clip-path=\"url(#clip122)\" cx=\"560.055\" cy=\"1294.86\" r=\"14\" fill=\"#009af9\" fill-rule=\"evenodd\" fill-opacity=\"1\" stroke=\"#000000\" stroke-opacity=\"1\" stroke-width=\"3.2\"/>\n",
       "<circle clip-path=\"url(#clip122)\" cx=\"579.548\" cy=\"1294.86\" r=\"14\" fill=\"#009af9\" fill-rule=\"evenodd\" fill-opacity=\"1\" stroke=\"#000000\" stroke-opacity=\"1\" stroke-width=\"3.2\"/>\n",
       "<circle clip-path=\"url(#clip122)\" cx=\"599.04\" cy=\"1294.86\" r=\"14\" fill=\"#009af9\" fill-rule=\"evenodd\" fill-opacity=\"1\" stroke=\"#000000\" stroke-opacity=\"1\" stroke-width=\"3.2\"/>\n",
       "<circle clip-path=\"url(#clip122)\" cx=\"618.532\" cy=\"1294.86\" r=\"14\" fill=\"#009af9\" fill-rule=\"evenodd\" fill-opacity=\"1\" stroke=\"#000000\" stroke-opacity=\"1\" stroke-width=\"3.2\"/>\n",
       "<circle clip-path=\"url(#clip122)\" cx=\"638.024\" cy=\"1294.86\" r=\"14\" fill=\"#009af9\" fill-rule=\"evenodd\" fill-opacity=\"1\" stroke=\"#000000\" stroke-opacity=\"1\" stroke-width=\"3.2\"/>\n",
       "<circle clip-path=\"url(#clip122)\" cx=\"657.517\" cy=\"1122.44\" r=\"14\" fill=\"#009af9\" fill-rule=\"evenodd\" fill-opacity=\"1\" stroke=\"#000000\" stroke-opacity=\"1\" stroke-width=\"3.2\"/>\n",
       "<circle clip-path=\"url(#clip122)\" cx=\"677.009\" cy=\"1122.44\" r=\"14\" fill=\"#009af9\" fill-rule=\"evenodd\" fill-opacity=\"1\" stroke=\"#000000\" stroke-opacity=\"1\" stroke-width=\"3.2\"/>\n",
       "<circle clip-path=\"url(#clip122)\" cx=\"696.501\" cy=\"1122.44\" r=\"14\" fill=\"#009af9\" fill-rule=\"evenodd\" fill-opacity=\"1\" stroke=\"#000000\" stroke-opacity=\"1\" stroke-width=\"3.2\"/>\n",
       "<circle clip-path=\"url(#clip122)\" cx=\"715.993\" cy=\"1122.44\" r=\"14\" fill=\"#009af9\" fill-rule=\"evenodd\" fill-opacity=\"1\" stroke=\"#000000\" stroke-opacity=\"1\" stroke-width=\"3.2\"/>\n",
       "<circle clip-path=\"url(#clip122)\" cx=\"735.486\" cy=\"1122.44\" r=\"14\" fill=\"#009af9\" fill-rule=\"evenodd\" fill-opacity=\"1\" stroke=\"#000000\" stroke-opacity=\"1\" stroke-width=\"3.2\"/>\n",
       "<circle clip-path=\"url(#clip122)\" cx=\"754.978\" cy=\"1122.44\" r=\"14\" fill=\"#009af9\" fill-rule=\"evenodd\" fill-opacity=\"1\" stroke=\"#000000\" stroke-opacity=\"1\" stroke-width=\"3.2\"/>\n",
       "<circle clip-path=\"url(#clip122)\" cx=\"774.47\" cy=\"1122.44\" r=\"14\" fill=\"#009af9\" fill-rule=\"evenodd\" fill-opacity=\"1\" stroke=\"#000000\" stroke-opacity=\"1\" stroke-width=\"3.2\"/>\n",
       "<circle clip-path=\"url(#clip122)\" cx=\"793.962\" cy=\"1122.44\" r=\"14\" fill=\"#009af9\" fill-rule=\"evenodd\" fill-opacity=\"1\" stroke=\"#000000\" stroke-opacity=\"1\" stroke-width=\"3.2\"/>\n",
       "<circle clip-path=\"url(#clip122)\" cx=\"813.454\" cy=\"1122.44\" r=\"14\" fill=\"#009af9\" fill-rule=\"evenodd\" fill-opacity=\"1\" stroke=\"#000000\" stroke-opacity=\"1\" stroke-width=\"3.2\"/>\n",
       "<circle clip-path=\"url(#clip122)\" cx=\"832.947\" cy=\"1122.44\" r=\"14\" fill=\"#009af9\" fill-rule=\"evenodd\" fill-opacity=\"1\" stroke=\"#000000\" stroke-opacity=\"1\" stroke-width=\"3.2\"/>\n",
       "<circle clip-path=\"url(#clip122)\" cx=\"852.439\" cy=\"1122.44\" r=\"14\" fill=\"#009af9\" fill-rule=\"evenodd\" fill-opacity=\"1\" stroke=\"#000000\" stroke-opacity=\"1\" stroke-width=\"3.2\"/>\n",
       "<circle clip-path=\"url(#clip122)\" cx=\"871.931\" cy=\"1122.44\" r=\"14\" fill=\"#009af9\" fill-rule=\"evenodd\" fill-opacity=\"1\" stroke=\"#000000\" stroke-opacity=\"1\" stroke-width=\"3.2\"/>\n",
       "<circle clip-path=\"url(#clip122)\" cx=\"891.423\" cy=\"1122.44\" r=\"14\" fill=\"#009af9\" fill-rule=\"evenodd\" fill-opacity=\"1\" stroke=\"#000000\" stroke-opacity=\"1\" stroke-width=\"3.2\"/>\n",
       "<circle clip-path=\"url(#clip122)\" cx=\"910.916\" cy=\"1122.44\" r=\"14\" fill=\"#009af9\" fill-rule=\"evenodd\" fill-opacity=\"1\" stroke=\"#000000\" stroke-opacity=\"1\" stroke-width=\"3.2\"/>\n",
       "<circle clip-path=\"url(#clip122)\" cx=\"930.408\" cy=\"1122.44\" r=\"14\" fill=\"#009af9\" fill-rule=\"evenodd\" fill-opacity=\"1\" stroke=\"#000000\" stroke-opacity=\"1\" stroke-width=\"3.2\"/>\n",
       "<circle clip-path=\"url(#clip122)\" cx=\"949.9\" cy=\"1122.44\" r=\"14\" fill=\"#009af9\" fill-rule=\"evenodd\" fill-opacity=\"1\" stroke=\"#000000\" stroke-opacity=\"1\" stroke-width=\"3.2\"/>\n",
       "<circle clip-path=\"url(#clip122)\" cx=\"969.392\" cy=\"777.622\" r=\"14\" fill=\"#009af9\" fill-rule=\"evenodd\" fill-opacity=\"1\" stroke=\"#000000\" stroke-opacity=\"1\" stroke-width=\"3.2\"/>\n",
       "<circle clip-path=\"url(#clip122)\" cx=\"988.885\" cy=\"777.622\" r=\"14\" fill=\"#009af9\" fill-rule=\"evenodd\" fill-opacity=\"1\" stroke=\"#000000\" stroke-opacity=\"1\" stroke-width=\"3.2\"/>\n",
       "<circle clip-path=\"url(#clip122)\" cx=\"1008.38\" cy=\"777.622\" r=\"14\" fill=\"#009af9\" fill-rule=\"evenodd\" fill-opacity=\"1\" stroke=\"#000000\" stroke-opacity=\"1\" stroke-width=\"3.2\"/>\n",
       "<circle clip-path=\"url(#clip122)\" cx=\"1027.87\" cy=\"777.622\" r=\"14\" fill=\"#009af9\" fill-rule=\"evenodd\" fill-opacity=\"1\" stroke=\"#000000\" stroke-opacity=\"1\" stroke-width=\"3.2\"/>\n",
       "<circle clip-path=\"url(#clip122)\" cx=\"1047.36\" cy=\"777.622\" r=\"14\" fill=\"#009af9\" fill-rule=\"evenodd\" fill-opacity=\"1\" stroke=\"#000000\" stroke-opacity=\"1\" stroke-width=\"3.2\"/>\n",
       "<circle clip-path=\"url(#clip122)\" cx=\"1066.85\" cy=\"777.622\" r=\"14\" fill=\"#009af9\" fill-rule=\"evenodd\" fill-opacity=\"1\" stroke=\"#000000\" stroke-opacity=\"1\" stroke-width=\"3.2\"/>\n",
       "<circle clip-path=\"url(#clip122)\" cx=\"1086.35\" cy=\"777.622\" r=\"14\" fill=\"#009af9\" fill-rule=\"evenodd\" fill-opacity=\"1\" stroke=\"#000000\" stroke-opacity=\"1\" stroke-width=\"3.2\"/>\n",
       "<circle clip-path=\"url(#clip122)\" cx=\"1105.84\" cy=\"777.622\" r=\"14\" fill=\"#009af9\" fill-rule=\"evenodd\" fill-opacity=\"1\" stroke=\"#000000\" stroke-opacity=\"1\" stroke-width=\"3.2\"/>\n",
       "<circle clip-path=\"url(#clip122)\" cx=\"1125.33\" cy=\"777.622\" r=\"14\" fill=\"#009af9\" fill-rule=\"evenodd\" fill-opacity=\"1\" stroke=\"#000000\" stroke-opacity=\"1\" stroke-width=\"3.2\"/>\n",
       "<circle clip-path=\"url(#clip122)\" cx=\"1144.82\" cy=\"777.622\" r=\"14\" fill=\"#009af9\" fill-rule=\"evenodd\" fill-opacity=\"1\" stroke=\"#000000\" stroke-opacity=\"1\" stroke-width=\"3.2\"/>\n",
       "<circle clip-path=\"url(#clip122)\" cx=\"1164.31\" cy=\"777.622\" r=\"14\" fill=\"#009af9\" fill-rule=\"evenodd\" fill-opacity=\"1\" stroke=\"#000000\" stroke-opacity=\"1\" stroke-width=\"3.2\"/>\n",
       "<circle clip-path=\"url(#clip122)\" cx=\"1183.81\" cy=\"777.622\" r=\"14\" fill=\"#009af9\" fill-rule=\"evenodd\" fill-opacity=\"1\" stroke=\"#000000\" stroke-opacity=\"1\" stroke-width=\"3.2\"/>\n",
       "<circle clip-path=\"url(#clip122)\" cx=\"1203.3\" cy=\"777.622\" r=\"14\" fill=\"#009af9\" fill-rule=\"evenodd\" fill-opacity=\"1\" stroke=\"#000000\" stroke-opacity=\"1\" stroke-width=\"3.2\"/>\n",
       "<circle clip-path=\"url(#clip122)\" cx=\"1222.79\" cy=\"777.622\" r=\"14\" fill=\"#009af9\" fill-rule=\"evenodd\" fill-opacity=\"1\" stroke=\"#000000\" stroke-opacity=\"1\" stroke-width=\"3.2\"/>\n",
       "<circle clip-path=\"url(#clip122)\" cx=\"1242.28\" cy=\"777.622\" r=\"14\" fill=\"#009af9\" fill-rule=\"evenodd\" fill-opacity=\"1\" stroke=\"#000000\" stroke-opacity=\"1\" stroke-width=\"3.2\"/>\n",
       "<circle clip-path=\"url(#clip122)\" cx=\"1261.78\" cy=\"777.622\" r=\"14\" fill=\"#009af9\" fill-rule=\"evenodd\" fill-opacity=\"1\" stroke=\"#000000\" stroke-opacity=\"1\" stroke-width=\"3.2\"/>\n",
       "<circle clip-path=\"url(#clip122)\" cx=\"1281.27\" cy=\"777.622\" r=\"14\" fill=\"#009af9\" fill-rule=\"evenodd\" fill-opacity=\"1\" stroke=\"#000000\" stroke-opacity=\"1\" stroke-width=\"3.2\"/>\n",
       "<circle clip-path=\"url(#clip122)\" cx=\"1300.76\" cy=\"777.622\" r=\"14\" fill=\"#009af9\" fill-rule=\"evenodd\" fill-opacity=\"1\" stroke=\"#000000\" stroke-opacity=\"1\" stroke-width=\"3.2\"/>\n",
       "<circle clip-path=\"url(#clip122)\" cx=\"1320.25\" cy=\"777.622\" r=\"14\" fill=\"#009af9\" fill-rule=\"evenodd\" fill-opacity=\"1\" stroke=\"#000000\" stroke-opacity=\"1\" stroke-width=\"3.2\"/>\n",
       "<circle clip-path=\"url(#clip122)\" cx=\"1339.74\" cy=\"777.622\" r=\"14\" fill=\"#009af9\" fill-rule=\"evenodd\" fill-opacity=\"1\" stroke=\"#000000\" stroke-opacity=\"1\" stroke-width=\"3.2\"/>\n",
       "<circle clip-path=\"url(#clip122)\" cx=\"1359.24\" cy=\"777.622\" r=\"14\" fill=\"#009af9\" fill-rule=\"evenodd\" fill-opacity=\"1\" stroke=\"#000000\" stroke-opacity=\"1\" stroke-width=\"3.2\"/>\n",
       "<circle clip-path=\"url(#clip122)\" cx=\"1378.73\" cy=\"777.622\" r=\"14\" fill=\"#009af9\" fill-rule=\"evenodd\" fill-opacity=\"1\" stroke=\"#000000\" stroke-opacity=\"1\" stroke-width=\"3.2\"/>\n",
       "<circle clip-path=\"url(#clip122)\" cx=\"1398.22\" cy=\"777.622\" r=\"14\" fill=\"#009af9\" fill-rule=\"evenodd\" fill-opacity=\"1\" stroke=\"#000000\" stroke-opacity=\"1\" stroke-width=\"3.2\"/>\n",
       "<circle clip-path=\"url(#clip122)\" cx=\"1417.71\" cy=\"777.622\" r=\"14\" fill=\"#009af9\" fill-rule=\"evenodd\" fill-opacity=\"1\" stroke=\"#000000\" stroke-opacity=\"1\" stroke-width=\"3.2\"/>\n",
       "<circle clip-path=\"url(#clip122)\" cx=\"1437.21\" cy=\"777.622\" r=\"14\" fill=\"#009af9\" fill-rule=\"evenodd\" fill-opacity=\"1\" stroke=\"#000000\" stroke-opacity=\"1\" stroke-width=\"3.2\"/>\n",
       "<circle clip-path=\"url(#clip122)\" cx=\"1456.7\" cy=\"777.622\" r=\"14\" fill=\"#009af9\" fill-rule=\"evenodd\" fill-opacity=\"1\" stroke=\"#000000\" stroke-opacity=\"1\" stroke-width=\"3.2\"/>\n",
       "<circle clip-path=\"url(#clip122)\" cx=\"1476.19\" cy=\"777.622\" r=\"14\" fill=\"#009af9\" fill-rule=\"evenodd\" fill-opacity=\"1\" stroke=\"#000000\" stroke-opacity=\"1\" stroke-width=\"3.2\"/>\n",
       "<circle clip-path=\"url(#clip122)\" cx=\"1495.68\" cy=\"777.622\" r=\"14\" fill=\"#009af9\" fill-rule=\"evenodd\" fill-opacity=\"1\" stroke=\"#000000\" stroke-opacity=\"1\" stroke-width=\"3.2\"/>\n",
       "<circle clip-path=\"url(#clip122)\" cx=\"1515.17\" cy=\"777.622\" r=\"14\" fill=\"#009af9\" fill-rule=\"evenodd\" fill-opacity=\"1\" stroke=\"#000000\" stroke-opacity=\"1\" stroke-width=\"3.2\"/>\n",
       "<circle clip-path=\"url(#clip122)\" cx=\"1534.67\" cy=\"777.622\" r=\"14\" fill=\"#009af9\" fill-rule=\"evenodd\" fill-opacity=\"1\" stroke=\"#000000\" stroke-opacity=\"1\" stroke-width=\"3.2\"/>\n",
       "<circle clip-path=\"url(#clip122)\" cx=\"1554.16\" cy=\"777.622\" r=\"14\" fill=\"#009af9\" fill-rule=\"evenodd\" fill-opacity=\"1\" stroke=\"#000000\" stroke-opacity=\"1\" stroke-width=\"3.2\"/>\n",
       "<circle clip-path=\"url(#clip122)\" cx=\"1573.65\" cy=\"777.622\" r=\"14\" fill=\"#009af9\" fill-rule=\"evenodd\" fill-opacity=\"1\" stroke=\"#000000\" stroke-opacity=\"1\" stroke-width=\"3.2\"/>\n",
       "<circle clip-path=\"url(#clip122)\" cx=\"1593.14\" cy=\"87.9763\" r=\"14\" fill=\"#009af9\" fill-rule=\"evenodd\" fill-opacity=\"1\" stroke=\"#000000\" stroke-opacity=\"1\" stroke-width=\"3.2\"/>\n",
       "<circle clip-path=\"url(#clip122)\" cx=\"1612.64\" cy=\"87.9763\" r=\"14\" fill=\"#009af9\" fill-rule=\"evenodd\" fill-opacity=\"1\" stroke=\"#000000\" stroke-opacity=\"1\" stroke-width=\"3.2\"/>\n",
       "<circle clip-path=\"url(#clip122)\" cx=\"1632.13\" cy=\"87.9763\" r=\"14\" fill=\"#009af9\" fill-rule=\"evenodd\" fill-opacity=\"1\" stroke=\"#000000\" stroke-opacity=\"1\" stroke-width=\"3.2\"/>\n",
       "<circle clip-path=\"url(#clip122)\" cx=\"1651.62\" cy=\"87.9763\" r=\"14\" fill=\"#009af9\" fill-rule=\"evenodd\" fill-opacity=\"1\" stroke=\"#000000\" stroke-opacity=\"1\" stroke-width=\"3.2\"/>\n",
       "<circle clip-path=\"url(#clip122)\" cx=\"1671.11\" cy=\"87.9763\" r=\"14\" fill=\"#009af9\" fill-rule=\"evenodd\" fill-opacity=\"1\" stroke=\"#000000\" stroke-opacity=\"1\" stroke-width=\"3.2\"/>\n",
       "<circle clip-path=\"url(#clip122)\" cx=\"1690.6\" cy=\"87.9763\" r=\"14\" fill=\"#009af9\" fill-rule=\"evenodd\" fill-opacity=\"1\" stroke=\"#000000\" stroke-opacity=\"1\" stroke-width=\"3.2\"/>\n",
       "<circle clip-path=\"url(#clip122)\" cx=\"1710.1\" cy=\"87.9763\" r=\"14\" fill=\"#009af9\" fill-rule=\"evenodd\" fill-opacity=\"1\" stroke=\"#000000\" stroke-opacity=\"1\" stroke-width=\"3.2\"/>\n",
       "<circle clip-path=\"url(#clip122)\" cx=\"1729.59\" cy=\"87.9763\" r=\"14\" fill=\"#009af9\" fill-rule=\"evenodd\" fill-opacity=\"1\" stroke=\"#000000\" stroke-opacity=\"1\" stroke-width=\"3.2\"/>\n",
       "<circle clip-path=\"url(#clip122)\" cx=\"1749.08\" cy=\"87.9763\" r=\"14\" fill=\"#009af9\" fill-rule=\"evenodd\" fill-opacity=\"1\" stroke=\"#000000\" stroke-opacity=\"1\" stroke-width=\"3.2\"/>\n",
       "<circle clip-path=\"url(#clip122)\" cx=\"1768.57\" cy=\"87.9763\" r=\"14\" fill=\"#009af9\" fill-rule=\"evenodd\" fill-opacity=\"1\" stroke=\"#000000\" stroke-opacity=\"1\" stroke-width=\"3.2\"/>\n",
       "<circle clip-path=\"url(#clip122)\" cx=\"1788.07\" cy=\"87.9763\" r=\"14\" fill=\"#009af9\" fill-rule=\"evenodd\" fill-opacity=\"1\" stroke=\"#000000\" stroke-opacity=\"1\" stroke-width=\"3.2\"/>\n",
       "<circle clip-path=\"url(#clip122)\" cx=\"1807.56\" cy=\"87.9763\" r=\"14\" fill=\"#009af9\" fill-rule=\"evenodd\" fill-opacity=\"1\" stroke=\"#000000\" stroke-opacity=\"1\" stroke-width=\"3.2\"/>\n",
       "<circle clip-path=\"url(#clip122)\" cx=\"1827.05\" cy=\"87.9763\" r=\"14\" fill=\"#009af9\" fill-rule=\"evenodd\" fill-opacity=\"1\" stroke=\"#000000\" stroke-opacity=\"1\" stroke-width=\"3.2\"/>\n",
       "<circle clip-path=\"url(#clip122)\" cx=\"1846.54\" cy=\"87.9763\" r=\"14\" fill=\"#009af9\" fill-rule=\"evenodd\" fill-opacity=\"1\" stroke=\"#000000\" stroke-opacity=\"1\" stroke-width=\"3.2\"/>\n",
       "<circle clip-path=\"url(#clip122)\" cx=\"1866.03\" cy=\"87.9763\" r=\"14\" fill=\"#009af9\" fill-rule=\"evenodd\" fill-opacity=\"1\" stroke=\"#000000\" stroke-opacity=\"1\" stroke-width=\"3.2\"/>\n",
       "<circle clip-path=\"url(#clip122)\" cx=\"1885.53\" cy=\"87.9763\" r=\"14\" fill=\"#009af9\" fill-rule=\"evenodd\" fill-opacity=\"1\" stroke=\"#000000\" stroke-opacity=\"1\" stroke-width=\"3.2\"/>\n",
       "<circle clip-path=\"url(#clip122)\" cx=\"1905.02\" cy=\"87.9763\" r=\"14\" fill=\"#009af9\" fill-rule=\"evenodd\" fill-opacity=\"1\" stroke=\"#000000\" stroke-opacity=\"1\" stroke-width=\"3.2\"/>\n",
       "<circle clip-path=\"url(#clip122)\" cx=\"1924.51\" cy=\"87.9763\" r=\"14\" fill=\"#009af9\" fill-rule=\"evenodd\" fill-opacity=\"1\" stroke=\"#000000\" stroke-opacity=\"1\" stroke-width=\"3.2\"/>\n",
       "<circle clip-path=\"url(#clip122)\" cx=\"1944\" cy=\"87.9763\" r=\"14\" fill=\"#009af9\" fill-rule=\"evenodd\" fill-opacity=\"1\" stroke=\"#000000\" stroke-opacity=\"1\" stroke-width=\"3.2\"/>\n",
       "<circle clip-path=\"url(#clip122)\" cx=\"1963.5\" cy=\"87.9763\" r=\"14\" fill=\"#009af9\" fill-rule=\"evenodd\" fill-opacity=\"1\" stroke=\"#000000\" stroke-opacity=\"1\" stroke-width=\"3.2\"/>\n",
       "<circle clip-path=\"url(#clip122)\" cx=\"1982.99\" cy=\"87.9763\" r=\"14\" fill=\"#009af9\" fill-rule=\"evenodd\" fill-opacity=\"1\" stroke=\"#000000\" stroke-opacity=\"1\" stroke-width=\"3.2\"/>\n",
       "<circle clip-path=\"url(#clip122)\" cx=\"2002.48\" cy=\"87.9763\" r=\"14\" fill=\"#009af9\" fill-rule=\"evenodd\" fill-opacity=\"1\" stroke=\"#000000\" stroke-opacity=\"1\" stroke-width=\"3.2\"/>\n",
       "<circle clip-path=\"url(#clip122)\" cx=\"2021.97\" cy=\"87.9763\" r=\"14\" fill=\"#009af9\" fill-rule=\"evenodd\" fill-opacity=\"1\" stroke=\"#000000\" stroke-opacity=\"1\" stroke-width=\"3.2\"/>\n",
       "<circle clip-path=\"url(#clip122)\" cx=\"2041.46\" cy=\"87.9763\" r=\"14\" fill=\"#009af9\" fill-rule=\"evenodd\" fill-opacity=\"1\" stroke=\"#000000\" stroke-opacity=\"1\" stroke-width=\"3.2\"/>\n",
       "<circle clip-path=\"url(#clip122)\" cx=\"2060.96\" cy=\"87.9763\" r=\"14\" fill=\"#009af9\" fill-rule=\"evenodd\" fill-opacity=\"1\" stroke=\"#000000\" stroke-opacity=\"1\" stroke-width=\"3.2\"/>\n",
       "<circle clip-path=\"url(#clip122)\" cx=\"2080.45\" cy=\"87.9763\" r=\"14\" fill=\"#009af9\" fill-rule=\"evenodd\" fill-opacity=\"1\" stroke=\"#000000\" stroke-opacity=\"1\" stroke-width=\"3.2\"/>\n",
       "<circle clip-path=\"url(#clip122)\" cx=\"2099.94\" cy=\"87.9763\" r=\"14\" fill=\"#009af9\" fill-rule=\"evenodd\" fill-opacity=\"1\" stroke=\"#000000\" stroke-opacity=\"1\" stroke-width=\"3.2\"/>\n",
       "<circle clip-path=\"url(#clip122)\" cx=\"2119.43\" cy=\"87.9763\" r=\"14\" fill=\"#009af9\" fill-rule=\"evenodd\" fill-opacity=\"1\" stroke=\"#000000\" stroke-opacity=\"1\" stroke-width=\"3.2\"/>\n",
       "<circle clip-path=\"url(#clip122)\" cx=\"2138.93\" cy=\"87.9763\" r=\"14\" fill=\"#009af9\" fill-rule=\"evenodd\" fill-opacity=\"1\" stroke=\"#000000\" stroke-opacity=\"1\" stroke-width=\"3.2\"/>\n",
       "<circle clip-path=\"url(#clip122)\" cx=\"2158.42\" cy=\"87.9763\" r=\"14\" fill=\"#009af9\" fill-rule=\"evenodd\" fill-opacity=\"1\" stroke=\"#000000\" stroke-opacity=\"1\" stroke-width=\"3.2\"/>\n",
       "<circle clip-path=\"url(#clip122)\" cx=\"2177.91\" cy=\"87.9763\" r=\"14\" fill=\"#009af9\" fill-rule=\"evenodd\" fill-opacity=\"1\" stroke=\"#000000\" stroke-opacity=\"1\" stroke-width=\"3.2\"/>\n",
       "<circle clip-path=\"url(#clip122)\" cx=\"2197.4\" cy=\"87.9763\" r=\"14\" fill=\"#009af9\" fill-rule=\"evenodd\" fill-opacity=\"1\" stroke=\"#000000\" stroke-opacity=\"1\" stroke-width=\"3.2\"/>\n",
       "<circle clip-path=\"url(#clip122)\" cx=\"2216.9\" cy=\"87.9763\" r=\"14\" fill=\"#009af9\" fill-rule=\"evenodd\" fill-opacity=\"1\" stroke=\"#000000\" stroke-opacity=\"1\" stroke-width=\"3.2\"/>\n",
       "<circle clip-path=\"url(#clip122)\" cx=\"2236.39\" cy=\"87.9763\" r=\"14\" fill=\"#009af9\" fill-rule=\"evenodd\" fill-opacity=\"1\" stroke=\"#000000\" stroke-opacity=\"1\" stroke-width=\"3.2\"/>\n",
       "<circle clip-path=\"url(#clip122)\" cx=\"2255.88\" cy=\"87.9763\" r=\"14\" fill=\"#009af9\" fill-rule=\"evenodd\" fill-opacity=\"1\" stroke=\"#000000\" stroke-opacity=\"1\" stroke-width=\"3.2\"/>\n",
       "<circle clip-path=\"url(#clip122)\" cx=\"2275.37\" cy=\"87.9763\" r=\"14\" fill=\"#009af9\" fill-rule=\"evenodd\" fill-opacity=\"1\" stroke=\"#000000\" stroke-opacity=\"1\" stroke-width=\"3.2\"/>\n",
       "<circle clip-path=\"url(#clip122)\" cx=\"2294.86\" cy=\"87.9763\" r=\"14\" fill=\"#009af9\" fill-rule=\"evenodd\" fill-opacity=\"1\" stroke=\"#000000\" stroke-opacity=\"1\" stroke-width=\"3.2\"/>\n",
       "<path clip-path=\"url(#clip120)\" d=\"\n",
       "M2004.86 198.898 L2284.57 198.898 L2284.57 95.2176 L2004.86 95.2176  Z\n",
       "  \" fill=\"#ffffff\" fill-rule=\"evenodd\" fill-opacity=\"1\"/>\n",
       "<polyline clip-path=\"url(#clip120)\" style=\"stroke:#000000; stroke-linecap:butt; stroke-linejoin:round; stroke-width:4; stroke-opacity:1; fill:none\" points=\"\n",
       "  2004.86,198.898 2284.57,198.898 2284.57,95.2176 2004.86,95.2176 2004.86,198.898 \n",
       "  \"/>\n",
       "<circle clip-path=\"url(#clip120)\" cx=\"2095.77\" cy=\"147.058\" r=\"23\" fill=\"#009af9\" fill-rule=\"evenodd\" fill-opacity=\"1\" stroke=\"#000000\" stroke-opacity=\"1\" stroke-width=\"5.12\"/>\n",
       "<path clip-path=\"url(#clip120)\" d=\"M2200.53 166.745 Q2198.72 171.375 2197.01 172.787 Q2195.3 174.199 2192.43 174.199 L2189.02 174.199 L2189.02 170.634 L2191.52 170.634 Q2193.28 170.634 2194.26 169.8 Q2195.23 168.967 2196.41 165.865 L2197.17 163.921 L2186.69 138.412 L2191.2 138.412 L2199.3 158.689 L2207.4 138.412 L2211.92 138.412 L2200.53 166.745 Z\" fill=\"#000000\" fill-rule=\"evenodd\" fill-opacity=\"1\" /><path clip-path=\"url(#clip120)\" d=\"M2219.21 160.402 L2226.85 160.402 L2226.85 134.037 L2218.54 135.703 L2218.54 131.444 L2226.8 129.778 L2231.48 129.778 L2231.48 160.402 L2239.12 160.402 L2239.12 164.338 L2219.21 164.338 L2219.21 160.402 Z\" fill=\"#000000\" fill-rule=\"evenodd\" fill-opacity=\"1\" /></svg>\n"
      ]
     },
     "execution_count": 3,
     "metadata": {},
     "output_type": "execute_result"
    }
   ],
   "source": [
    "\n",
    "using Plots\n",
    "array = Float32[]\n",
    "r = 1:100\n",
    "for i = r\n",
    "    push!(array, eps(Float32(i)))\n",
    "    \n",
    "end\n",
    "scatter(1:1:100, array)"
   ]
  },
  {
   "cell_type": "markdown",
   "id": "bb93cdc0",
   "metadata": {},
   "source": [
    "# ex.3"
   ]
  },
  {
   "cell_type": "markdown",
   "id": "645086b3",
   "metadata": {},
   "source": [
    "```C\n",
    "#include <stdio.h>\n",
    "#include <gsl/gsl_ieee_utils.h>\n",
    "\n",
    "int\n",
    "main (void)\n",
    "{\n",
    "    float f = 1.0f;\n",
    "\n",
    "    for(int i = 1;i<=127;i++){\n",
    "        f = f/2.0;\n",
    "        printf (\" f=\"); gsl_ieee_printf_float(&f);\n",
    "        printf (\"\\n\");\n",
    "    }\n",
    "\n",
    "    return 0;\n",
    "}\n",
    "```\n",
    "\n",
    "![ss](https://drive.google.com/uc?export=view&id=1dGesr0XzAaZkN1NVotlo9b33ZedLcgxf)\n",
    "![ss](https://drive.google.com/uc?export=view&id=1lMwasI5iKSUqE7j1Tn5MCDFmjBMWzmlE)\n"
   ]
  },
  {
   "cell_type": "markdown",
   "id": "ab79fe22",
   "metadata": {},
   "source": [
    "# ex.4"
   ]
  },
  {
   "cell_type": "markdown",
   "id": "2ec55d37",
   "metadata": {},
   "source": [
    "Algorytmem niestabilnym numerycznie jest aproksymacja wartości funkcji $e^{x}$ używając szeregu Maclaurina:\\\n",
    "$e^{x} = \\sum_{n = 0}^{\\infty} \\frac{x^{n}}{n!} = 1 + x + \\frac{x^{2}}{2!} + \\frac{x^{3}}{3!} + ...$ \\\n",
    "Niestabilność algorytmu jest widoczna, gdy będziemy próbować obliczyć wartość funkcji dla x ujemnego.\\\n",
    "Weźmy na przykład x = - 5.5 i wykonajmy obliczenia dla 25 wyrazów szeregu."
   ]
  },
  {
   "cell_type": "code",
   "execution_count": 1,
   "id": "6172b819",
   "metadata": {},
   "outputs": [
    {
     "data": {
      "text/plain": [
       "count_ex2 (generic function with 1 method)"
      ]
     },
     "execution_count": 1,
     "metadata": {},
     "output_type": "execute_result"
    }
   ],
   "source": [
    "function count_ex1(n,x)\n",
    "    local result::Float16 = 0\n",
    "    for i=0:n\n",
    "        result += x^i / factorial(big(i))\n",
    "        println(x^i / factorial(big(i)))\n",
    "    end\n",
    "    return result\n",
    "end\n",
    "function count_ex2(n,x)\n",
    "    local result::Float16 = 0\n",
    "    for i=0:n\n",
    "        result += x^i / factorial(big(i))\n",
    "    end\n",
    "    return result\n",
    "end"
   ]
  },
  {
   "cell_type": "code",
   "execution_count": 2,
   "id": "3da53b0f",
   "metadata": {},
   "outputs": [
    {
     "name": "stdout",
     "output_type": "stream",
     "text": [
      "1.0\n",
      "-5.5\n",
      "15.125\n",
      "-27.72916666666666666666666666666666666666666666666666666666666666666666666666657\n",
      "38.12760416666666666666666666666666666666666666666666666666666666666666666666685\n",
      "-41.94036458333333333333333333333333333333333333333333333333333333333333333333337\n",
      "38.44533420138888888888888888888888888888888888888888888888888888888888888888888\n",
      "-30.20704830109126984126984126984126984126984126984126984126984126984126984126983\n",
      "20.76734570700024801587301587301587301587301587301587301587301587301587301587292\n",
      "-12.69115570983348489858906525573192239858906525573192239858906525573192239858909\n",
      "6.98013564040841669422398589065255731922398589065255731922398589065255731922399\n",
      "-3.490067820204208347111992945326278659611992945326278659611992945326278659611995\n",
      "1.599614417593595492426330099941211052322163433274544385655496766607877718988825\n",
      "-0.6767599459049827083342165807443585221362999140776918554696332474110251888029679\n",
      "0.2658699787483860639884422281495694194106892519590932289344987757686170384583076\n",
      "-0.09748565887440822346242881698817545378391939238500085060931621778182624743471342\n",
      "0.03351069523807782608591954140069219434298799378164457529536894616259695624775002\n",
      "-0.01084169551820164961603279280610629816979023328229677436026642375848725055074255\n",
      "0.003312740297228281712722642595749245816680197840069196018983341319683263868345298\n",
      "-0.0009589511386713447865940902527694489443451536410877392234197464411707353848472799\n",
      "0.0002637115631346198323693030355747424381245681045653016247621861147323313996350969\n",
      "-6.906731415430518318218097068341952953800725181315537449327330885325536510680216e-05\n",
      "1.726682853857629713006395153844087539683642932865909512019154017209860335895272e-05\n",
      "-4.129024215746505758086671955274354666644385774223102369502428420354897204256697e-06\n",
      "9.462347161085741717586928125723056491574728812125889066885957420422116681372312e-07\n",
      "-2.081716375438863466692496928083480577675864559037682392105828219708118526350672e-07\n",
      "\n",
      "Aproksymacja poprzez funkcję: 0.001228\n",
      "Prawdziwa wartość: 0.004086771438464067\n",
      "Różnica wartości: 0.0028584389189328166\n",
      "Błąd względny: 0.6994369423329202 %\n"
     ]
    }
   ],
   "source": [
    "x = -5.5\n",
    "result_f = count_ex1(25,x)\n",
    "result_r = exp(x)\n",
    "println()\n",
    "println(\"Aproksymacja poprzez funkcję: \",result_f)\n",
    "println(\"Prawdziwa wartość: \",result_r)\n",
    "println(\"Różnica wartości: \",abs(result_r-result_f))\n",
    "println(\"Błąd względny: \",(abs(result_f - result_r))/exp(x),\" %\")"
   ]
  },
  {
   "cell_type": "markdown",
   "id": "1072f6e1",
   "metadata": {},
   "source": [
    "Błąd względny wynosi 0.7% co wskazuje na znaczącą różnicę pomiędzy wartością prawdziwą, a aproksymowaną przez szereg Maclaruina.\\\n",
    "Przyczyną błędu obliczeń jest *catastrophic cancellation* , czyli odejmowanie bliskich liczb, którego wynikiem jest mała liczba.\\\n",
    "Ta liczba jest normalizowana, mantysę przesuwamy w lewo, a pojawiające się miejsca po prawej stronie zapełniane są zerami lub przypadkowymi wartościami.\\\n",
    "Aby nasz algorytm stał się algorytmem stabilnym należy zastosować przekształcenie (dla ujemnych x):\\\n",
    "$e^{-x} = \\frac{1}{e^{x}}$ \\\n",
    "Dzięki takiemu przekształceniu pozbędziemy się powodującego błędy odejmowania:\\\n",
    "$e^{-x} = \\frac{1}{e^{x}} = \\frac{1}{1 + x + \\frac{x^{2}}{2!} + \\frac{x^{3}}{3!} + ...}$ \\\n",
    "Dla wcześniej liczonego x = - 5.5 otrzymujemy:\\\n",
    "$e^{-5.5} = \\frac{1}{1 + 5.5 + 15.125 + 27.729 + 38.128 + ...}$"
   ]
  },
  {
   "cell_type": "code",
   "execution_count": 3,
   "id": "eba64683",
   "metadata": {},
   "outputs": [
    {
     "name": "stdout",
     "output_type": "stream",
     "text": [
      "Aproksymacja poprzez funkcję: 0.004086\n",
      "Prawdziwa wartość: 0.004086771438464067\n",
      "Różnica wartości: 1.230666979691597e-6\n",
      "Błąd względny: 0.000301134281234509 %\n"
     ]
    }
   ],
   "source": [
    "x = -5.5\n",
    "result_f = 1/count_ex2(25,abs(x))\n",
    "result_r = exp(x)\n",
    "println(\"Aproksymacja poprzez funkcję: \",result_f)\n",
    "println(\"Prawdziwa wartość: \",result_r)\n",
    "println(\"Różnica wartości: \",abs(result_r-result_f))\n",
    "println(\"Błąd względny: \",(abs(result_f - result_r))/exp(x),\" %\")"
   ]
  },
  {
   "cell_type": "markdown",
   "id": "9c716548",
   "metadata": {},
   "source": [
    "Przekształcając nasz algorytm aproksymacja różni się od prawdziwej wartości o liczbę rzędu $10^{-6}$ , gdzie wcześniej było to $10^{-3}$.\\\n",
    "Błąd względny zmalał z 0.7% do 0.0003%.\\\n",
    "Powyższe wartości świadczą o znaczącej poprawie dokładności algorytmu."
   ]
  }
 ],
 "metadata": {
  "kernelspec": {
   "display_name": "Julia 1.7.2",
   "language": "julia",
   "name": "julia-1.7"
  },
  "language_info": {
   "file_extension": ".jl",
   "mimetype": "application/julia",
   "name": "julia",
   "version": "1.7.2"
  }
 },
 "nbformat": 4,
 "nbformat_minor": 5
}
